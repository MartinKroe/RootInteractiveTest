{
 "cells": [
  {
   "cell_type": "code",
   "execution_count": null,
   "metadata": {},
   "outputs": [],
   "source": [
    "from RootInteractive.Tools.aliTreePlayer import *\n",
    "from RootInteractive.InteractiveDrawing.bokeh.bokehTools import *\n",
    "from RootInteractive.InteractiveDrawing.bokeh.bokehDrawSA import *\n",
    "from ROOT import TFile, AliTreePlayer, TStatToolkit,TCanvas\n",
    "from bokeh.io import curdoc,output_notebook\n",
    "output_notebook()\n",
    "import warnings\n",
    "c = TCanvas(\"canvas\",\"canvas\")"
   ]
  },
  {
   "cell_type": "markdown",
   "metadata": {},
   "source": [
    "# Load tree  and reference trees for eta normalization"
   ]
  },
  {
   "cell_type": "code",
   "execution_count": null,
   "metadata": {},
   "outputs": [],
   "source": [
    "ROOT.TFile.SetCacheFileDir(\"../data/\")\n",
    "tree, treeList, fileList = LoadTrees(\"cat mapParam.list\",\".*\",\"xxx\",\".*\",0)\n",
    "treeEta0, treeList0, fileList0 = LoadTrees(\"cat mapParam.list\",\".*\",\"xxx\",\".*\",0)\n",
    "#+\n",
    "tree.SetAlias(\"indexN0\",       \"corr+10*(sign+1)+100*it+1000*cent\")\n",
    "treeEta0.SetAlias(\"indexN0\",   \"corr+10*(sign+1)+100*it+1000*cent\")\n",
    "tree.SetAlias(\"indexEta0\",       \"100*(0+1)+20000*p\")\n",
    "treeEta0.SetAlias(\"indexEta0\",   \"100*(eta+1)+20000*p\")\n",
    "#\n",
    "tree.BuildIndex(\"indexN0\",\"indexEta0\")\n",
    "treeEta0.BuildIndex(\"indexN0\",\"indexEta0\")\n",
    "tree.AddFriend(treeEta0,\"Eta0\")"
   ]
  },
  {
   "cell_type": "code",
   "execution_count": null,
   "metadata": {},
   "outputs": [],
   "source": [
    "#tree.GetListOfFriends().Print()\n",
    "tree.SetAlias(\"ptCorr\",\"1+eta*0.03*sqrt(1+1/mpt**2)\")\n",
    "tree.SetAlias(\"elMaxRatioEta0\",\"elMax/Eta0.elMax\")\n",
    "tree.SetAlias(\"piMaxRatioEta0\",\"piMax/Eta0.piMax\")\n",
    "tree.SetAlias(\"pielMaxRatioEta0\",\"(piMax/Eta0.piMax)/(elMax/Eta0.elMax)\")\n",
    "tree.SetAlias(\"elMRatioEta0\",\"elM/Eta0.elM\")\n",
    "tree.SetAlias(\"piMRatioEta0\",\"piM/Eta0.piM\")\n",
    "tree.SetAlias(\"pielMRatioEta0\",\"(piM/Eta0.piM)/(elM/Eta0.elM)\")\n",
    "tree.SetAlias(\"piMRatioEta0Corr\",\"(piM/Eta0.piM)/ptCorr\")\n",
    "tree.SetAlias(\"mp\",\"1/p\")\n",
    "tree.SetAlias(\"mpt\",\"1/(p*sqrt(1+eta**2))\")\n"
   ]
  },
  {
   "cell_type": "code",
   "execution_count": null,
   "metadata": {},
   "outputs": [],
   "source": [
    "query = \"it==5&corr==1&eta>0\"\n",
    "figureArray= [\n",
    "                [['mpt'], ['elMRatioEta0'], {'colorZvar':'eta'}],\n",
    "                [['mpt'], ['piMRatioEta0'], {'colorZvar':'eta'}],\n",
    "                [['mpt'], ['pielMRatioEta0'], {'colorZvar':'eta'}],\n",
    "#                [['mpt'], ['piMRatioEta0Corr'], {'colorZvar':'eta'}],\n",
    "                ['table']             \n",
    "            ]\n",
    "tooltips=[('mp', '(@mq)'), ('eta', '(@eta)'),('cent', '(@cent)'),  \n",
    "          ('elMaxRatioEta0', '(@elMaxRatioEta0)'),('piMaxRatioEta0', '(@piMaxRatioEta0)')\n",
    "         ]\n",
    "figureLayout= '((0,1,2),(3,plot_height=300),commonX=0, commonY=0,x_visible=1,y_visible=1,plot_height=300,plot_width=1400)'\n",
    "widgets=\"query.xx(),slider.p(0,2,0.1,-0.,2),slider.eta(-1,1,0.1,-1,1), slider.cent(0,80,10,0)\"\n",
    "output_file(\"mptMRatioEta0.html\")\n",
    "#warnings.filterwarnings('ignore')\n",
    "#output=bokehDrawSA.fromArray(tree,query,figureArray,widgets,tooltips=tooltips, layout=figureLayout)\n",
    "output=bokehDrawSA.fromArray(tree,query,figureArray,widgets, layout=figureLayout)"
   ]
  },
  {
   "cell_type": "code",
   "execution_count": null,
   "metadata": {},
   "outputs": [],
   "source": [
    "query = \"it==5&corr==1&eta>0\"\n",
    "figureArray= [\n",
    "                [['p'], ['elMRatioEta0'], {'colorZvar':'eta'}],\n",
    "                [['p'], ['piMRatioEta0'], {'colorZvar':'eta'}],\n",
    "                [['p'], ['pielMRatioEta0'], {'colorZvar':'eta'}],\n",
    "#                [['mpt'], ['piMRatioEta0Corr'], {'colorZvar':'eta'}],\n",
    "                ['table']             \n",
    "            ]\n",
    "tooltips=[('mp', '(@mq)'), ('eta', '(@eta)'),('cent', '(@cent)'),  \n",
    "          ('elMaxRatioEta0', '(@elMaxRatioEta0)'),('piMaxRatioEta0', '(@piMaxRatioEta0)')\n",
    "         ]\n",
    "figureLayout= '((0,1,2),(3,plot_height=300),commonX=0, commonY=0,x_visible=1,y_visible=1,plot_height=300,plot_width=1400)'\n",
    "widgets=\"query.xx(),slider.p(0,2,0.1,-0.,2),slider.eta(-1,1,0.1,-1,1), slider.cent(0,80,10,0)\"\n",
    "output_file(\"pMRatioEta0.html\")\n",
    "#warnings.filterwarnings('ignore')\n",
    "#output=bokehDrawSA.fromArray(tree,query,figureArray,widgets,tooltips=tooltips, layout=figureLayout)\n",
    "output=bokehDrawSA.fromArray(tree,query,figureArray,widgets, layout=figureLayout)"
   ]
  },
  {
   "cell_type": "code",
   "execution_count": null,
   "metadata": {},
   "outputs": [],
   "source": [
    "tree.Draw(\"piMax/Eta0.piMax:p:eta\",\"it==5&&corr==1&&eta>0&&elMax/Eta0.elMax>0.8\",\"colz\",1000000)\n",
    "c.Draw()"
   ]
  },
  {
   "cell_type": "code",
   "execution_count": null,
   "metadata": {},
   "outputs": [],
   "source": [
    " tree.Draw(\"eta:Eta0.eta\",\"it==5&&corr==1\",\"\")     "
   ]
  }
 ],
 "metadata": {
  "kernelspec": {
   "display_name": "Python 3",
   "language": "python",
   "name": "python3"
  },
  "language_info": {
   "codemirror_mode": {
    "name": "ipython",
    "version": 3
   },
   "file_extension": ".py",
   "mimetype": "text/x-python",
   "name": "python",
   "nbconvert_exporter": "python",
   "pygments_lexer": "ipython3",
   "version": "3.6.8"
  }
 },
 "nbformat": 4,
 "nbformat_minor": 2
}
