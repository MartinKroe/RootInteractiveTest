{
 "cells": [
  {
   "cell_type": "markdown",
   "metadata": {},
   "source": [
    "# dEdx correction fits"
   ]
  },
  {
   "cell_type": "code",
   "execution_count": null,
   "metadata": {},
   "outputs": [],
   "source": [
    "from RootInteractive.Tools.aliTreePlayer import *\n",
    "from TTreeHnInteractive.TTreeHnBrowser import *\n",
    "#from InteractiveDrawing.bokeh.bokehTools import *\n",
    "#from MLpipeline.NDFunctionInterface import  DataContainer, Fitter\n",
    "#from InteractiveDrawing.bokeh.bokehDrawPanda import *\n",
    "from RootInteractive.InteractiveDrawing.bokeh.bokehDrawSA import *\n",
    "from RootInteractive.MLpipeline.NDFunctionInterface import  DataContainer, Fitter\n",
    "from pprint import pprint\n",
    "import uproot\n",
    "output_notebook()\n",
    "p3 = figure(plot_width=700, plot_height=400, title=\"template\")\n",
    "c1 = ROOT.TCanvas(\"test\",\"test\",800,500)"
   ]
  },
  {
   "cell_type": "code",
   "execution_count": null,
   "metadata": {},
   "outputs": [],
   "source": [
    "ROOT.TFile.SetCacheFileDir(\"../data/\")\n",
    "treeMap, treeList, fileList = LoadTrees(\"cat map.list\",\".*\",\".*_Tgl_.*\",\".*\",0)\n",
    "#treeMap = ROOT.AliTreePlayer.LoadTrees(\"cat map.list\",\".*\",\".*_Tgl_.*\",\".*\",\"\",\"\")\n",
    "treeToAnyTree(treeMap)\n",
    "#print(RenderTree(treeMap.anyTree)) # enable this line to visualizae tree stutures (tree,friends,branches aliases)"
   ]
  },
  {
   "cell_type": "code",
   "execution_count": null,
   "metadata": {},
   "outputs": [],
   "source": [
    "#print(RenderTree(treeMap.anyTree))"
   ]
  },
  {
   "cell_type": "markdown",
   "metadata": {},
   "source": [
    "## Select variables of interest"
   ]
  },
  {
   "cell_type": "code",
   "execution_count": null,
   "metadata": {},
   "outputs": [],
   "source": [
    "varMedian=[\".*Center\"]\n",
    "print(findSelectedBranches(treeMap,varMedian,exclude=[\".*LHC.*\",\".*log.*\"], columnMask=[[\"Center\",\"\"]]))\n",
    "dfVariables=tree2Panda(treeMap,[\".*Center.*\"],\"entries>=0\",exclude=[\".*LHC.*\",\".*log.*\"], columnMask=[[\"Center\",\"\"]])\n",
    "varList=dfVariables.columns.values\n",
    "print(\"Variable list:\", varList)\n",
    "dfVariables.head(2)"
   ]
  },
  {
   "cell_type": "markdown",
   "metadata": {},
   "source": [
    "## Select variables to fit"
   ]
  },
  {
   "cell_type": "code",
   "execution_count": null,
   "metadata": {},
   "outputs": [],
   "source": [
    "dfdEdx=tree2Panda(treeMap,[\".*hdEdxAShift.*binMedian\"],\"entries>=0\",columnMask=[[\"_pass1_hdEdxAShifttMNTglDist_binMedian\",\"\"]])\n",
    "dfdEdxList=dfdEdx.columns.values\n",
    "#dfdEdx=pd.concat([dfdEdx, dfVariables],axis=1)\n",
    "print(dfdEdxList)\n",
    "dfdEdx.head(5)\n",
    "dfStat=tree2Panda(treeMap,[\".*hdEdxAShift.*entries\"],\"entries>=0\",exclude=[\".*entriesG.*\"],columnMask=[[\"_pass1_hdEdxAShifttMNTglDist_\",\"\"]])\n",
    "for a in dfStat.columns.values:\n",
    "    dfStat[a+\"S\"]=1/np.sqrt(1+dfStat[a])"
   ]
  },
  {
   "cell_type": "code",
   "execution_count": null,
   "metadata": {},
   "outputs": [],
   "source": [
    "df=pd.concat([dfdEdx, dfVariables,dfStat],axis=1)\n",
    "df.head(5)"
   ]
  },
  {
   "cell_type": "code",
   "execution_count": null,
   "metadata": {},
   "outputs": [],
   "source": [
    "df=pd.concat([dfdEdx, dfVariables,dfStat],axis=1)\n",
    "npoints=df.shape[0]\n",
    "#fitter.Fit()\n",
    "\n",
    "for varFit in dfdEdxList:\n",
    "    dataContainer = DataContainer(df,  varList, varFit, [npoints//2,npoints//2]) \n",
    "    fitter = Fitter(dataContainer)\n",
    "    fitter.Register_Method('RF','RandomForest', 'Regressor', n_estimators=100, max_depth=10)\n",
    "    fitter.Register_Method('RF200','RandomForest', 'Regressor', n_estimators=200, max_depth=10)\n",
    "    fitter.Fit()\n",
    "    fitter.AppendStatPandas(\"RF\",df,varFit)\n",
    "    fitter.AppendStatPandas(\"RF200\",df,varFit)\n",
    "    df[varFit+'RFPull']=(df[varFit]-df[varFit+\"RFMean\"])/df[varFit+\"RFRMS\"]\n",
    "    \n",
    "#test=dataContainer.Test_sample"
   ]
  },
  {
   "cell_type": "code",
   "execution_count": null,
   "metadata": {},
   "outputs": [],
   "source": [
    "df.head(5)"
   ]
  },
  {
   "cell_type": "markdown",
   "metadata": {},
   "source": [
    "## Create dashboards"
   ]
  },
  {
   "cell_type": "code",
   "execution_count": null,
   "metadata": {},
   "outputs": [],
   "source": [
    "tooltips=[ (a,\"@\"+a) for a in varList ]\n",
    "tooltips+=[ (a,\"@\"+a) for a in dfdEdxList]\n",
    "figureArray=[ [[a+\"RFMedian\"],[a],{\"colorZvar\":a+\"RFRMS\"}] for a in dfdEdxList ]\n",
    "figureArray+=[ [[a+\"RFMedian\"],[a+\"RFRMS\"],{\"colorZvar\":a+\"entriesS\"}] for a in dfdEdxList ]\n",
    "figureArray+=[[\"table\"]]\n",
    "#\n",
    "figureArrayD=[ [[a+\"RFMedian\"],[a+\"-\"+a+\"RFMedian\"],{\"colorZvar\":a+\"RFRMS\"}] for a in dfdEdxList ]\n",
    "figureArrayD+=[ [[a+\"RFMedian\"],[a+\"RFPull\"],{\"colorZvar\":a+\"entriesS\"}] for a in dfdEdxList ]\n",
    "figureArrayD+=[[\"table\"]]\n",
    "#pprint(figureArray)\n",
    "#\n",
    "figureArrayD2=[ [[a+\"RFMedian\"],[a+\"RF200Median\"+\"-\"+a+\"RFMedian\"],{\"colorZvar\":a+\"RFRMS\"}] for a in dfdEdxList ]\n",
    "figureArrayD2+=[ [[a+\"RFMedian\"],[a+\"RFPull\"],{\"colorZvar\":a+\"entriesS\"}] for a in dfdEdxList ]\n",
    "figureArrayD2+=[[\"table\"]]\n",
    "#pprint(figureArray)\n",
    "\n",
    "#\n",
    "wIndex=0\n",
    "widgets=\"query.custom(),\"\n",
    "widgetList=[ ['range',[a]] for a in varList ]\n",
    "widgetLayout=[]\n",
    "index=0\n",
    "for a in dfStat.columns.values: \n",
    "    if \"entriesS\" in a:\n",
    "        widgetList.append(['range',[a],{'bins':30}])\n",
    "#pprint(figureArray)        \n",
    "#pprint(widgetList)\n",
    "pprint(figureArrayD) "
   ]
  },
  {
   "cell_type": "code",
   "execution_count": null,
   "metadata": {},
   "outputs": [],
   "source": [
    "#df['LHC15oRFRMS'].plot.hist(bins=100, logy=1)\n",
    "df['LHC15oRFPull'].plot.hist(bins=100,logy=1)"
   ]
  },
  {
   "cell_type": "code",
   "execution_count": null,
   "metadata": {},
   "outputs": [],
   "source": [
    "#widgets=\"query.custom(),slider.shiftM(-150,150,15,-150,150)\"\n",
    "figureLayout: str = '((0,1,2),(3,4,5,commonY=3),(6, commonX=4,plot_height=150),commonY=1, commonX=0, x_visible=1,y_visible=0,plot_height=300,plot_width=1300)'\n",
    "widgetLayout='((0,1,2,3),(4,5,6))'    \n",
    "fig=bokehDrawSA.fromArray(df, \"LHC15o!=0&LHC18qentriesS<0.1\", figureArray,widgetList,tooltips=tooltips, layout=figureLayout,widgetLayout=widgetLayout) "
   ]
  },
  {
   "cell_type": "code",
   "execution_count": null,
   "metadata": {},
   "outputs": [],
   "source": [
    "output_file(\"dEdxCorrectionFit_Delta.html\")\n",
    "figureLayout: str = '((0,1,2),(3,4,5,commonY=3),(6, commonX=4,plot_height=150),commonY=1, commonX=0, x_visible=1,y_visible=0,plot_height=300,plot_width=1300)'\n",
    "widgetLayout='((0,1,2,3),(4,5,6))'\n",
    "fig=bokehDrawSA.fromArray(df, \"LHC15o!=0&LHC18rentriesS<0.1&LHC18qentriesS<0.10\", figureArrayD,widgetList,tooltips=tooltips, layout=figureLayout,widgetLayout=widgetLayout)"
   ]
  },
  {
   "cell_type": "code",
   "execution_count": null,
   "metadata": {},
   "outputs": [],
   "source": [
    "drawColzArray(df,\"LHC15o!=0&LHC15oentriesS<0.05\",\"LHC15o\", \"LHC15oRFMean\",\"LHC15oentriesS\",None,doDraw=1)"
   ]
  },
  {
   "cell_type": "code",
   "execution_count": null,
   "metadata": {},
   "outputs": [],
   "source": [
    "drawColzArray(df,\"LHC15o!=0&LHC15oentriesS<0.05\",\"LHC15o\", \"LHC15oRFMean\",\"LHC15oentriesS\",None,doDraw=1)"
   ]
  },
  {
   "cell_type": "code",
   "execution_count": null,
   "metadata": {},
   "outputs": [],
   "source": []
  },
  {
   "cell_type": "code",
   "execution_count": null,
   "metadata": {},
   "outputs": [],
   "source": [
    "df.head(5)"
   ]
  },
  {
   "cell_type": "code",
   "execution_count": null,
   "metadata": {},
   "outputs": [],
   "source": [
    "df.shape"
   ]
  },
  {
   "cell_type": "code",
   "execution_count": null,
   "metadata": {},
   "outputs": [],
   "source": []
  }
 ],
 "metadata": {
  "kernelspec": {
   "display_name": "Python 3",
   "language": "python",
   "name": "python3"
  },
  "language_info": {
   "codemirror_mode": {
    "name": "ipython",
    "version": 3
   },
   "file_extension": ".py",
   "mimetype": "text/x-python",
   "name": "python",
   "nbconvert_exporter": "python",
   "pygments_lexer": "ipython3",
   "version": "3.6.8"
  }
 },
 "nbformat": 4,
 "nbformat_minor": 2
}
