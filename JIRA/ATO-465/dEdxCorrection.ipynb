{
 "cells": [
  {
   "cell_type": "markdown",
   "metadata": {},
   "source": [
    "# dEdx Pile up bias and correction  - DEMO\n",
    "~ 40 % of TPC pileup events removed from some physics analysis because of the problem with dEdx bias (up to 2 sigma systematic shift)\n",
    "\n",
    "\n",
    "## dEdx bias  - effects and correction\n",
    "In high flux data TPC dEdx affected/ biased by following effect\n",
    "* **Ion tail**    ~ half of the drift time (40 mucros) - O(1% tail) for each particle\n",
    " * integral for each positive signal ~ 50 % negative signal created\n",
    "  * for central event ~ 20-30 % correction\n",
    "* **Cross talk**  - local (O(1-3 micros)\n",
    " * integral of negaitive/psotive - difficult to calibrate  free parameter for correction\n",
    "  * data prefer effect to cancel (Ipos~Ineg)\n",
    "* **Missign clusters**\n",
    " * signal below thr \n",
    "   * O(6%) for MIP cntral event\n",
    " * signal rejected because of the position bias \n",
    "   * O(20%) for MIP for centrral event\n",
    " * **dEdx bias** due missing cluster\n",
    "   * **Up** in case missing clusters ignored\n",
    "   * **Down** in case replaced by minimum cluster\n",
    "   * **Optimal** ->find a compromise - mean dEdx for missing clusters\n"
   ]
  },
  {
   "cell_type": "markdown",
   "metadata": {},
   "source": [
    "## dEdx default calibration/reconstruction \n",
    "* dEdx corrected for the io tail, cross-talk, missing clusters\n",
    "  * In mean, better separation power achieved\n",
    "* Some assumption not valid -> Not valid time profile \n",
    "  * **Ion tail** in real data much shorted than in the correction (Scaled Neon used instead of the Ar)\n",
    "    * laser calibration not available in 2015\n",
    "  * **Crosstalk integal**  assumed to be 1 - parameter scan prefer integral ~0\n",
    "  * Correction for missing clusters overestimated \n",
    "\n",
    "## dEdx bias for pile-up events  \n",
    "* dEdx calibration was effective - correcting mean properties, with wrong time profile\n",
    "  * ion tail and crosstal correcting in men missing clusters\n",
    "* Mean correction strong biased for pileup events with different ionization time profile\n",
    "  * Effect +-2 &sigma; of the resolution \n",
    "\n"
   ]
  },
  {
   "cell_type": "markdown",
   "metadata": {},
   "source": [
    "## dEdx splines\n",
    "* For dEdx spline  - correction done using multiplicity estimator\n",
    "* In some cases correction even increase the dEdx bias"
   ]
  },
  {
   "cell_type": "markdown",
   "metadata": {},
   "source": [
    "##  dEdx distortion - Notebook content\n",
    "I present this demo to demonstrate capability of interactive visualization\n",
    "My goal - **make the RootInteractive tool and NDanalysis pipeline** integral part of the aliBuild **(O2 and AliRoot)** \n",
    "\n",
    "* 1.)  Load python libraries \n",
    "* 2.)  Load distortion trees - performance bas maps \n",
    " *  Distortion maps (mean, median, rms, m3,m4,  gaus fit)\n",
    " *  variables: (diffetn region differnt z profile)\n",
    "  * dEdx\n",
    "  * Qmaxi\n",
    "  * Qtoti\n",
    "  * Nfraction\n",
    " *  binning:\n",
    "   * z position (time offset) of the pileup vertex\n",
    "   * multiplicity in pilup vertex\n",
    "   * primary SPD muliplicity\n",
    "   * track inclination angle\n"
   ]
  },
  {
   "cell_type": "code",
   "execution_count": null,
   "metadata": {},
   "outputs": [],
   "source": [
    "from RootInteractive.Tools.aliTreePlayer import *\n",
    "from RootInteractive.TTreeHnInteractive.TTreeHnBrowser import *\n",
    "#from InteractiveDrawing.bokeh.bokehTools import *\n",
    "#from MLpipeline.NDFunctionInterface import  DataContainer, Fitter\n",
    "from RootInteractive.InteractiveDrawing.bokeh.bokehDrawPanda import *\n",
    "from RootInteractive.InteractiveDrawing.bokeh.bokehDraw import *\n",
    "output_notebook()\n",
    "p3 = figure(plot_width=700, plot_height=400, title=\"template\")"
   ]
  },
  {
   "cell_type": "code",
   "execution_count": null,
   "metadata": {},
   "outputs": [],
   "source": [
    "ROOT.TFile.SetCacheFileDir(\"../data/\")\n",
    "ROOT.TFile.Open(\"http://rootinteractive.web.cern.ch/RootInteractive/testData/JIRA/ATO-465/mapOutput.root\",\"cacheread\")\n",
    "treeMap, treeList, fileList = LoadTrees(\"echo ../data//RootInteractive/testData/JIRA/ATO-465/mapOutput.root\",\".*\",\"xxx\",\".*\",0)\n",
    "treeMap.Show(0)                       # enabale this list to see avaliable brances\n",
    "treeMap.GetListOfFriends().ls()      # enable this line to list friend trees "
   ]
  },
  {
   "cell_type": "markdown",
   "metadata": {},
   "source": [
    "### Set aliases for variables to draw\n",
    "* Maybe we should enable . in the variable names"
   ]
  },
  {
   "cell_type": "code",
   "execution_count": null,
   "metadata": {},
   "outputs": [],
   "source": [
    "treeMap.SetAlias(\"dEdxShiftA\",\"hdEdxAShifttANTglDist.meanG\")\n",
    "treeMap.SetAlias(\"dEdxShiftC\",\"hdEdxCShifttMNTglDist.meanG\")\n",
    "treeMap.SetAlias(\"dEdxShiftAMC\",\"hdEdxAShifttANTglDist.meanG-hdEdxCShifttMNTglDist.meanG\")\n",
    "treeMap.SetAlias(\"dEdxRMSA\",\"hdEdxAShifttMNTglDist.rmsG\")\n",
    "treeMap.SetAlias(\"dEdxRMSC\",\"hdEdxCShifttMNTglDist.rmsG\")\n",
    "treeMap.SetAlias(\"dEdxEntriesA\",\"hdEdxAShifttANTglDist.entries\")\n",
    "variables=\"dEdxShiftA:dEdxShiftC:dEdxRMSA:dEdxRMSC:dEdxRMSA:dEdxEntriesA:shiftAMean:nPileUpPrimMean:primMultCenter:atglCenter\"\n"
   ]
  },
  {
   "cell_type": "markdown",
   "metadata": {},
   "source": [
    "## Draw dEdx distortion as function of the pilep event position(x axis) and pileup mutpliplicity ( primary tracks from the pileup event) (color axis)\n",
    "* Left -  A  side, Right - C side\n",
    "* Up -mean dedx bias, Down - rms of he dEdx\n",
    "* sliders\n",
    " * 0.)  tgl           - pz/pt from 0,1\n",
    " * 1.)  primMultCenter   - SPD multiplicity of pramry vertex)"
   ]
  },
  {
   "cell_type": "code",
   "execution_count": null,
   "metadata": {},
   "outputs": [],
   "source": [
    "#bokehDraw?  # enable this line to get the list of the parameters forvisualization"
   ]
  },
  {
   "cell_type": "code",
   "execution_count": null,
   "metadata": {},
   "outputs": [],
   "source": [
    "variables=\"dEdxShiftA:dEdxShiftC:dEdxRMSA:dEdxRMSC:dEdxRMSA:dEdxEntriesA:shiftAMean:nPileUpPrimMean:primMultCenter:atglCenter\"\n",
    "varDraw=\"dEdxShiftA:dEdxShiftC:dEdxRMSA:dEdxRMSC\"\n",
    "tooltips=[(\"dEdxShift (A,C)\",\"(@dEdxShiftA,@dEdxShiftC)\"),  (\"tgl- pz/pt\",\"@atglCenter\"), (\"Prim Mult.:\",\"@primMultCenter\"), (\"nPileUpPrimMean\",\"@nPileUpPrimMean\")]\n",
    "p3 = figure(plot_width=700, plot_height=350, title=\"template\")\n",
    "widgets=\"slider.atglCenter(0.,1,0.1,0.),slider.primMultCenter(0,2100,300,0)\"\n",
    "xxx=bokehDraw(treeMap,\"dEdxEntriesA>500\",\"shiftAMean\",varDraw,\"nPileUpPrimMean\",widgets,p3,commonX=1,size=6,ncols=2,nEntries=100000000,tooltip=tooltips,variables=variables)"
   ]
  },
  {
   "cell_type": "markdown",
   "metadata": {},
   "source": [
    "# dEdx as function of the pilu vertex and track inclination angle (color)\n",
    "* primary and secondary muliplicity with sliders"
   ]
  },
  {
   "cell_type": "code",
   "execution_count": null,
   "metadata": {},
   "outputs": [],
   "source": [
    "variables=\"dEdxShiftA:dEdxShiftC:dEdxRMSA:dEdxRMSC:dEdxRMSA:dEdxEntriesA:shiftAMean:nPileUpPrimMean:primMultCenter:atglCenter:primMultBin:dEdxShiftAMC\"\n",
    "varDraw=\"dEdxShiftA:dEdxShiftC:dEdxShiftAMC:dEdxRMSA:dEdxRMSC\"\n",
    "tooltips=[(\"dEdxShift (A,C)\",\"(@dEdxShiftA,@dEdxShiftC)\"),  (\"tgl- pz/pt\",\"@atglCenter\"), (\"Prim Mult.:\",\"@primMultCenter\"), (\"nPileUpPrimMean\",\"@nPileUpPrimMean\")]\n",
    "p3 = figure(plot_width=600, plot_height=350, title=\"template\")\n",
    "widgets=\"slider.primMultBin(0,10,1,0):slider.nPileUpPrimMean(0,4500,500,500)\"\n",
    "xxx=bokehDraw(treeMap,\"dEdxEntriesA>200\",\"shiftAMean\",varDraw,\"atglCenter\",widgets,p3,commonX=1,size=4,ncols=3,nEntries=100000000,tooltip=tooltips,variables=variables)"
   ]
  },
  {
   "cell_type": "code",
   "execution_count": null,
   "metadata": {},
   "outputs": [],
   "source": []
  }
 ],
 "metadata": {
  "kernelspec": {
   "display_name": "Python 3",
   "language": "python",
   "name": "python3"
  },
  "language_info": {
   "codemirror_mode": {
    "name": "ipython",
    "version": 3
   },
   "file_extension": ".py",
   "mimetype": "text/x-python",
   "name": "python",
   "nbconvert_exporter": "python",
   "pygments_lexer": "ipython3",
   "version": "3.6.8"
  }
 },
 "nbformat": 4,
 "nbformat_minor": 2
}
