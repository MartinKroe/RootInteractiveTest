{
 "cells": [
  {
   "cell_type": "markdown",
   "metadata": {},
   "source": [
    "# Conversion point interactive using bokehDraw class\n",
    "Comparison of conversion points in the MC and data\n",
    "### Content:\n",
    "* 0.) Load libraries\n",
    "* 1.) Load input treeand define some derived variables/aliases\n",
    "* 2.) Dedined dervide variables - currently bokehDraw does not support functions (could be added)\n",
    "* 3.) SPD1 comparison\n",
    "* 4.) SPD2 comparison\n",
    "    "
   ]
  },
  {
   "cell_type": "markdown",
   "metadata": {},
   "source": [
    "##  0.) Load libraries"
   ]
  },
  {
   "cell_type": "code",
   "execution_count": null,
   "metadata": {},
   "outputs": [],
   "source": [
    "from RootInteractive.TTreeHnInteractive.TTreeHnBrowser import *\n",
    "from RootInteractive.InteractiveDrawing.bokeh.bokehDraw import *\n",
    "from RootInteractive.InteractiveDrawing.bokeh.bokehDrawPanda import *\n",
    "output_notebook()\n",
    "import ROOT\n",
    "ROOT.gSystem.Load(\"$ALICE_ROOT/lib/libSTAT.so\")\n",
    "from RootInteractive.Tools.aliTreePlayer import *\n",
    "import pyparsing \n",
    "from bokeh.io import curdoc\n",
    "curdoc().theme = 'caliber'"
   ]
  },
  {
   "cell_type": "markdown",
   "metadata": {},
   "source": [
    "##  1.) Load input treeand define some derived variables/aliases"
   ]
  },
  {
   "cell_type": "code",
   "execution_count": null,
   "metadata": {},
   "outputs": [],
   "source": [
    "ROOT.TFile.SetCacheFileDir(\"../data/\")\n",
    "tree, treeList, fileList = LoadTrees(\"echo https://rootinteractive.web.cern.ch/RootInteractive/testData/JIRA/PWGPP-527/conversionTree.root\",\".*\",\".*sta.*\",\".*\",0)\n",
    "tree.SetAlias(\"phi\",\"2*pi*Iteration$/2514\");\n",
    "# this lines are neaded in case automatically generated parameter list  (expert mode)\n",
    "branchTree=treeToAnyTree(tree)\n",
    "aliases=aliasToDictionary(tree)"
   ]
  },
  {
   "cell_type": "markdown",
   "metadata": {},
   "source": [
    "##  2.) Dedine derived variables - currently bokehDraw does not support functions and arrays \n",
    "* could be added in future"
   ]
  },
  {
   "cell_type": "code",
   "execution_count": null,
   "metadata": {},
   "outputs": [],
   "source": [
    "tree.SetAlias(\"MCSPD1\",\"MC_SPD1_ConvPhi.fArray\");\n",
    "tree.SetAlias(\"DataSPD1\",\"Data_SPD1_ConvPhi.fArray\");\n",
    "tree.SetAlias(\"SPD1Ratio\",\"MC_SPD1_ConvPhi.fArray/Data_SPD1_ConvPhi.fArray\")\n",
    "tree.SetAlias(\"MCSPD2\",\"MC_SPD2_ConvPhi.fArray\");\n",
    "tree.SetAlias(\"DataSPD2\",\"Data_SPD2_ConvPhi.fArray\");\n",
    "tree.SetAlias(\"SPD2Ratio\",\"MC_SPD2_ConvPhi.fArray/Data_SPD2_ConvPhi.fArray\")"
   ]
  },
  {
   "cell_type": "code",
   "execution_count": null,
   "metadata": {},
   "outputs": [],
   "source": []
  },
  {
   "cell_type": "markdown",
   "metadata": {},
   "source": [
    "## 3.)  SPD1 comparison\n",
    "* MC histogram\n",
    "* Data histogram\n",
    "* ratio histogram\n",
    "\n",
    "Data and MC are aligned in differnt way #sigma;~0.1 mm\n",
    "* misalingment seen in ratio as wave\n",
    "* excess of material in data as negative peak\n",
    "* excess of material in MC as positive peak"
   ]
  },
  {
   "cell_type": "code",
   "execution_count": null,
   "metadata": {},
   "outputs": [],
   "source": [
    "bokehDraw.verbose=0\n",
    "selection=\"phi<6.25&SPD1Ratio<2&SPD1Ratio>0\";\n",
    "varDraw=\"MCSPD1:DataSPD1:SPD1Ratio\"\n",
    "tooltips=[(\"MCSPD1\",\"(@MCSPD1)\"),  (\"DataSPD1\",\"@DataSPD1\"),(\"SPD1 ratio\",\"@SPD1Ratio\"),(\"phi\",\"@phi\")]\n",
    "widgets=\"tab.sliders(slider.phi(0,6.28,0.01,0,6.28))\"\n",
    "layout=\"((0),(1),(2,x_visible=1,commonY=2,plot_height=200),commonX=1,commonY=1,x_visible=0,plot_height=250,plot_width=1200)\"\n",
    "xxx=bokehDraw(tree,selection,\"phi\",varDraw,\"MCSPD1\",widgets,0,commonX=1,size=4,tooltip=tooltips,layout=layout)"
   ]
  },
  {
   "cell_type": "markdown",
   "metadata": {},
   "source": [
    "# SPD2 comparison\n",
    "\n",
    "* MC histogram\n",
    "* Data histogram\n",
    "* ratio histogram\n",
    "\n",
    "Data and MC are aligned in differnt way #sigma;~0.1 mm\n",
    "* misalingment seen in ratio as wave\n",
    "* excess of material in data as negative peak\n",
    "* excess of material in MC as positive peak"
   ]
  },
  {
   "cell_type": "code",
   "execution_count": null,
   "metadata": {},
   "outputs": [],
   "source": [
    "bokehDraw.verbose=0\n",
    "selection=\"phi<6.25&SPD1Ratio<2&MCSPD2>0\";\n",
    "varDraw=\"MCSPD2:DataSPD2:SPD2Ratio\"\n",
    "tooltips=[(\"MCSPD2\",\"(@MCSPD2)\"),  (\"DataSPD2\",\"@DataSPD2\"),(\"SPD2 ratio\",\"@SPD2Ratio\")]\n",
    "widgets=\"tab.sliders(slider.phi(0,6.28,0.01,0,6.28))\"\n",
    "layout=\"((0),(1),(2,x_visible=1,commonY=2,plot_height=200),commonX=1,commonY=1,x_visible=0,plot_height=250,plot_width=1200)\"\n",
    "xxx=bokehDraw(tree,selection,\"phi\",varDraw,\"MCSPD2\",widgets,0,commonX=1,size=4,tooltip=tooltips,layout=layout)"
   ]
  },
  {
   "cell_type": "code",
   "execution_count": null,
   "metadata": {},
   "outputs": [],
   "source": []
  }
 ],
 "metadata": {
  "kernelspec": {
   "display_name": "Python 3",
   "language": "python",
   "name": "python3"
  },
  "language_info": {
   "codemirror_mode": {
    "name": "ipython",
    "version": 3
   },
   "file_extension": ".py",
   "mimetype": "text/x-python",
   "name": "python",
   "nbconvert_exporter": "python",
   "pygments_lexer": "ipython3",
   "version": "3.6.8"
  }
 },
 "nbformat": 4,
 "nbformat_minor": 2
}
