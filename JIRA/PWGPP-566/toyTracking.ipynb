{
 "cells": [
  {
   "cell_type": "code",
   "execution_count": null,
   "metadata": {},
   "outputs": [],
   "source": [
    "import ROOT\n",
    "import numpy as np\n",
    "import pandas as pd"
   ]
  },
  {
   "cell_type": "code",
   "execution_count": null,
   "metadata": {},
   "outputs": [],
   "source": [
    "from RootInteractive.InteractiveDrawing.bokeh.bokehDrawSA import *\n",
    "from bokeh.models import *\n",
    "from bokeh.io import output_notebook\n",
    "#from bokeh.plotting import figure\n",
    "output_notebook()"
   ]
  },
  {
   "cell_type": "code",
   "execution_count": null,
   "metadata": {},
   "outputs": [],
   "source": [
    "from RootInteractive.MLpipeline.NDFunctionInterface import DataContainer, Fitter"
   ]
  },
  {
   "cell_type": "markdown",
   "metadata": {},
   "source": [
    "## Load AliRoot libraries"
   ]
  },
  {
   "cell_type": "code",
   "execution_count": null,
   "metadata": {},
   "outputs": [],
   "source": [
    "ROOT.gSystem.Load(\"libSTAT\")\n",
    "ROOT.gSystem.Load(\"libCDB\")\n",
    "ROOT.gSystem.Load(\"libESD\")"
   ]
  },
  {
   "cell_type": "markdown",
   "metadata": {},
   "source": [
    "## Load OCDB"
   ]
  },
  {
   "cell_type": "code",
   "execution_count": null,
   "metadata": {},
   "outputs": [],
   "source": [
    "ROOT.gROOT.LoadMacro(\"$ALICE_PHYSICS/PWGPP/TPC/macros/ConfigOCDB.C\")  \n",
    "ROOT.ConfigOCDB(129160,\"local:///cvmfs/alice-ocdb.cern.ch/calibration/data/2010/OCDB/\")"
   ]
  },
  {
   "cell_type": "markdown",
   "metadata": {},
   "source": [
    "## Create example vector - default in python is list \n",
    "* we need C++ vectors"
   ]
  },
  {
   "cell_type": "code",
   "execution_count": null,
   "metadata": {},
   "outputs": [],
   "source": [
    "materialCorr=0\n",
    "nPoints=100\n",
    "\n",
    "# initialize coordinates, momentum and covariance matrix as TVector to use c++ functions\n",
    "xyz=ROOT.TVectorD(3)\n",
    "pxyz=ROOT.TVectorD(3)\n",
    "cv=ROOT.TVectorD(21)\n",
    "covarAdd=ROOT.TVectorD(15)\n",
    "covarAdd[0]=1\n",
    "covarAdd[2]=1.\n",
    "covarAdd[5]=1./(15.*15.)\n",
    "covarAdd[9]=3.*3./(15.*15.)\n",
    "covarAdd[14]=1*1\n",
    "\n",
    "# load TRD geometry\n",
    "trdGeom = ROOT.AliTRDgeometry\n",
    "\n",
    "#get position of layers\n",
    "layers=[]\n",
    "for i in range(7):\n",
    "    layers.append(trdGeom.GetTime0(i))\n",
    "layers.append(400)  \n",
    "layers.append(420)\n",
    "\n",
    "# initializations\n",
    "pointsOut=ROOT.TMatrix(8,3)\n",
    "pointsIn=ROOT.TMatrix(8,3)\n",
    "massEl=0.0005\n",
    "point=ROOT.TVectorD(2)\n",
    "covPoint=ROOT.TVectorD(3)\n",
    "#resolution\n",
    "covPoint[0]=0.05*0.05\n",
    "covPoint[2]=1*1"
   ]
  },
  {
   "cell_type": "code",
   "execution_count": null,
   "metadata": {},
   "outputs": [],
   "source": [
    "# test track\n",
    "track0  = ROOT.AliExternalTrackParam(xyz.GetMatrixArray(),pxyz.GetMatrixArray(),cv.GetMatrixArray(),1)\n",
    "layers"
   ]
  },
  {
   "cell_type": "code",
   "execution_count": null,
   "metadata": {},
   "outputs": [],
   "source": [
    "ROOT.AliTrackerBase.PropagateTrackToBxByBz?"
   ]
  },
  {
   "cell_type": "code",
   "execution_count": null,
   "metadata": {},
   "outputs": [],
   "source": [
    "# generate track in trd direction\n",
    "def generateTrack():\n",
    "    # generate intial track params and points along trajectory\n",
    "    #tanA=np.tan(np.pi/9)*np.random.uniform() # central trd interaction\n",
    "    tanA=np.tan(np.pi/9)*0.5\n",
    "    pxyz[0]=np.random.uniform()+0.10\n",
    "    pxyz[1]=pxyz[0]*tanA\n",
    "    pxyz[2]=0\n",
    "    xyz[0]=trdGeom.GetTime0(0)\n",
    "    xyz[1]=xyz[0]*tanA\n",
    "    xyz[2]=0\n",
    "    \n",
    "    # initial parameters as AliExternalTrackParam\n",
    "    trackIn  = ROOT.AliExternalTrackParam(xyz.GetMatrixArray(),pxyz.GetMatrixArray(),cv.GetMatrixArray(),1)\n",
    "    trackOut  = ROOT.AliExternalTrackParam(trackIn) \n",
    "    \n",
    "    # propagate track through detector and obtain trackOut\n",
    "    for layer in range(8):\n",
    "        # Bool_t AliTrackerBase::PropagateTrackToBxByBz(AliExternalTrackParam* track, Double_t x, Double_t m, Double_t maxStep, Bool_t rotateTo = kTRUE, Double_t maxSnp = 0.80000000000000004, Int_t sign = 0, Bool_t addTimeStep = kFALSE, Bool_t correctMaterialBudget = kTRUE)\n",
    "        ROOT.AliTrackerBase.PropagateTrackToBxByBz(trackOut,layers[layer],  massEl, 1, 0, 0.8,0,0, materialCorr)\n",
    "        pointsOut[layer,0] = trackOut.GetX()\n",
    "        pointsOut[layer,1] = trackOut.GetY()\n",
    "        pointsOut[layer,2] = trackOut.GetZ()\n",
    "        \n",
    "    # fit track from tof to inner trd layer and update parameters\n",
    "    trackFit  = ROOT.AliExternalTrackParam(trackOut)\n",
    "    trackFit.AddCovariance(covarAdd.GetMatrixArray())\n",
    "    trackFits=[0,0,0,0,0,0,0,0,0,0]\n",
    "    for layer in reversed(range(8)):\n",
    "        # Bool_t AliTrackerBase::PropagateTrackToBxByBz(AliExternalTrackParam* track, Double_t x, Double_t m, Double_t maxStep, Bool_t rotateTo = kTRUE, Double_t maxSnp = 0.80000000000000004, Int_t sign = 0, Bool_t addTimeStep = kFALSE, Bool_t correctMaterialBudget = kTRUE)\n",
    "        ROOT.AliTrackerBase.PropagateTrackToBxByBz(trackFit,layers[layer],  massEl, 1, 0, 0.8,0,0, materialCorr)\n",
    "        point[0]=pointsOut(layer,1)+np.random.normal()*0.05\n",
    "        point[1]=pointsOut(layer,2)+np.random.normal()*1\n",
    "        trackFit.Update(point.GetMatrixArray(),covPoint.GetMatrixArray())\n",
    "        pointsIn[layer,0] = trackOut.GetX()\n",
    "        pointsIn[layer,1] = trackOut.GetY()\n",
    "        pointsIn[layer,2] = trackOut.GetZ()\n",
    "        trackFits[layer]=ROOT.AliExternalTrackParam(trackFit)\n",
    "        \n",
    "    # return initial conditions, track fit parameters\n",
    "    return trackIn, trackFits, pointsOut"
   ]
  },
  {
   "cell_type": "code",
   "execution_count": null,
   "metadata": {},
   "outputs": [],
   "source": [
    "np.tan(np.pi/9)*0.5"
   ]
  },
  {
   "cell_type": "code",
   "execution_count": null,
   "metadata": {},
   "outputs": [],
   "source": [
    "trackIn, trackFits, points=generateTrack()"
   ]
  },
  {
   "cell_type": "code",
   "execution_count": null,
   "metadata": {},
   "outputs": [],
   "source": [
    "trackIn.Print()"
   ]
  },
  {
   "cell_type": "code",
   "execution_count": null,
   "metadata": {},
   "outputs": [],
   "source": [
    "# generate 100 tracks and obtain pt, pt after fit and sigma, layer, position\n",
    "NTracks = 10000\n",
    "Pt = []\n",
    "Pt_fit = []\n",
    "Sigma1Pt = []\n",
    "LayerN = []\n",
    "Xpos = []\n",
    "Ypos = []\n",
    "Zpos = []\n",
    "TrackIndex = []\n",
    "\n",
    "for i in range(NTracks):\n",
    "    trackIn, trackFits, points=generateTrack()\n",
    "    for j in range(4):\n",
    "        TrackIndex.append(i)\n",
    "        Pt.append(trackIn.Pt())\n",
    "        Pt_fit.append(trackFits[j].Pt())\n",
    "        Sigma1Pt.append(np.sqrt(trackFits[j].GetSigma1Pt2()))\n",
    "        LayerN.append(j)\n",
    "        Xpos.append(pointsIn(j,0))\n",
    "        Ypos.append(pointsIn(j,1))\n",
    "        Zpos.append(pointsIn(j,2))\n",
    "        \n",
    "layerdict = {\"TrackIndex\" : TrackIndex, \"Pt\" : Pt, \"Pt_fit\" : Pt_fit, \"Sigma1Pt\" : Sigma1Pt, \"LayerN\" : LayerN, \"Xpos\" : Xpos, \"Ypos\" : Ypos, \"Zpos\" : Zpos}\n",
    "df_layers = pd.DataFrame(layerdict)"
   ]
  },
  {
   "cell_type": "code",
   "execution_count": null,
   "metadata": {},
   "outputs": [],
   "source": [
    "df_layers.head(5)"
   ]
  },
  {
   "cell_type": "code",
   "execution_count": null,
   "metadata": {},
   "outputs": [],
   "source": [
    "#fit resolution \n",
    "varFit='Sigma1Pt'\n",
    "variableX= ['Pt_fit',\"LayerN\", \"Ypos\"]\n",
    "npoints = NTracks*4\n",
    "dataContainer = DataContainer(df_layers, variableX, varFit, [npoints//2,npoints//2])\n",
    "fitter = Fitter(dataContainer)\n",
    "fitter.Register_Method('RF','RandomForest', 'Regressor', n_estimators=100, max_depth=10)\n",
    "fitter.Register_Method('RF200','RandomForest', 'Regressor', n_estimators=200, max_depth=10)\n",
    "fitter.Fit()"
   ]
  },
  {
   "cell_type": "code",
   "execution_count": null,
   "metadata": {},
   "outputs": [],
   "source": [
    "df_layers = fitter.AppendOtherPandas(\"RF\",df_layers)\n",
    "df_layers = fitter.AppendOtherPandas(\"RF200\",df_layers)\n",
    "fitter.AppendStatPandas(\"RF\",df_layers,\"Sigma1Pt\")\n",
    "fitter.AppendStatPandas(\"RF200\",df_layers,\"Sigma1Pt\")\n",
    "print(\"\")"
   ]
  },
  {
   "cell_type": "code",
   "execution_count": null,
   "metadata": {},
   "outputs": [],
   "source": [
    "figureArray = [\n",
    "    [['Pt'], ['Sigma1Pt*Pt'], { \"colorZvar\":\"LayerN\"}], \n",
    "    [['LayerN'], ['Sigma1Pt*Pt'], { \"colorZvar\":\"Pt\"}], \n",
    "    ['table', {'include':'.*'}],\n",
    "    {\"size\":10}\n",
    "]\n",
    "figureLayout=[\n",
    "    [0, {'commonY':0,'y_visible':2,'plot_height':100}],\n",
    "    [1, {'commonY':0,'y_visible':2,'plot_height':100}],\n",
    "    [2, {'plot_height':20}],\n",
    "    {'plot_height':100,'sizing_mode':'scale_width'}\n",
    "]\n",
    "widgetArray=[\n",
    "    ['range', ['Pt']],\n",
    "    ['range', ['LayerN']],\n",
    "     ['range', ['TrackIndex']],\n",
    "    #['slider','F', ['@min()','@max()','@med','@min()','@median()+3*#tlm()']], # to be implmneted\n",
    "]\n",
    "widgetLayout=[ [0,1,2], {'sizing_mode':'scale_width'} ]\n",
    "tooltips = [(\"Pt\", \"(@Pt)\"), (\"TrackIndex\", \"(@TrackIndex)\"), (\"LayerN\", \"(@LayerN)\")]  "
   ]
  },
  {
   "cell_type": "code",
   "execution_count": null,
   "metadata": {},
   "outputs": [],
   "source": [
    "output_file(\"test_toyTracking.html\")\n",
    "bokehDrawSA.fromArray(df_layers.head(500), \"Pt>0\", figureArray, widgetArray, layout=figureLayout, tooltips=tooltips,widgetLayout=widgetLayout,sizing_mode=\"scale_width\")"
   ]
  },
  {
   "cell_type": "code",
   "execution_count": null,
   "metadata": {},
   "outputs": [],
   "source": [
    "# generate 100 tracks and obtain pt, pt after fit and sigma\n",
    "NTracks = 100\n",
    "\n",
    "pt = []\n",
    "\n",
    "pt_fit_list = []\n",
    "Sigma1Pt2_fit_list = []\n",
    "for i in range(4):\n",
    "    pt_fit = []\n",
    "    Sigma1Pt2_fit = []\n",
    "    pt_fit_list.append(pt_fit)\n",
    "    Sigma1Pt2_fit_list.append(Sigma1Pt2_fit)\n",
    "    \n",
    "for i in range(NTracks):\n",
    "    trackIn, trackFits, points=generateTrack()\n",
    "    pt.append(trackIn.Pt())\n",
    "    for j in range(4):\n",
    "        pt_fit_list[j].append(trackFits[j].Pt())\n",
    "        Sigma1Pt2_fit_list[j].append(np.sqrt(trackFits[j].GetSigma1Pt2()))\n",
    "        \n",
    "\n",
    "df_dict = {'pt':pt}\n",
    "\n",
    "for i in range(4):\n",
    "    df_dict.update({\"pt_fit_\"+str(i) : pt_fit_list[i]})\n",
    "    df_dict.update({\"Sigma1Pt\"+str(i) : Sigma1Pt2_fit_list[i]})\n",
    "    \n",
    "df = pd.DataFrame(df_dict)"
   ]
  },
  {
   "cell_type": "code",
   "execution_count": null,
   "metadata": {},
   "outputs": [],
   "source": [
    "df.head(5)"
   ]
  },
  {
   "cell_type": "code",
   "execution_count": null,
   "metadata": {},
   "outputs": [],
   "source": [
    "figureArray = [\n",
    "    [['pt'], ['Sigma1Pt0*pt']],\n",
    "    [['pt'], ['Sigma1Pt1*pt']],\n",
    "    [['pt'], ['Sigma1Pt2*pt']],\n",
    "    [['pt'], ['Sigma1Pt3*pt']],\n",
    "    \n",
    "    ['table', {'include':'.*'}],\n",
    "    {\"size\":10}\n",
    "]\n",
    "figureLayout=[\n",
    "    [0,1, {'commonY':3,'y_visible':2,'plot_height':200}],\n",
    "    [2,3,{'commonY':3, 'plot_height':200}],\n",
    "    [4, {'plot_height':50}],\n",
    "    {'plot_height':100,'sizing_mode':'scale_width'}\n",
    "]\n",
    "widgetArray=[\n",
    "    ['range', ['pt']],\n",
    "    #['slider','F', ['@min()','@max()','@med','@min()','@median()+3*#tlm()']], # to be implmneted\n",
    "]\n",
    "widgetLayout=[ [0], {'sizing_mode':'scale_width'} ]\n",
    "tooltips = [(\"pt\", \"(@pt)\"),(\"s0\", \"@Sigma1Pt0\"), (\"s1\", \"@Sigma1Pt3\")]  "
   ]
  },
  {
   "cell_type": "code",
   "execution_count": null,
   "metadata": {},
   "outputs": [],
   "source": [
    "output_file(\"test_toyTracking.html\")\n",
    "bokehDrawSA.fromArray(df, \"Sigma1Pt3*pt<1\", figureArray, widgetArray, layout=figureLayout, tooltips=tooltips,widgetLayout=widgetLayout,sizing_mode=\"scale_width\")"
   ]
  }
 ],
 "metadata": {
  "kernelspec": {
   "display_name": "Python 3",
   "language": "python",
   "name": "python3"
  },
  "language_info": {
   "codemirror_mode": {
    "name": "ipython",
    "version": 3
   },
   "file_extension": ".py",
   "mimetype": "text/x-python",
   "name": "python",
   "nbconvert_exporter": "python",
   "pygments_lexer": "ipython3",
   "version": "3.6.8"
  }
 },
 "nbformat": 4,
 "nbformat_minor": 4
}
