{
 "cells": [
  {
   "cell_type": "markdown",
   "metadata": {},
   "source": [
    "# Performance maps MC/data comparison - main focus eplaining performance maps data access\n",
    "Comparison of conversion points in the MC and data\n",
    "\n",
    "### Content:\n",
    "* 0.) Load libraries\n",
    "* 1.) Load input treeand define some derived variables/aliases\n",
    "* 2.) Dedined dervide variables - currently bokehDraw does not support functions (could be added)\n",
    "* 3.) Example search of varaibles and filtering\n",
    "  *     using Root TTree  functionality\n",
    "  *     using Python tree functionality (aliTreePlayer.py +anytree)\n",
    "* 4.) Static drawing using Root functionality\n",
    "* 5.) Example - interactive exploring of the perfomance maps \n",
    "  *     interacticecomparison of the TPC/ITS Chi2 at different Ineraction rate bins "
   ]
  },
  {
   "cell_type": "markdown",
   "metadata": {},
   "source": [
    "### 0.) Load libraries"
   ]
  },
  {
   "cell_type": "code",
   "execution_count": null,
   "metadata": {},
   "outputs": [],
   "source": [
    "from RootInteractive.Tools.aliTreePlayer import *\n",
    "from RootInteractive.TTreeHnInteractive.TTreeHnBrowser import *\n",
    "from RootInteractive.InteractiveDrawing.bokeh.bokehTools import *\n",
    "#from MLpipeline.NDFunctionInterface import  DataContainer, Fitter\n",
    "from RootInteractive.InteractiveDrawing.bokeh.bokehDrawPanda import *\n",
    "from RootInteractive.InteractiveDrawing.bokeh.bokehDraw import *\n",
    "from RootInteractive.Tools.aliTreePlayer import *\n",
    "output_notebook()\n",
    "c=ROOT.TCanvas(\"c\",\"c\",600,400)"
   ]
  },
  {
   "cell_type": "markdown",
   "metadata": {},
   "source": [
    "### 1.) Load input treeand define some derived variables/aliases using **Regular expression filters**\n",
    "* Ask for help - ROOT.AliTreePlayer.LoadTrees\n",
    "* inputDataLiast with metadata description (should be done by data provider)\n",
    "* Load trees with specified regular expression mask (chRegExp)  excluding tree with mask (chNotReg)\n",
    "  * another mask on input file list selection can be done  - input data list can be large\n",
    "  * e.g in the past I provided perfomentce list for all data periods 2015,2016 - loading them all is not possible"
   ]
  },
  {
   "cell_type": "code",
   "execution_count": null,
   "metadata": {},
   "outputs": [],
   "source": [
    "LoadTrees?"
   ]
  },
  {
   "cell_type": "markdown",
   "metadata": {},
   "source": [
    "####  1.b) Example loading  trees from the tree list using **(Regular expression filters)**\n",
    "* only trees with names \".\\*_qPt_tgl_phiProj4Dist\" loaded\n",
    "* trees with name containing \".\\*NcrossedRows.\\*\" not loaded\n",
    "* in commented line - alternative  loading only chi2 trees"
   ]
  },
  {
   "cell_type": "code",
   "execution_count": null,
   "metadata": {},
   "outputs": [],
   "source": [
    "ROOT.TFile.SetCacheFileDir(\"../data/\")\n",
    "tree, treelist, fileList = LoadTrees(\"cat tree.list\",\".*_qPt_tgl_phiProj4Dist\",\".*NcrossedRows.*\",\".*\",0)\n",
    "# alternativelly  load only Chi2\n",
    "#tree=ROOT.AliTreePlayer.LoadTrees(\"cat tree.list\",\".*Chi2.*_qPt_tgl_phiProj4Dist\",\".*NcrossedRows.*\",\".*\",\"\",\"\")"
   ]
  },
  {
   "cell_type": "markdown",
   "metadata": {},
   "source": [
    "### 3.) Example search of variables and filtering\n",
    "* using Root TTree functionality (only printing)\n",
    "* using Python tree functionality (aliTreePlayer.py +anytree)\n",
    "  * can be used in user code as an iterator "
   ]
  },
  {
   "cell_type": "code",
   "execution_count": null,
   "metadata": {},
   "outputs": [],
   "source": [
    "tree.GetListOfFriends().Print(\"\",\"*Chi2TPC_ITS*\")"
   ]
  },
  {
   "cell_type": "code",
   "execution_count": null,
   "metadata": {},
   "outputs": [],
   "source": [
    "branchTree=treeToAnyTree(tree)\n",
    "print(findSelectedBranch(branchTree,\".*Chi2.*\"))"
   ]
  },
  {
   "cell_type": "markdown",
   "metadata": {},
   "source": [
    "### 4.) Static drawing using Root functionality\n",
    "* checking the mean TPC/ITS chi2 matching per bin"
   ]
  },
  {
   "cell_type": "code",
   "execution_count": null,
   "metadata": {},
   "outputs": [],
   "source": [
    "tree.Draw(\"LHC15o_pass1.Bin1.RAAhisChi2TPC_ITS_v_qPt_tgl_phiProj4Dist.mean\",\"LHC15o_pass1.Bin1.RAAhisChi2TPC_ITS_v_qPt_tgl_phiProj4Dist.entries>10\")\n",
    "c.Draw()"
   ]
  },
  {
   "cell_type": "markdown",
   "metadata": {},
   "source": [
    "### 5.) Example - interactive exploring of the perfomance maps\n",
    "* interacticecomparison of the TPC/ITS Chi2 at different Ineraction rate bins"
   ]
  },
  {
   "cell_type": "code",
   "execution_count": null,
   "metadata": {},
   "outputs": [],
   "source": [
    "# TODO "
   ]
  },
  {
   "cell_type": "code",
   "execution_count": null,
   "metadata": {},
   "outputs": [],
   "source": []
  }
 ],
 "metadata": {
  "kernelspec": {
   "display_name": "Python 3",
   "language": "python",
   "name": "python3"
  },
  "language_info": {
   "codemirror_mode": {
    "name": "ipython",
    "version": 3
   },
   "file_extension": ".py",
   "mimetype": "text/x-python",
   "name": "python",
   "nbconvert_exporter": "python",
   "pygments_lexer": "ipython3",
   "version": "3.6.8"
  }
 },
 "nbformat": 4,
 "nbformat_minor": 2
}
