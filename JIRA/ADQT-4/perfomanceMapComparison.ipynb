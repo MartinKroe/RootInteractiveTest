{
 "cells": [
  {
   "cell_type": "markdown",
   "metadata": {},
   "source": [
    "# Performance maps MC/data comparison - main focus explaining performance maps data access\n",
    "Comparison of conversion points in the MC and data\n",
    "\n",
    "### Content:\n",
    "* 0.) Load libraries\n",
    "* 1.) Load input treeand define some derived variables/aliases\n",
    "* 2.) Dedined dervide variables - currently bokehDraw does not support functions (could be added)\n",
    "* 3.) Example search of variables and filtering (to define input data to show)\n",
    "* 4.) Static drawing using Root functionality\n",
    "* 5.) Example - interactive exploring of the perfomance maps \n",
    "  *     interactive comparison of the TPC/ITS Chi2 at different Ineraction rate bins "
   ]
  },
  {
   "cell_type": "markdown",
   "metadata": {},
   "source": [
    "### 0.) Load libraries"
   ]
  },
  {
   "cell_type": "code",
   "execution_count": null,
   "metadata": {},
   "outputs": [],
   "source": [
    "from RootInteractive.Tools.aliTreePlayer import *\n",
    "from RootInteractive.TTreeHnInteractive.TTreeHnBrowser import *\n",
    "from RootInteractive.InteractiveDrawing.bokeh.bokehTools import *\n",
    "#from MLpipeline.NDFunctionInterface import  DataContainer, Fitter\n",
    "from RootInteractive.InteractiveDrawing.bokeh.bokehDrawPanda import *\n",
    "from RootInteractive.InteractiveDrawing.bokeh.bokehDraw import *\n",
    "from RootInteractive.Tools.aliTreePlayer import *\n",
    "output_notebook()\n",
    "c=ROOT.TCanvas(\"c\",\"c\",600,400)"
   ]
  },
  {
   "cell_type": "markdown",
   "metadata": {},
   "source": [
    "### 1.) Load input treeand define some derived variables/aliases using **Regular expression filters**\n",
    "* see [Performance studies demo. Data access](JIRA/ADQT-4/performanceMapDemo.ipynb) for details"
   ]
  },
  {
   "cell_type": "code",
   "execution_count": null,
   "metadata": {},
   "outputs": [],
   "source": [
    "ROOT.TFile.SetCacheFileDir(\"../data/\")\n",
    "tree, treeList, fileList = LoadTrees(\"cat tree.list\",\".*_qPt_tgl_phiProj4Dist\",\"xxx\",\".*\",0)"
   ]
  },
  {
   "cell_type": "markdown",
   "metadata": {},
   "source": [
    "### 3.) Example search of variables and filtering\n",
    "* using Root TTree functionality (only printing)\n",
    "* using Python tree functionality (aliTreePlayer.py +anytree)\n",
    "  * can be used in user code as an iterator "
   ]
  },
  {
   "cell_type": "code",
   "execution_count": null,
   "metadata": {},
   "outputs": [],
   "source": [
    "tree.GetListOfFriends().Print(\"\",\"*Chi2TPC_ITS*\")"
   ]
  },
  {
   "cell_type": "code",
   "execution_count": null,
   "metadata": {},
   "outputs": [],
   "source": [
    "branchTree=treeToAnyTree(tree)\n",
    "print(findSelectedBranch(branchTree,\".*Chi2.*\"))"
   ]
  },
  {
   "cell_type": "markdown",
   "metadata": {},
   "source": [
    "### 4.) Static drawing using Root functionality\n",
    "* checking the mean TPC/ITS chi2 matching per bin"
   ]
  },
  {
   "cell_type": "code",
   "execution_count": null,
   "metadata": {},
   "outputs": [],
   "source": [
    "tree.Draw(\"LHC15o_pass1.Bin1.RAAhisChi2TPC_ITS_v_qPt_tgl_phiProj4Dist.mean\",\"LHC15o_pass1.Bin1.RAAhisChi2TPC_ITS_v_qPt_tgl_phiProj4Dist.entries>10\")\n",
    "c.Draw()"
   ]
  },
  {
   "cell_type": "markdown",
   "metadata": {},
   "source": [
    "### 5.) Example - interactive exploring of the perfomance maps\n",
    "* interactive comparison of the TPC/ITS Chi2 at different Interaction rate bins"
   ]
  },
  {
   "cell_type": "code",
   "execution_count": null,
   "metadata": {},
   "outputs": [],
   "source": [
    "tree.Show(0)"
   ]
  },
  {
   "cell_type": "code",
   "execution_count": null,
   "metadata": {},
   "outputs": [],
   "source": [
    "tree.SetAlias(\"LHC15o_pass1_Bin1_Mean\",\"LHC15o_pass1.Bin1.RAAhisChi2TPC_ITS_v_qPt_tgl_phiProj4Dist.mean\")\n",
    "tree.SetAlias(\"LHC15o_pass1_Bin2_Mean\",\"LHC15o_pass1.Bin2.RAAhisChi2TPC_ITS_v_qPt_tgl_phiProj4Dist.mean\")\n",
    "tree.SetAlias(\"LHC15o_pass1_Bin3_Mean\",\"LHC15o_pass1.Bin3.RAAhisChi2TPC_ITS_v_qPt_tgl_phiProj4Dist.mean\")\n",
    "tree.SetAlias(\"LHC15o_pass1_Bin1to3Mean\",\"LHC15o_pass1.Bin3.RAAhisChi2TPC_ITS_v_qPt_tgl_phiProj4Dist.mean/LHC15o_pass1.Bin1.RAAhisChi2TPC_ITS_v_qPt_tgl_phiProj4Dist.mean\")\n",
    "\n",
    "tree.SetAlias(\"statOK\",\"(entries>10)\")"
   ]
  },
  {
   "cell_type": "code",
   "execution_count": null,
   "metadata": {},
   "outputs": [],
   "source": [
    "bokehDraw.verbose=0\n",
    "selection=\"entries>10\";\n",
    "varDraw=\"LHC15o_pass1_Bin1_Mean:LHC15o_pass1_Bin2_Mean:LHC15o_pass1_Bin3_Mean:LHC15o_pass1_Bin1to3Mean\"\n",
    "tooltips=[(\"LHC15o_pass1_Bin1_Mean\",\"(@LHC15o_pass1_Bin1_Mean)\")]\n",
    "widgets=\"tab.sliders(slider.qPtCenter(-4,4,0.1,-4,4), slider.tglCenter(-1,1,0.1,-1,1))\"\n",
    "layout=\"((0),(1),(2),(3),commonX=1,x_visible=1,plot_height=200,plot_width=1000)\"\n",
    "xxx=bokehDraw(tree,selection,\"qPtCenter\",varDraw,\"tglCenter\",widgets,0,commonX=1,size=4,tooltip=tooltips,layout=layout)"
   ]
  },
  {
   "cell_type": "code",
   "execution_count": null,
   "metadata": {},
   "outputs": [],
   "source": []
  },
  {
   "cell_type": "code",
   "execution_count": null,
   "metadata": {},
   "outputs": [],
   "source": []
  }
 ],
 "metadata": {
  "kernelspec": {
   "display_name": "Python 3",
   "language": "python",
   "name": "python3"
  },
  "language_info": {
   "codemirror_mode": {
    "name": "ipython",
    "version": 3
   },
   "file_extension": ".py",
   "mimetype": "text/x-python",
   "name": "python",
   "nbconvert_exporter": "python",
   "pygments_lexer": "ipython3",
   "version": "3.6.8"
  }
 },
 "nbformat": 4,
 "nbformat_minor": 2
}
