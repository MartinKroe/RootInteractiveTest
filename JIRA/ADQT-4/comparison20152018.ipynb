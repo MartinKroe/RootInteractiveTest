{
 "cells": [
  {
   "cell_type": "markdown",
   "metadata": {},
   "source": [
    "# RootInteractive for comparison of 2015/2018 and MC 2018 anchor\n",
    "Juputer notebook tutorial/troubleshooting  macro to visualize TPC performance and to create dynamic dashborads \n",
    "(standalone html  files create in specified location)\n",
    "\n",
    "!!! IMPORTENT - TO NOTE - performance maps used in this example has a high granularity\n",
    "It is impossible to borwse all point interactivelly using bokeh client\n",
    "Depending on the browser setting  - slowdonw is obdserved at ~ 50000 -100000 points\n",
    "\n",
    "1. Load libraries\n",
    "2. Load perormance trees for differnt periods\n",
    "3. Define alias tree variables used in furtehr visualization\n",
    "4. Make perfromance comparison dashboards\n"
   ]
  },
  {
   "cell_type": "code",
   "execution_count": null,
   "metadata": {},
   "outputs": [],
   "source": [
    "from RootInteractive.Tools.aliTreePlayer import *\n",
    "from RootInteractive.InteractiveDrawing.bokeh.bokehTools import *\n",
    "from RootInteractive.InteractiveDrawing.bokeh.bokehDrawSA import *\n",
    "from ROOT import TFile, AliTreePlayer, TStatToolkit,TCanvas\n",
    "from bokeh.io import curdoc,output_notebook\n",
    "output_notebook()\n",
    "import warnings"
   ]
  },
  {
   "cell_type": "markdown",
   "metadata": {},
   "source": [
    "## Load trees and annotate data"
   ]
  },
  {
   "cell_type": "code",
   "execution_count": null,
   "metadata": {},
   "outputs": [],
   "source": [
    "ROOT.TFile.SetCacheFileDir(\"../data/\")\n",
    "treeSec, treeList, fileList = LoadTrees(\"cat map.list\",\".*_dSec.*\",\"xxx\",\".*\",0)\n",
    "treeSec.SetAlias(\"qPt\",\"qPtCenter\")\n",
    "treeSec.SetAlias(\"dSector\",\"dSectorCenter\")\n",
    "treeSec.SetAlias(\"atgl\",\"atglCenter\")\n",
    "treeSec.SetAlias(\"multTPCClusterN\",\"multTPCClusterNCenter\")\n",
    "treeSec.SetAlias(\"selected\",\"LHC18l8a_MC.hisnormChi2TPC_dSecDist.entries>50&&rndm<0.5&&qPt>-0.2\")\n",
    "AddMetadata(treeSec,\"dSector.AxisTitle\",\"x_sector (a.u.)\")\n",
    "AddMetadata(treeSec,\"qPt.AxisTitle\",\"x_sector (a.u.)\")\n",
    "AddMetadata(treeSec,\"atgl.AxisTitle\",\"pz/pt\")\n",
    "AddMetadata(treeSec,\"multTPCClusterN.AxisTitle\",\"Ncl/Ncl_central\")\n",
    "treeSec.Draw(\">>selectedList\",\"selected\",\"entrylist\")\n",
    "treeSec.SetEntryList(ROOT.gROOT.FindObject(\"selectedList\"))"
   ]
  },
  {
   "cell_type": "code",
   "execution_count": null,
   "metadata": {},
   "outputs": [],
   "source": [
    "treeSec.Show(0)\n",
    "treeSec.GetListOfFriends().ls()"
   ]
  },
  {
   "cell_type": "markdown",
   "metadata": {},
   "source": [
    "## Make aliases /shortcuts for some variables"
   ]
  },
  {
   "cell_type": "code",
   "execution_count": null,
   "metadata": {},
   "outputs": [],
   "source": [
    "treeSec.SetAlias(\"LHC15odEdxMIP\",\"LHC15o_pass1.hisdEdxMIP_dSecDist.binMedian\");\n",
    "treeSec.SetAlias(\"LHC18qdEdxMIP\",\"LHC18q_pass1.hisdEdxMIP_dSecDist.binMedian\");\n",
    "treeSec.SetAlias(\"LHC18l8adEdxMIP\",\"LHC18l8a_MC.hisdEdxMIP_dSecDist.binMedian\");\n",
    "#\n",
    "treeSec.SetAlias(\"LHC15oQMax0\",\"LHC15o_pass1.hisQMaxMIP0_dSecDist.binMedian\");\n",
    "treeSec.SetAlias(\"LHC18qQMax0\",\"LHC18q_pass1.hisQMaxMIP0_dSecDist.binMedian\");\n",
    "treeSec.SetAlias(\"LHC18l8aQMax0\",\"LHC18l8a_MC.hisQMaxMIP0_dSecDist.binMedian\");\n",
    "#\n",
    "treeSec.SetAlias(\"LHC15oChi2ITS\",\"LHC15o_pass1.hisnormChi2ITS_dSecDist.binMedian\");\n",
    "treeSec.SetAlias(\"LHC18qChi2ITS\",\"LHC18q_pass1.hisnormChi2ITS_dSecDist.binMedian\");\n",
    "treeSec.SetAlias(\"LHC18l8aChi2ITS\",\"LHC18l8a_MC.hisnormChi2ITS_dSecDist.binMedian\");\n",
    "treeSec.SetAlias(\"LHC15oChi2TPC\",\"LHC15o_pass1.hisnormChi2TPC_dSecDist.binMedian\");\n",
    "treeSec.SetAlias(\"LHC18qChi2TPC\",\"LHC18q_pass1.hisnormChi2TPC_dSecDist.binMedian\");\n",
    "treeSec.SetAlias(\"LHC18l8aChi2TPC\",\"LHC18l8a_MC.hisnormChi2TPC_dSecDist.binMedian\");\n",
    "#\n",
    "treeSec.SetAlias(\"LHC15oChi2ITSMC\",\"LHC15o_pass1.hisnormChi2ITS_dSecDist.binMedian/LHC18l8a_MC.hisnormChi2ITS_dSecDist.binMedian\");\n",
    "treeSec.SetAlias(\"LHC18qChi2ITSMC\",\"LHC18q_pass1.hisnormChi2ITS_dSecDist.binMedian/LHC18l8a_MC.hisnormChi2ITS_dSecDist.binMedian\"); \n",
    "treeSec.SetAlias(\"LHC15oChi2TPCMC\",\"LHC15o_pass1.hisnormChi2TPC_dSecDist.binMedian/LHC18l8a_MC.hisnormChi2TPC_dSecDist.binMedian\");\n",
    "treeSec.SetAlias(\"LHC18qChi2TPCMC\",\"LHC18q_pass1.hisnormChi2TPC_dSecDist.binMedian/LHC18l8a_MC.hisnormChi2TPC_dSecDist.binMedian\");"
   ]
  },
  {
   "cell_type": "markdown",
   "metadata": {},
   "source": [
    "# TPC dEdx edge bias - full dEdx"
   ]
  },
  {
   "cell_type": "code",
   "execution_count": null,
   "metadata": {},
   "outputs": [],
   "source": [
    "query = \"entries>100\"\n",
    "figureArray= [\n",
    "                [['dSector'], ['LHC15odEdxMIP'], {'colorZvar':'qPt'}],\n",
    "                [['dSector'], ['LHC18qdEdxMIP'], {'colorZvar':'qPt'}],\n",
    "                [['dSector'], ['LHC18l8adEdxMIP'], {'colorZvar':'qPt'}],\n",
    "                ['table']             \n",
    "            ]\n",
    "tooltips=[('qPt', '(@qPt)'), ('ps/pt', '(@atgl)'), ('multTPCClusterN', '(@multTPCClusterN)'),\n",
    "            ('LHC15odEdxMIP','(@LHC15odEdxMIP)'), ('LHC18qdEdxMIP', '(@LHC18qdEdxMIP)'),('LHC18l8adEdxMIP', '(@LHC18l8adEdxMIP)')]\n",
    "figureLayout= '((0, 1,2 ),(3, plot_height=100,x_visible=1),commonX=0, commonY=0,x_visible=1,y_visible=1,plot_height=350,plot_width=1000)'\n",
    "widgets=\"query.xx(),slider.qPt(-3,3,0.3,-0.3,0.3),slider.atgl(0,1,0.1,0.1), slider.dSector(0,1,0.05,0,1),slider.multTPCClusterN(0,1.4,0.2,0.2)\"\n",
    "output_file(\"compararison20152018_dEdxMIP.html\")\n",
    "#warnings.filterwarnings('ignore')\n",
    "#output=bokehDrawSA.fromArray(treeSec,query,figureArray,widgets,tooltips=tooltips, layout=figureLayout)\n",
    "output=bokehDrawSA.fromArray(treeSec,query,figureArray,widgets, layout=figureLayout)"
   ]
  },
  {
   "cell_type": "markdown",
   "metadata": {},
   "source": [
    "## TPC dEdx bias for MIP  ROC0"
   ]
  },
  {
   "cell_type": "code",
   "execution_count": null,
   "metadata": {},
   "outputs": [],
   "source": [
    "query = \"entries>100\"\n",
    "figureArray= [\n",
    "                [['dSector'], ['LHC15oQMax0'], {'colorZvar':'qPt'}],\n",
    "                [['dSector'], ['LHC18qQMax0'], {'colorZvar':'qPt'}],\n",
    "                [['dSector'], ['LHC18l8aQMax0'], {'colorZvar':'qPt'}],\n",
    "                ['table']             \n",
    "            ]\n",
    "tooltips=[('qPt', '(@qPt)'), ('ps/pt', '(@atgl)'), ('multTPCClusterN', '(@multTPCClusterN)'),\n",
    "            ('LHC15oQMax0','(@LHC15oQMax0)'), ('LHC18qQMax0', '(@LHC18qQMax0)'),('LHC18l8aQMax0', '(@LHC18l8aQMax0)')]\n",
    "figureLayout= '((0, 1,2 ),(3, plot_height=100,x_visible=1),commonX=0, commonY=0,x_visible=1,y_visible=1,plot_height=350,plot_width=1000)'\n",
    "widgets=\"query.xx(),slider.qPt(-3,3,0.3,-0.3,0.3),slider.atgl(0,1,0.1,0.1), slider.dSector(0,1,0.05,0,1),slider.multTPCClusterN(0,1.4,0.2,0.2)\"\n",
    "output_file(\"compararison20152018_QMax0.html\")\n",
    "#warnings.filterwarnings('ignore')\n",
    "#output=bokehDrawSA.fromArray(treeSec,query,figureArray,widgets,tooltips=tooltips, layout=figureLayout)\n",
    "output=bokehDrawSA.fromArray(treeSec,query,figureArray,widgets, layout=figureLayout)"
   ]
  },
  {
   "cell_type": "markdown",
   "metadata": {},
   "source": [
    "## Chi2 ITS"
   ]
  },
  {
   "cell_type": "code",
   "execution_count": null,
   "metadata": {},
   "outputs": [],
   "source": [
    "query = \"entries>100\"\n",
    "figureArray= [\n",
    "                [['dSector'], ['LHC15oChi2ITS'], {'colorZvar':'qPt'}],\n",
    "                [['dSector'], ['LHC18qChi2ITS'], {'colorZvar':'qPt'}],\n",
    "                [['dSector'], ['LHC18l8aChi2ITS'], {'colorZvar':'qPt'}],\n",
    "                ['table']             \n",
    "            ]\n",
    "tooltips=[('qPt', '(@qPt)'), ('ps/pt', '(@atgl)'), ('multTPCClusterN', '(@multTPCClusterN)'),\n",
    "            ('LHC15oChi2ITS','(@LHC15oChi2ITS)'), ('LHC18qChi2ITS', '(@LHC18qChi2ITS)'),('LHC18l8aChi2ITS', '(@LHC18l8aChi2ITS)')]\n",
    "figureLayout= '((0, 1,2 ),(3, plot_height=100,x_visible=1),commonX=0, commonY=0,x_visible=1,y_visible=1,plot_height=350,plot_width=1200)'\n",
    "widgets=\"query.xx(),slider.qPt(-3,3,0.3,-0.3,0.3),slider.atgl(0,1,0.1,0.1), slider.dSector(0,1,0.05,0,1),slider.multTPCClusterN(0,1.4,0.2,0.2)\"\n",
    "output_file(\"compararison20152018_Chi2ITS.html\")\n",
    "warnings.filterwarnings('ignore')\n",
    "output=bokehDrawSA.fromArray(treeSec,query,figureArray,widgets,tooltips=tooltips, layout=figureLayout)"
   ]
  },
  {
   "cell_type": "markdown",
   "metadata": {},
   "source": [
    "### CHI2 TPC"
   ]
  },
  {
   "cell_type": "code",
   "execution_count": null,
   "metadata": {},
   "outputs": [],
   "source": [
    "query = \"entries>100\"\n",
    "figureArray= [\n",
    "                [['dSector'], ['LHC15oChi2TPC'], {'colorZvar':'qPt'}],\n",
    "                [['dSector'], ['LHC18qChi2TPC'], {'colorZvar':'qPt'}],\n",
    "                [['dSector'], ['LHC18l8aChi2TPC'], {'colorZvar':'qPt'}],\n",
    "                ['table']             \n",
    "            ]\n",
    "tooltips=[('qPt', '(@qPt)'), ('ps/pt', '(@atgl)'), ('multTPCClusterN', '(@multTPCClusterN)'),\n",
    "            ('LHC15oChi2TPC','(@LHC15oChi2TPC)'), ('LHC18qChi2TPC', '(@LHC18qChi2TPC)'),('LHC18l8aChi2TPC', '(@LHC18l8aChi2TPC)')]\n",
    "figureLayout= '((0, 1,2 ),(3, plot_height=100,x_visible=1),commonX=0, commonY=0,x_visible=1,y_visible=1,plot_height=350,plot_width=1200)'\n",
    "widgets=\"query.xx(),slider.qPt(-3,3,0.3,-0.3,0.3),slider.atgl(0,1,0.1,0.1), slider.dSector(0,1,0.05,0,1),slider.multTPCClusterN(0,1.4,0.2,0.2)\"\n",
    "output_file(\"compararison20152018_Chi2TPC_sector.html\")\n",
    "#warnings.filterwarnings('ignore')\n",
    "output=bokehDrawSA.fromArray(treeSec,query,figureArray,widgets,tooltips=tooltips, layout=figureLayout)"
   ]
  },
  {
   "cell_type": "code",
   "execution_count": null,
   "metadata": {},
   "outputs": [],
   "source": [
    "query = \"entries>100&dSector<0.5\"\n",
    "figureArray= [\n",
    "                [['multTPCClusterN'], ['LHC15oChi2TPC'], {'colorZvar':'dSector'}],\n",
    "                [['multTPCClusterN'], ['LHC18qChi2TPC'], {'colorZvar':'dSector'}],\n",
    "                [['multTPCClusterN'], ['LHC18l8aChi2TPC'], {'colorZvar':'dSector'}],\n",
    "                ['table']             \n",
    "            ]\n",
    "tooltips=[('qPt', '(@qPt)'), ('ps/pt', '(@atgl)'), ('multTPCClusterN', '(@multTPCClusterN)'),\n",
    "            ('LHC15oChi2TPC','(@LHC15oChi2TPC)'), ('LHC18qChi2TPC', '(@LHC18qChi2TPC)'),('LHC18l8aChi2TPC', '(@LHC18l8aChi2TPC)')]\n",
    "figureLayout= '((0, 1,2 ),(3, plot_height=100,x_visible=1),commonX=0, commonY=0,x_visible=1,y_visible=1,plot_height=350,plot_width=1400)'\n",
    "widgets=\"query.xx(),slider.qPt(-3,3,0.3,0.1),slider.atgl(0,1,0.1,0.1), slider.dSector(0,1,0.05,0,1),slider.multTPCClusterN(0,1.4,0.2,0,1.4)\"\n",
    "output_file(\"compararison20152018_Chi2TPC_mult.html\")\n",
    "#warnings.filterwarnings('ignore')\n",
    "output=bokehDrawSA.fromArray(treeSec,query,figureArray,widgets,tooltips=tooltips, layout=figureLayout)"
   ]
  },
  {
   "cell_type": "code",
   "execution_count": null,
   "metadata": {},
   "outputs": [],
   "source": [
    "\n",
    "query = \"entries>100\"\n",
    "figureArray= [\n",
    "                [['dSector'], ['LHC15oChi2TPCMC'], {'colorZvar':'qPt'}],\n",
    "                [['dSector'], ['LHC18qChi2TPCMC'], {'colorZvar':'qPt'}],\n",
    "                [['dSector'], ['LHC15oChi2ITSMC'], {'colorZvar':'qPt'}],\n",
    "                [['dSector'], ['LHC18qChi2ITSMC'], {'colorZvar':'qPt'}],\n",
    "                ['table']             \n",
    "            ]\n",
    "tooltips=[('qPt', '(@qPt)'), ('ps/pt', '(@atgl)'), ('multTPCClusterN', '(@multTPCClusterN)'),\n",
    "            ('LHC15oChi2TPCMC','(@LHC15oChi2TPCMC)'), ('LHC18qChi2TPCMC', '(@LHC18qChi2TPCMC)')]\n",
    "figureLayout= '((0, 1 ),(2,3,x_visible=1),commonX=0, commonY=0,x_visible=1,y_visible=1,plot_height=250,plot_width=1400)'\n",
    "widgets=\"query.xx(),slider.qPt(-3,3,0.3,-0.3,0.3),slider.atgl(0,1,0.1,0.1), slider.dSector(0,1,0.05,0,1),slider.multTPCClusterN(0,1.4,0.2,0.2)\"\n",
    "output_file(\"compararison20152018_Chi2TPCITSToMC_sector.html\")\n",
    "#warnings.filterwarnings('ignore')\n",
    "output=bokehDrawSA.fromArray(treeSec,query,figureArray,widgets,tooltips=tooltips, layout=figureLayout)"
   ]
  },
  {
   "cell_type": "code",
   "execution_count": null,
   "metadata": {},
   "outputs": [],
   "source": [
    "from ROOT import TFile, AliTreePlayer, TStatToolkit, TCanvas\n",
    "c = TCanvas(\"xxx\",\"xxx\")\n",
    "treeSec.Draw(\"entries\")\n",
    "c.Draw()"
   ]
  },
  {
   "cell_type": "code",
   "execution_count": null,
   "metadata": {},
   "outputs": [],
   "source": [
    "28928*198700/(3*3)"
   ]
  },
  {
   "cell_type": "code",
   "execution_count": null,
   "metadata": {},
   "outputs": [],
   "source": []
  }
 ],
 "metadata": {
  "kernelspec": {
   "display_name": "Python 3",
   "language": "python",
   "name": "python3"
  },
  "language_info": {
   "codemirror_mode": {
    "name": "ipython",
    "version": 3
   },
   "file_extension": ".py",
   "mimetype": "text/x-python",
   "name": "python",
   "nbconvert_exporter": "python",
   "pygments_lexer": "ipython3",
   "version": "3.6.8"
  }
 },
 "nbformat": 4,
 "nbformat_minor": 2
}
