{
 "cells": [
  {
   "cell_type": "code",
   "execution_count": 1,
   "metadata": {},
   "outputs": [],
   "source": [
    "import os\n",
    "os.environ[\"CUDA_VISIBLE_DEVICES\"]=\"-2\""
   ]
  },
  {
   "cell_type": "code",
   "execution_count": 2,
   "metadata": {},
   "outputs": [],
   "source": [
    "import numpy as np\n",
    "import pandas as pd\n",
    "import matplotlib.pyplot as plt\n",
    "import tensorflow as tf\n",
    "import tensorflow_probability as tfp"
   ]
  },
  {
   "cell_type": "markdown",
   "metadata": {},
   "source": [
    "# create different test functions as tensorflow functions"
   ]
  },
  {
   "cell_type": "code",
   "execution_count": 3,
   "metadata": {},
   "outputs": [],
   "source": [
    "def testfunc_sin(x, a, b, c):\n",
    "    a=tf.cast(a,tf.float64)\n",
    "    b=tf.cast(b,tf.float64)\n",
    "    c=tf.cast(c,tf.float64)\n",
    "    return a*tf.sin(b*x)+c"
   ]
  },
  {
   "cell_type": "code",
   "execution_count": 4,
   "metadata": {},
   "outputs": [],
   "source": [
    "def testfunc_lin(x, a, b):\n",
    "    a=tf.cast(a,tf.float64)\n",
    "    b=tf.cast(b,tf.float64)\n",
    "    return a*x+b"
   ]
  },
  {
   "cell_type": "code",
   "execution_count": 5,
   "metadata": {},
   "outputs": [],
   "source": [
    "def testfunc_exp(x, a, b):\n",
    "    a=tf.cast(a,tf.float64)\n",
    "    b=tf.cast(b,tf.float64)\n",
    "    return tf.exp(a*x)+b"
   ]
  },
  {
   "cell_type": "markdown",
   "metadata": {},
   "source": [
    "# create smeared test data "
   ]
  },
  {
   "cell_type": "code",
   "execution_count": 6,
   "metadata": {},
   "outputs": [],
   "source": [
    "x_vals = np.array(np.linspace(0,2*np.pi,50))"
   ]
  },
  {
   "cell_type": "code",
   "execution_count": 7,
   "metadata": {},
   "outputs": [],
   "source": [
    "y_vals_sin = []\n",
    "y_vals_lin = []\n",
    "y_vals_exp = []"
   ]
  },
  {
   "cell_type": "code",
   "execution_count": 8,
   "metadata": {},
   "outputs": [],
   "source": [
    "for el in x_vals:\n",
    "    y_vals_sin.append(testfunc_sin(el, np.random.normal(0.5,0.1), np.random.normal(0.5,0.1), np.random.normal(0.5,0.1)))\n",
    "    y_vals_lin.append(testfunc_lin(el, np.random.normal(0.5,0.1), np.random.normal(0.5,0.1)))\n",
    "    y_vals_exp.append(testfunc_exp(el, np.random.normal(0.5,0.1), np.random.normal(0.5,0.1)))"
   ]
  },
  {
   "cell_type": "markdown",
   "metadata": {},
   "source": [
    "# it can be used any loss function with f(y_pred, y_true) which returns a scalar"
   ]
  },
  {
   "cell_type": "code",
   "execution_count": 9,
   "metadata": {},
   "outputs": [],
   "source": [
    "def loss_func(y_pred, y_true):\n",
    "    return tf.reduce_mean((y_pred - y_true )**2)\n"
   ]
  },
  {
   "cell_type": "markdown",
   "metadata": {},
   "source": [
    "# create test function with weights"
   ]
  },
  {
   "cell_type": "code",
   "execution_count": 10,
   "metadata": {},
   "outputs": [],
   "source": [
    "def loss_func_w(y_pred, y_true, weights):\n",
    "    return tf.reduce_mean((y_pred - y_true )**2)+tf.reduce_mean(weights)\n",
    " "
   ]
  },
  {
   "cell_type": "code",
   "execution_count": 11,
   "metadata": {},
   "outputs": [],
   "source": [
    "weights = np.ones(x_vals.shape[0])"
   ]
  },
  {
   "cell_type": "markdown",
   "metadata": {},
   "source": [
    "# import Fitter and test it for the different functions and normal fitting + BS fitting"
   ]
  },
  {
   "cell_type": "code",
   "execution_count": 12,
   "metadata": {},
   "outputs": [],
   "source": [
    "from Fitter import curve_fit, curve_fit_BS, curve_fit_raw"
   ]
  },
  {
   "cell_type": "code",
   "execution_count": 13,
   "metadata": {},
   "outputs": [],
   "source": [
    "testfunclist = [testfunc_sin, testfunc_lin, testfunc_exp]\n",
    "y_vals_list = [y_vals_sin, y_vals_lin, y_vals_exp]\n",
    "namelist = [\"sin\",\"lin\",\"exp\"]"
   ]
  },
  {
   "cell_type": "code",
   "execution_count": 14,
   "metadata": {},
   "outputs": [
    {
     "name": "stdout",
     "output_type": "stream",
     "text": [
      "WARNING:tensorflow:Calling GradientTape.gradient on a persistent tape inside its context is significantly less efficient than calling it outside the context (it causes the gradient ops to be recorded on the tape, leading to increased CPU and memory usage). Only call GradientTape.gradient inside the context if you actually want to trace the gradient in order to compute higher order derivatives.\n",
      "\n",
      "\n",
      "function: sin\n",
      "parameters:\n",
      "[0.38601232, 0.46180573, 0.5685764]\n",
      "covariance matrix:\n",
      "[[ 0.32446882 -0.02246676 -0.2254054 ]\n",
      " [-0.02246675  0.03450719  0.02831388]\n",
      " [-0.22540537  0.02831388  0.18729536]]\n",
      "parameters BS:\n",
      "[0.3266318 0.6691086 0.6260999]\n",
      "errors BS:\n",
      "[0.14696522 0.44122157 0.10335104]\n",
      "\n",
      "\n",
      "function: lin\n",
      "parameters:\n",
      "[0.5023073, 0.54026407]\n",
      "covariance matrix:\n",
      "[[ 0.03671923 -0.11535686]\n",
      " [-0.11535686  0.48813632]]\n",
      "parameters BS:\n",
      "[0.49736375 0.56711304]\n",
      "errors BS:\n",
      "[0.02323407 0.06713528]\n",
      "\n",
      "\n",
      "function: exp\n",
      "parameters:\n",
      "[0.5307627, -0.21283449]\n",
      "covariance matrix:\n",
      "[[ 1.0674380e-02 -4.1242674e-01]\n",
      " [-4.1242674e-01  4.1157516e+01]]\n",
      "parameters BS:\n",
      "[ 0.5194047 -0.2677133]\n",
      "errors BS:\n",
      "[0.01023802 0.16328071]\n"
     ]
    }
   ],
   "source": [
    "for el in zip(testfunclist,y_vals_list,namelist):\n",
    "    a,b,c = curve_fit_raw(x_vals, np.array(el[1]), el[0], loss=loss_func)\n",
    "    a,b,c = curve_fit_raw(x_vals, np.array(el[1]), el[0], loss=loss_func_w, weights = weights)\n",
    "    a,c = curve_fit(x_vals, np.array(el[1]), el[0], loss=loss_func)\n",
    "    print()\n",
    "    print()\n",
    "    print(\"function: \"+el[2])\n",
    "    print(\"parameters:\")\n",
    "    print(a)\n",
    "    print(\"covariance matrix:\")\n",
    "    print(c)\n",
    "    a,c = curve_fit(x_vals, np.array(el[1]), el[0], loss=loss_func_w, weights = weights)\n",
    "    a,c = curve_fit_BS(x_vals, np.array(el[1]), el[0], loss=loss_func)\n",
    "    print(\"parameters BS:\")\n",
    "    print(a)\n",
    "    print(\"errors BS:\")\n",
    "    print(c)\n",
    "    \n",
    "    a,c = curve_fit_BS(x_vals, np.array(el[1]), el[0], loss=loss_func_w, weights = weights)\n"
   ]
  },
  {
   "cell_type": "markdown",
   "metadata": {},
   "source": [
    "# initial parameters should be provided as tf.Variable"
   ]
  },
  {
   "cell_type": "code",
   "execution_count": 15,
   "metadata": {},
   "outputs": [],
   "source": [
    "initial_parameters = [tf.Variable(1.),tf.Variable(1.),tf.Variable(1.)]"
   ]
  },
  {
   "cell_type": "code",
   "execution_count": 16,
   "metadata": {},
   "outputs": [],
   "source": [
    "a,c = curve_fit(x_vals, np.array(y_vals_sin), testfunc_sin, initial_parameters=initial_parameters)"
   ]
  },
  {
   "cell_type": "markdown",
   "metadata": {},
   "source": [
    "# use Keras loss"
   ]
  },
  {
   "cell_type": "code",
   "execution_count": 17,
   "metadata": {},
   "outputs": [],
   "source": [
    "lhuber = tf.keras.losses.Huber()"
   ]
  },
  {
   "cell_type": "code",
   "execution_count": 18,
   "metadata": {},
   "outputs": [],
   "source": [
    "a,c = curve_fit(x_vals, np.array(y_vals_sin), testfunc_sin, loss = lhuber, initial_parameters=initial_parameters)"
   ]
  },
  {
   "cell_type": "code",
   "execution_count": 19,
   "metadata": {},
   "outputs": [
    {
     "data": {
      "text/plain": [
       "[0.38623515, 0.46178913, 0.568419]"
      ]
     },
     "execution_count": 19,
     "metadata": {},
     "output_type": "execute_result"
    }
   ],
   "source": [
    "a"
   ]
  },
  {
   "cell_type": "markdown",
   "metadata": {},
   "source": [
    "# test many parameters"
   ]
  },
  {
   "cell_type": "code",
   "execution_count": 20,
   "metadata": {},
   "outputs": [],
   "source": [
    "n_tests = 5\n",
    "y_lin_list = []\n",
    "y_sin_list = []\n",
    "y_exp_list = []\n",
    "for i in range(n_tests):\n",
    "    y_lin_list.append([])\n",
    "    y_sin_list.append([])\n",
    "    y_exp_list.append([])"
   ]
  },
  {
   "cell_type": "code",
   "execution_count": 21,
   "metadata": {},
   "outputs": [],
   "source": [
    "a_lin = np.random.uniform(size = n_tests)\n",
    "b_lin = np.random.uniform(size = n_tests)\n",
    "sigma_lin = np.random.uniform(size = n_tests)\n",
    "\n",
    "a_exp = np.random.uniform(size = n_tests)\n",
    "b_exp = np.random.uniform(size = n_tests)\n",
    "sigma_exp = np.random.uniform(size = n_tests)\n",
    "\n",
    "a_sin = np.random.uniform(size = n_tests)\n",
    "b_sin = np.random.uniform(size = n_tests)\n",
    "c_sin = np.random.uniform(size = n_tests)\n",
    "sigma_sin = np.random.uniform(size = n_tests)"
   ]
  },
  {
   "cell_type": "code",
   "execution_count": 22,
   "metadata": {},
   "outputs": [],
   "source": [
    "for idx,el in enumerate(zip(y_sin_list, y_lin_list, y_exp_list)):\n",
    "        for x in x_vals:\n",
    "            el[0].append(testfunc_sin(x, a_sin[idx], b_sin[idx], c_sin[idx])+np.random.normal(0,sigma_sin[idx]))\n",
    "            el[1].append(testfunc_lin(x, a_lin[idx], b_lin[idx])+np.random.normal(0,sigma_lin[idx]))\n",
    "            el[2].append(testfunc_exp(x, a_exp[idx], b_exp[idx])+np.random.normal(0,sigma_exp[idx]))"
   ]
  },
  {
   "cell_type": "code",
   "execution_count": null,
   "metadata": {},
   "outputs": [
    {
     "name": "stdout",
     "output_type": "stream",
     "text": [
      "0\n"
     ]
    }
   ],
   "source": [
    "pars_out_sin = []\n",
    "pars_out_lin = []\n",
    "pars_out_exp = []\n",
    "errs_out_sin = []\n",
    "errs_out_lin = []\n",
    "errs_out_exp = []\n",
    "pars_out_sinBS = []\n",
    "pars_out_linBS = []\n",
    "pars_out_expBS = []\n",
    "errs_out_sinBS = []\n",
    "errs_out_linBS = []\n",
    "errs_out_expBS = []\n",
    "\n",
    "for i in range(n_tests):\n",
    "        print(i)\n",
    "        #a,b = curve_fit(x_vals, np.array(y_sin_list[i]), testfunc_sin)\n",
    "        #pars_out_sin.append(a)\n",
    "        #errs_out_sin.append(np.sqrt(np.diag(b)))\n",
    "        #a,b = curve_fit_BS(x_vals, np.array(y_sin_list[i]), testfunc_sin)\n",
    "        #pars_out_sinBS.append(a)\n",
    "        #errs_out_sinBS.append(b)\n",
    "        a,b = curve_fit(x_vals, np.array(y_lin_list[i]), testfunc_lin)\n",
    "        pars_out_lin.append(a)\n",
    "        errs_out_lin.append(np.sqrt(np.diag(b)))\n",
    "        a,b = curve_fit_BS(x_vals, np.array(y_lin_list[i]), testfunc_lin)\n",
    "        pars_out_linBS.append(a)\n",
    "        errs_out_linBS.append(b)\n",
    "        #a,b = curve_fit(x_vals, np.array(y_exp_list[i]), testfunc_exp)\n",
    "        #pars_out_exp.append(a)\n",
    "        #errs_out_exp.append(np.sqrt(np.diag(b)))\n",
    "        #a,b = curve_fit_BS(x_vals, np.array(y_exp_list[i]), testfunc_exp)\n",
    "        #pars_out_expBS.append(a)\n",
    "        #errs_out_expBS.append(b)\n"
   ]
  },
  {
   "cell_type": "code",
   "execution_count": null,
   "metadata": {},
   "outputs": [],
   "source": [
    "#np.array(pars_out_sin)[:,0]"
   ]
  },
  {
   "cell_type": "markdown",
   "metadata": {},
   "source": [
    "dictsin = {\"a\": a_sin, \"b\": b_sin, \"c\": c_sin, \"a_pred\": np.array(pars_out_sin)[:,0], \"b_pred\": np.array(pars_out_sin)[:,1], \"c_pred\": np.array(pars_out_sin)[:,2],\n",
    "          \"a_err\": np.array(errs_out_sin)[:,0], \"b_err\": np.array(errs_out_sin)[:,1], \"c_err\": np.array(errs_out_sin)[:,2],\n",
    "          \"a_predBS\": np.array(pars_out_sinBS)[:,0], \"b_predBS\": np.array(pars_out_sinBS)[:,1], \"c_predBS\": np.array(pars_out_sinBS)[:,2],\n",
    "          \"a_errBS\": np.array(errs_out_sinBS)[:,0], \"b_errBS\": np.array(errs_out_sinBS)[:,1], \"c_errBS\": np.array(errs_out_sinBS)[:,2]\n",
    "          }"
   ]
  },
  {
   "cell_type": "code",
   "execution_count": null,
   "metadata": {},
   "outputs": [],
   "source": [
    "dictlin = {\"a\": a_lin, \"b\": b_lin, \"a_pred\": np.array(pars_out_lin)[:,0], \"b_pred\": np.array(pars_out_lin)[:,1],\n",
    "          \"a_err\": np.array(errs_out_lin)[:,0], \"b_err\": np.array(errs_out_lin)[:,1],\n",
    "          \"a_predBS\": np.array(pars_out_linBS)[:,0], \"b_predBS\": np.array(pars_out_linBS)[:,1],\n",
    "          \"a_errBS\": np.array(errs_out_linBS)[:,0], \"b_errBS\": np.array(errs_out_linBS)[:,1]\n",
    "          }"
   ]
  },
  {
   "cell_type": "markdown",
   "metadata": {},
   "source": [
    "dictexp = {\"a\": a_exp, \"b\": b_exp, \"a_pred\": np.array(pars_out_exp)[:,0], \"b_pred\": np.array(pars_out_exp)[:,1],\n",
    "          \"a_err\": np.array(errs_out_exp)[:,0], \"b_err\": np.array(errs_out_exp)[:,1],\n",
    "          \"a_predBS\": np.array(pars_out_expBS)[:,0], \"b_predBS\": np.array(pars_out_expBS)[:,1],\n",
    "          \"a_errBS\": np.array(errs_out_expBS)[:,0], \"b_errBS\": np.array(errs_out_expBS)[:,1]\n",
    "          }"
   ]
  },
  {
   "cell_type": "code",
   "execution_count": null,
   "metadata": {},
   "outputs": [],
   "source": [
    "#dfsin = pd.DataFrame(dictsin)\n",
    "dflin = pd.DataFrame(dictlin)\n",
    "#dfexp = pd.DataFrame(dictexp)"
   ]
  },
  {
   "cell_type": "code",
   "execution_count": null,
   "metadata": {},
   "outputs": [],
   "source": [
    "dflin.head()"
   ]
  },
  {
   "cell_type": "code",
   "execution_count": null,
   "metadata": {},
   "outputs": [],
   "source": [
    "import matplotlib.pyplot as plt"
   ]
  },
  {
   "cell_type": "code",
   "execution_count": null,
   "metadata": {},
   "outputs": [],
   "source": [
    "plt.hist((dflin[\"a\"]-dflin[\"a_pred\"])/dflin[\"a_err\"], bins=50)"
   ]
  },
  {
   "cell_type": "code",
   "execution_count": null,
   "metadata": {},
   "outputs": [],
   "source": [
    "np.mean((dflin[\"a\"]-dflin[\"a_pred\"])/dflin[\"a_err\"])"
   ]
  },
  {
   "cell_type": "code",
   "execution_count": null,
   "metadata": {},
   "outputs": [],
   "source": [
    "np.std((dflin[\"a\"]-dflin[\"a_pred\"])/dflin[\"a_err\"])"
   ]
  },
  {
   "cell_type": "code",
   "execution_count": null,
   "metadata": {},
   "outputs": [],
   "source": []
  }
 ],
 "metadata": {
  "kernelspec": {
   "display_name": "Python 3",
   "language": "python",
   "name": "python3"
  },
  "language_info": {
   "codemirror_mode": {
    "name": "ipython",
    "version": 3
   },
   "file_extension": ".py",
   "mimetype": "text/x-python",
   "name": "python",
   "nbconvert_exporter": "python",
   "pygments_lexer": "ipython3",
   "version": "3.6.9"
  }
 },
 "nbformat": 4,
 "nbformat_minor": 4
}
