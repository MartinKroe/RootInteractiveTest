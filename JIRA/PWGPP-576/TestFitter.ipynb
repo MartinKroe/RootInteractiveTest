{
 "cells": [
  {
   "cell_type": "code",
   "execution_count": 1,
   "metadata": {},
   "outputs": [],
   "source": [
    "import os\n",
    "os.environ[\"CUDA_VISIBLE_DEVICES\"]=\"-2\""
   ]
  },
  {
   "cell_type": "code",
   "execution_count": 2,
   "metadata": {},
   "outputs": [],
   "source": [
    "import numpy as np\n",
    "import pandas as pd\n",
    "import matplotlib.pyplot as plt\n",
    "import tensorflow as tf\n",
    "import tensorflow_probability as tfp"
   ]
  },
  {
   "cell_type": "markdown",
   "metadata": {},
   "source": [
    "# create different test functions as tensorflow functions"
   ]
  },
  {
   "cell_type": "code",
   "execution_count": 3,
   "metadata": {},
   "outputs": [],
   "source": [
    "def testfunc_sin(x, a, b, c):\n",
    "    a=tf.cast(a,tf.float64)\n",
    "    b=tf.cast(b,tf.float64)\n",
    "    c=tf.cast(c,tf.float64)\n",
    "    return a*tf.sin(b*x)+c"
   ]
  },
  {
   "cell_type": "code",
   "execution_count": 4,
   "metadata": {},
   "outputs": [],
   "source": [
    "def testfunc_lin(x, a, b):\n",
    "    a=tf.cast(a,tf.float64)\n",
    "    b=tf.cast(b,tf.float64)\n",
    "    return a*x+b"
   ]
  },
  {
   "cell_type": "code",
   "execution_count": 5,
   "metadata": {},
   "outputs": [],
   "source": [
    "def testfunc_exp(x, a, b):\n",
    "    a=tf.cast(a,tf.float64)\n",
    "    b=tf.cast(b,tf.float64)\n",
    "    return tf.exp(a*x)+b"
   ]
  },
  {
   "cell_type": "markdown",
   "metadata": {},
   "source": [
    "# create smeared test data "
   ]
  },
  {
   "cell_type": "code",
   "execution_count": 6,
   "metadata": {},
   "outputs": [],
   "source": [
    "x_vals = np.array(np.linspace(0,2*np.pi,50))"
   ]
  },
  {
   "cell_type": "code",
   "execution_count": 7,
   "metadata": {},
   "outputs": [],
   "source": [
    "y_vals_sin = []\n",
    "y_vals_lin = []\n",
    "y_vals_exp = []"
   ]
  },
  {
   "cell_type": "code",
   "execution_count": 8,
   "metadata": {},
   "outputs": [],
   "source": [
    "for el in x_vals:\n",
    "    y_vals_sin.append(testfunc_sin(el, np.random.normal(0.5,0.1), np.random.normal(0.5,0.1), np.random.normal(0.5,0.1)))\n",
    "    y_vals_lin.append(testfunc_lin(el, np.random.normal(0.5,0.1), np.random.normal(0.5,0.1)))\n",
    "    y_vals_exp.append(testfunc_exp(el, np.random.normal(0.5,0.1), np.random.normal(0.5,0.1)))"
   ]
  },
  {
   "cell_type": "markdown",
   "metadata": {},
   "source": [
    "# it can be used any loss function with f(y_pred, y_true) which returns a scalar"
   ]
  },
  {
   "cell_type": "code",
   "execution_count": 9,
   "metadata": {},
   "outputs": [],
   "source": [
    "def loss_func(y_pred, y_true):\n",
    "    return tf.reduce_mean((y_pred - y_true )**2)\n"
   ]
  },
  {
   "cell_type": "markdown",
   "metadata": {},
   "source": [
    "# create test function with weights"
   ]
  },
  {
   "cell_type": "code",
   "execution_count": 10,
   "metadata": {},
   "outputs": [],
   "source": [
    "def loss_func_w(y_pred, y_true, weights):\n",
    "    return tf.reduce_mean((y_pred - y_true )**2)+tf.reduce_mean(weights)\n",
    " "
   ]
  },
  {
   "cell_type": "code",
   "execution_count": 11,
   "metadata": {},
   "outputs": [],
   "source": [
    "weights = np.ones(x_vals.shape[0])"
   ]
  },
  {
   "cell_type": "markdown",
   "metadata": {},
   "source": [
    "# import Fitter and test it for the different functions and normal fitting + BS fitting"
   ]
  },
  {
   "cell_type": "code",
   "execution_count": 12,
   "metadata": {},
   "outputs": [],
   "source": [
    "from Fitter import curve_fit, curve_fit_BS, curve_fit_raw"
   ]
  },
  {
   "cell_type": "code",
   "execution_count": 13,
   "metadata": {},
   "outputs": [],
   "source": [
    "testfunclist = [testfunc_sin, testfunc_lin, testfunc_exp]\n",
    "y_vals_list = [y_vals_sin, y_vals_lin, y_vals_exp]\n",
    "namelist = [\"sin\",\"lin\",\"exp\"]"
   ]
  },
  {
   "cell_type": "code",
   "execution_count": 14,
   "metadata": {},
   "outputs": [
    {
     "name": "stdout",
     "output_type": "stream",
     "text": [
      "WARNING:tensorflow:Calling GradientTape.gradient on a persistent tape inside its context is significantly less efficient than calling it outside the context (it causes the gradient ops to be recorded on the tape, leading to increased CPU and memory usage). Only call GradientTape.gradient inside the context if you actually want to trace the gradient in order to compute higher order derivatives.\n",
      "\n",
      "\n",
      "function: sin\n",
      "parameters:\n",
      "[0.41046116, 0.53243995, 0.5523214]\n",
      "covariance matrix:\n",
      "[[ 0.33956155 -0.0628045  -0.23538804]\n",
      " [-0.0628045   0.0392945   0.06084339]\n",
      " [-0.23538804  0.06084339  0.20457259]]\n",
      "parameters BS:\n",
      "[0.43976966 0.54412967 0.54007965]\n",
      "errors BS:\n",
      "[0.06203542 0.01302177 0.03180943]\n",
      "\n",
      "\n",
      "function: lin\n",
      "parameters:\n",
      "[0.47734216, 0.5196792]\n",
      "covariance matrix:\n",
      "[[ 0.03199248 -0.10050734]\n",
      " [-0.10050733  0.4253001 ]]\n",
      "parameters BS:\n",
      "[0.4784011  0.50690615]\n",
      "errors BS:\n",
      "[0.02029122 0.03708951]\n",
      "\n",
      "\n",
      "function: exp\n",
      "parameters:\n",
      "[0.53249246, -0.18552992]\n",
      "covariance matrix:\n",
      "[[ 1.1985134e-02 -4.6719748e-01]\n",
      " [-4.6719748e-01  4.7147770e+01]]\n",
      "parameters BS:\n",
      "[ 0.54055    -0.17293014]\n",
      "errors BS:\n",
      "[0.02316454 0.09969538]\n"
     ]
    }
   ],
   "source": [
    "for el in zip(testfunclist,y_vals_list,namelist):\n",
    "    a,b,c = curve_fit_raw(x_vals, np.array(el[1]), el[0], loss=loss_func)\n",
    "    a,b,c = curve_fit_raw(x_vals, np.array(el[1]), el[0], loss=loss_func_w, weights = weights)\n",
    "    a,c = curve_fit(x_vals, np.array(el[1]), el[0], loss=loss_func)\n",
    "    print()\n",
    "    print()\n",
    "    print(\"function: \"+el[2])\n",
    "    print(\"parameters:\")\n",
    "    print(a)\n",
    "    print(\"covariance matrix:\")\n",
    "    print(c)\n",
    "    a,c = curve_fit(x_vals, np.array(el[1]), el[0], loss=loss_func_w, weights = weights)\n",
    "    a,c = curve_fit_BS(x_vals, np.array(el[1]), el[0], loss=loss_func)\n",
    "    print(\"parameters BS:\")\n",
    "    print(a)\n",
    "    print(\"errors BS:\")\n",
    "    print(c)\n",
    "    \n",
    "    a,c = curve_fit_BS(x_vals, np.array(el[1]), el[0], loss=loss_func_w, weights = weights)\n"
   ]
  },
  {
   "cell_type": "markdown",
   "metadata": {},
   "source": [
    "# initial parameters should be provided as tf.Variable"
   ]
  },
  {
   "cell_type": "code",
   "execution_count": 15,
   "metadata": {},
   "outputs": [],
   "source": [
<<<<<<< HEAD
    "for el in zip(testfunclist,y_vals_list,namelist):\n",
    "    a,b,c = curve_fit_raw(x_vals, np.array(el[1]), el[0], loss=loss_func)\n",
    "    a,b,c = curve_fit_raw(x_vals, np.array(el[1]), el[0], loss=loss_func_w, weights = weights)\n",
    "    a,c = curve_fit(x_vals, np.array(el[1]), el[0], loss=loss_func)\n",
    "    print()\n",
    "    print()\n",
    "    print(\"function: \"+el[2])\n",
    "    print(\"parameters:\")\n",
    "    print(a)\n",
    "    print(\"covariance matrix:\")\n",
    "    print(c)\n",
    "    a,c = curve_fit(x_vals, np.array(el[1]), el[0], loss=loss_func_w, weights = weights)\n",
    "    a,c = curve_fit_BS(x_vals, np.array(el[1]), el[0], loss=loss_func)\n",
    "    print(\"parameters BS:\")\n",
    "    print(a)\n",
    "    print(\"errors BS:\")\n",
    "    print(c)\n",
    "    \n",
    "    a,c = curve_fit_BS(x_vals, np.array(el[1]), el[0], loss=loss_func_w, weights = weights)\n"
   ]
  },
  {
   "cell_type": "markdown",
   "metadata": {},
   "source": [
    "# initial parameters should be provided as tf.Variable"
=======
    "initial_parameters = [tf.Variable(1.),tf.Variable(1.),tf.Variable(1.)]"
>>>>>>> c7d47708bc9085b4bcc70643bb12c61c3849fe7a
   ]
  },
  {
   "cell_type": "code",
   "execution_count": 16,
   "metadata": {},
   "outputs": [],
   "source": [
<<<<<<< HEAD
    "initial_parameters = [tf.Variable(1.),tf.Variable(1.),tf.Variable(1.)]"
=======
    "a,c = curve_fit(x_vals, np.array(y_vals_sin), testfunc_sin, initial_parameters=initial_parameters)"
   ]
  },
  {
   "cell_type": "markdown",
   "metadata": {},
   "source": [
    "# use Keras loss"
>>>>>>> c7d47708bc9085b4bcc70643bb12c61c3849fe7a
   ]
  },
  {
   "cell_type": "code",
   "execution_count": 17,
   "metadata": {},
   "outputs": [],
   "source": [
<<<<<<< HEAD
    "a,c = curve_fit(x_vals, np.array(y_vals_sin), testfunc_sin, initial_parameters=initial_parameters)"
   ]
  },
  {
   "cell_type": "markdown",
   "metadata": {},
   "source": [
    "# use Keras loss"
=======
    "lhuber = tf.keras.losses.Huber()"
>>>>>>> c7d47708bc9085b4bcc70643bb12c61c3849fe7a
   ]
  },
  {
   "cell_type": "code",
   "execution_count": 18,
   "metadata": {},
   "outputs": [],
   "source": [
<<<<<<< HEAD
    "lhuber = tf.keras.losses.Huber()"
=======
    "a,c = curve_fit(x_vals, np.array(y_vals_sin), testfunc_sin, loss = lhuber, initial_parameters=initial_parameters)"
>>>>>>> c7d47708bc9085b4bcc70643bb12c61c3849fe7a
   ]
  },
  {
   "cell_type": "code",
   "execution_count": 19,
   "metadata": {},
   "outputs": [
    {
     "data": {
      "text/plain": [
       "[0.41043237, 0.5324458, 0.55234224]"
      ]
     },
     "execution_count": 19,
     "metadata": {},
     "output_type": "execute_result"
    }
   ],
   "source": [
    "a"
   ]
  },
  {
   "cell_type": "markdown",
   "metadata": {},
   "source": [
    "# test many parameters"
   ]
  },
  {
   "cell_type": "code",
   "execution_count": 20,
   "metadata": {},
   "outputs": [],
   "source": [
<<<<<<< HEAD
    "a,c = curve_fit(x_vals, np.array(y_vals_sin), testfunc_sin, loss = lhuber, initial_parameters=initial_parameters)"
=======
    "n_tests = 200\n",
    "y_lin_list = []\n",
    "y_sin_list = []\n",
    "y_exp_list = []\n",
    "for i in range(n_tests):\n",
    "    y_lin_list.append([])\n",
    "    y_sin_list.append([])\n",
    "    y_exp_list.append([])"
>>>>>>> c7d47708bc9085b4bcc70643bb12c61c3849fe7a
   ]
  },
  {
   "cell_type": "code",
   "execution_count": 21,
   "metadata": {},
   "outputs": [],
   "source": [
<<<<<<< HEAD
    "a"
   ]
  },
  {
   "cell_type": "markdown",
   "metadata": {},
   "source": [
    "# test many parameters"
   ]
  },
  {
   "cell_type": "code",
   "execution_count": null,
   "metadata": {},
   "outputs": [],
   "source": [
    "n_tests = 200\n",
    "y_lin_list = []\n",
    "y_sin_list = []\n",
    "y_exp_list = []\n",
    "for i in range(n_tests):\n",
    "    y_lin_list.append([])\n",
    "    y_sin_list.append([])\n",
    "    y_exp_list.append([])"
   ]
  },
  {
   "cell_type": "code",
   "execution_count": null,
   "metadata": {},
   "outputs": [],
   "source": [
=======
>>>>>>> c7d47708bc9085b4bcc70643bb12c61c3849fe7a
    "a_lin = np.random.uniform(size = n_tests)\n",
    "b_lin = np.random.uniform(size = n_tests)\n",
    "sigma_lin = np.random.uniform(size = n_tests)\n",
    "\n",
    "a_exp = np.random.uniform(size = n_tests)\n",
    "b_exp = np.random.uniform(size = n_tests)\n",
    "sigma_exp = np.random.uniform(size = n_tests)\n",
    "\n",
    "a_sin = np.random.uniform(size = n_tests)\n",
    "b_sin = np.random.uniform(size = n_tests)\n",
    "c_sin = np.random.uniform(size = n_tests)\n",
    "sigma_sin = np.random.uniform(size = n_tests)"
<<<<<<< HEAD
   ]
  },
  {
   "cell_type": "code",
   "execution_count": null,
   "metadata": {},
   "outputs": [],
   "source": [
    "for idx,el in enumerate(zip(y_sin_list, y_lin_list, y_exp_list)):\n",
    "    for x in x_vals:\n",
    "        el[0].append(testfunc_sin(x, a_sin[idx], b_sin[idx], c_sin[idx])+np.random.normal(0,sigma_sin[idx]))\n",
    "        el[1].append(testfunc_lin(x, a_lin[idx], b_lin[idx])+np.random.normal(0,sigma_lin[idx]))\n",
    "        el[2].append(testfunc_exp(x, a_exp[idx], b_exp[idx])+np.random.normal(0,sigma_exp[idx]))"
=======
>>>>>>> c7d47708bc9085b4bcc70643bb12c61c3849fe7a
   ]
  },
  {
   "cell_type": "code",
   "execution_count": 22,
   "metadata": {},
   "outputs": [],
   "source": [
<<<<<<< HEAD
    "pars_out_sin = []\n",
    "pars_out_lin = []\n",
    "pars_out_exp = []\n",
    "errs_out_sin = []\n",
    "errs_out_lin = []\n",
    "errs_out_exp = []\n",
    "pars_out_sinBS = []\n",
    "pars_out_linBS = []\n",
    "pars_out_expBS = []\n",
    "errs_out_sinBS = []\n",
    "errs_out_linBS = []\n",
    "errs_out_expBS = []\n",
    "\n",
    "for i in range(n_tests):\n",
    "        print(i)\n",
    "        #a,b = curve_fit(x_vals, np.array(y_sin_list[i]), testfunc_sin)\n",
    "        #pars_out_sin.append(a)\n",
    "        #errs_out_sin.append(np.sqrt(np.diag(b)))\n",
    "        #a,b = curve_fit_BS(x_vals, np.array(y_sin_list[i]), testfunc_sin)\n",
    "        #pars_out_sinBS.append(a)\n",
    "        #errs_out_sinBS.append(b)\n",
    "        a,b = curve_fit(x_vals, np.array(y_lin_list[i]), testfunc_lin, num_steps=100)\n",
    "        pars_out_lin.append(a)\n",
    "        errs_out_lin.append(np.sqrt(np.diag(b)))\n",
    "        a,b = curve_fit_BS(x_vals, np.array(y_lin_list[i]), testfunc_lin, num_steps=100)\n",
    "        pars_out_linBS.append(a)\n",
    "        errs_out_linBS.append(b)\n",
    "        #a,b = curve_fit(x_vals, np.array(y_exp_list[i]), testfunc_exp)\n",
    "        #pars_out_exp.append(a)\n",
    "        #errs_out_exp.append(np.sqrt(np.diag(b)))\n",
    "        #a,b = curve_fit_BS(x_vals, np.array(y_exp_list[i]), testfunc_exp)\n",
    "        #pars_out_expBS.append(a)\n",
    "        #errs_out_expBS.append(b)\n"
=======
    "for idx,el in enumerate(zip(y_sin_list, y_lin_list, y_exp_list)):\n",
    "    for x in x_vals:\n",
    "        el[0].append(testfunc_sin(x, a_sin[idx], b_sin[idx], c_sin[idx])+np.random.normal(0,sigma_sin[idx]))\n",
    "        el[1].append(testfunc_lin(x, a_lin[idx], b_lin[idx])+np.random.normal(0,sigma_lin[idx]))\n",
    "        el[2].append(testfunc_exp(x, a_exp[idx], b_exp[idx])+np.random.normal(0,sigma_exp[idx]))"
>>>>>>> c7d47708bc9085b4bcc70643bb12c61c3849fe7a
   ]
  },
  {
   "cell_type": "code",
   "execution_count": 23,
   "metadata": {},
   "outputs": [
    {
     "name": "stdout",
     "output_type": "stream",
     "text": [
      "0\n",
      "1\n",
      "2\n",
      "3\n",
      "4\n",
      "5\n",
      "6\n",
      "7\n",
      "8\n",
      "9\n",
      "10\n",
      "11\n",
      "12\n",
      "13\n",
      "14\n",
      "15\n",
      "16\n",
      "17\n",
      "18\n",
      "19\n",
      "20\n",
      "21\n",
      "22\n",
      "23\n",
      "24\n",
      "25\n",
      "26\n",
      "27\n",
      "28\n",
      "29\n",
      "30\n",
      "31\n",
      "32\n",
      "33\n",
      "34\n",
      "35\n",
      "36\n",
      "37\n",
      "38\n",
      "39\n",
      "40\n",
      "41\n",
      "42\n",
      "43\n",
      "44\n",
      "45\n",
      "46\n",
      "47\n",
      "48\n",
      "49\n",
      "50\n",
      "51\n",
      "52\n",
      "53\n",
      "54\n",
      "55\n",
      "56\n",
      "57\n",
      "58\n",
      "59\n",
      "60\n",
      "61\n",
      "62\n",
      "63\n",
      "64\n",
      "65\n",
      "66\n",
      "67\n",
      "68\n",
      "69\n",
      "70\n",
      "71\n",
      "72\n",
      "73\n",
      "74\n",
      "75\n",
      "76\n",
      "77\n",
      "78\n",
      "79\n",
      "80\n",
      "81\n",
      "82\n",
      "83\n",
      "84\n",
      "85\n",
      "86\n",
      "87\n",
      "88\n",
      "89\n",
      "90\n",
      "91\n",
      "92\n",
      "93\n",
      "94\n",
      "95\n",
      "96\n",
      "97\n",
      "98\n",
      "99\n",
      "100\n",
      "101\n",
      "102\n",
      "103\n",
      "104\n",
      "105\n",
      "106\n",
      "107\n",
      "108\n",
      "109\n",
      "110\n",
      "111\n",
      "112\n",
      "113\n",
      "114\n",
      "115\n",
      "116\n",
      "117\n",
      "118\n",
      "119\n",
      "120\n",
      "121\n",
      "122\n",
      "123\n",
      "124\n",
      "125\n",
      "126\n",
      "127\n",
      "128\n",
      "129\n",
      "130\n",
      "131\n",
      "132\n",
      "133\n",
      "134\n",
      "135\n",
      "136\n",
      "137\n",
      "138\n",
      "139\n",
      "140\n",
      "141\n",
      "142\n",
      "143\n",
      "144\n",
      "145\n",
      "146\n",
      "147\n",
      "148\n",
      "149\n",
      "150\n",
      "151\n",
      "152\n",
      "153\n",
      "154\n",
      "155\n",
      "156\n",
      "157\n",
      "158\n",
      "159\n",
      "160\n",
      "161\n",
      "162\n",
      "163\n",
      "164\n",
      "165\n",
      "166\n",
      "167\n",
      "168\n",
      "169\n",
      "170\n",
      "171\n",
      "172\n",
      "173\n",
      "174\n",
      "175\n",
      "176\n",
      "177\n",
      "178\n",
      "179\n",
      "180\n",
      "181\n",
      "182\n",
      "183\n",
      "184\n",
      "185\n",
      "186\n",
      "187\n",
      "188\n",
      "189\n",
      "190\n",
      "191\n",
      "192\n",
      "193\n",
      "194\n",
      "195\n",
      "196\n",
      "197\n",
      "198\n",
      "199\n"
     ]
    }
   ],
   "source": [
    "pars_out_sin = []\n",
    "pars_out_lin = []\n",
    "pars_out_exp = []\n",
    "errs_out_sin = []\n",
    "errs_out_lin = []\n",
    "errs_out_exp = []\n",
    "pars_out_sinBS = []\n",
    "pars_out_linBS = []\n",
    "pars_out_expBS = []\n",
    "errs_out_sinBS = []\n",
    "errs_out_linBS = []\n",
    "errs_out_expBS = []\n",
    "\n",
    "for i in range(n_tests):\n",
    "        print(i)\n",
    "        #a,b = curve_fit(x_vals, np.array(y_sin_list[i]), testfunc_sin)\n",
    "        #pars_out_sin.append(a)\n",
    "        #errs_out_sin.append(np.sqrt(np.diag(b)))\n",
    "        #a,b = curve_fit_BS(x_vals, np.array(y_sin_list[i]), testfunc_sin)\n",
    "        #pars_out_sinBS.append(a)\n",
    "        #errs_out_sinBS.append(b)\n",
    "        a,b = curve_fit(x_vals, np.array(y_lin_list[i]), testfunc_lin, num_steps=100)\n",
    "        pars_out_lin.append(a)\n",
    "        errs_out_lin.append(np.sqrt(np.diag(b)))\n",
    "        a,b = curve_fit_BS(x_vals, np.array(y_lin_list[i]), testfunc_lin, num_steps=100)\n",
    "        pars_out_linBS.append(a)\n",
    "        errs_out_linBS.append(b)\n",
    "        #a,b = curve_fit(x_vals, np.array(y_exp_list[i]), testfunc_exp)\n",
    "        #pars_out_exp.append(a)\n",
    "        #errs_out_exp.append(np.sqrt(np.diag(b)))\n",
    "        #a,b = curve_fit_BS(x_vals, np.array(y_exp_list[i]), testfunc_exp)\n",
    "        #pars_out_expBS.append(a)\n",
    "        #errs_out_expBS.append(b)\n"
   ]
  },
  {
   "cell_type": "code",
   "execution_count": 25,
   "metadata": {},
   "outputs": [],
   "source": [
    "#np.array(pars_out_sin)[:,0]"
   ]
  },
  {
   "cell_type": "code",
   "execution_count": null,
   "metadata": {},
   "outputs": [],
   "source": [
    "dictsin = {\"a\": a_sin, \"b\": b_sin, \"c\": c_sin, \"a_pred\": np.array(pars_out_sin)[:,0], \"b_pred\": np.array(pars_out_sin)[:,1], \"c_pred\": np.array(pars_out_sin)[:,2],\n",
    "          \"a_err\": np.array(errs_out_sin)[:,0], \"b_err\": np.array(errs_out_sin)[:,1], \"c_err\": np.array(errs_out_sin)[:,2],\n",
    "          \"a_predBS\": np.array(pars_out_sinBS)[:,0], \"b_predBS\": np.array(pars_out_sinBS)[:,1], \"c_predBS\": np.array(pars_out_sinBS)[:,2],\n",
    "          \"a_errBS\": np.array(errs_out_sinBS)[:,0], \"b_errBS\": np.array(errs_out_sinBS)[:,1], \"c_errBS\": np.array(errs_out_sinBS)[:,2]\n",
    "          }"
   ]
  },
  {
   "cell_type": "code",
   "execution_count": 26,
   "metadata": {},
   "outputs": [],
   "source": [
    "dictlin = {\"a\": a_lin, \"b\": b_lin, \"a_pred\": np.array(pars_out_lin)[:,0], \"b_pred\": np.array(pars_out_lin)[:,1],\n",
    "          \"a_err\": np.array(errs_out_lin)[:,0], \"b_err\": np.array(errs_out_lin)[:,1],\n",
    "          \"a_predBS\": np.array(pars_out_linBS)[:,0], \"b_predBS\": np.array(pars_out_linBS)[:,1],\n",
    "          \"a_errBS\": np.array(errs_out_linBS)[:,0], \"b_errBS\": np.array(errs_out_linBS)[:,1]\n",
    "          }"
   ]
  },
  {
   "cell_type": "code",
   "execution_count": null,
   "metadata": {},
   "outputs": [],
   "source": [
    "dictexp = {\"a\": a_exp, \"b\": b_exp, \"a_pred\": np.array(pars_out_exp)[:,0], \"b_pred\": np.array(pars_out_exp)[:,1],\n",
    "          \"a_err\": np.array(errs_out_exp)[:,0], \"b_err\": np.array(errs_out_exp)[:,1],\n",
    "          \"a_predBS\": np.array(pars_out_expBS)[:,0], \"b_predBS\": np.array(pars_out_expBS)[:,1],\n",
    "          \"a_errBS\": np.array(errs_out_expBS)[:,0], \"b_errBS\": np.array(errs_out_expBS)[:,1]\n",
    "          }"
   ]
  },
  {
   "cell_type": "code",
   "execution_count": 27,
   "metadata": {},
   "outputs": [],
   "source": [
    "#dfsin = pd.DataFrame(dictsin)\n",
    "dflin = pd.DataFrame(dictlin)\n",
    "#dfexp = pd.DataFrame(dictexp)"
   ]
  },
  {
   "cell_type": "code",
<<<<<<< HEAD
   "execution_count": null,
   "metadata": {},
   "outputs": [],
=======
   "execution_count": 28,
   "metadata": {},
   "outputs": [
    {
     "data": {
      "text/html": [
       "<div>\n",
       "<style scoped>\n",
       "    .dataframe tbody tr th:only-of-type {\n",
       "        vertical-align: middle;\n",
       "    }\n",
       "\n",
       "    .dataframe tbody tr th {\n",
       "        vertical-align: top;\n",
       "    }\n",
       "\n",
       "    .dataframe thead th {\n",
       "        text-align: right;\n",
       "    }\n",
       "</style>\n",
       "<table border=\"1\" class=\"dataframe\">\n",
       "  <thead>\n",
       "    <tr style=\"text-align: right;\">\n",
       "      <th></th>\n",
       "      <th>a</th>\n",
       "      <th>b</th>\n",
       "      <th>a_pred</th>\n",
       "      <th>b_pred</th>\n",
       "      <th>a_err</th>\n",
       "      <th>b_err</th>\n",
       "      <th>a_predBS</th>\n",
       "      <th>b_predBS</th>\n",
       "      <th>a_errBS</th>\n",
       "      <th>b_errBS</th>\n",
       "    </tr>\n",
       "  </thead>\n",
       "  <tbody>\n",
       "    <tr>\n",
       "      <th>0</th>\n",
       "      <td>0.191577</td>\n",
       "      <td>0.779330</td>\n",
       "      <td>0.337240</td>\n",
       "      <td>0.371618</td>\n",
       "      <td>0.407417</td>\n",
       "      <td>1.485465</td>\n",
       "      <td>0.337620</td>\n",
       "      <td>0.372592</td>\n",
       "      <td>0.011217</td>\n",
       "      <td>0.020838</td>\n",
       "    </tr>\n",
       "    <tr>\n",
       "      <th>1</th>\n",
       "      <td>0.041237</td>\n",
       "      <td>0.807405</td>\n",
       "      <td>0.300453</td>\n",
       "      <td>0.331138</td>\n",
       "      <td>0.518816</td>\n",
       "      <td>1.891636</td>\n",
       "      <td>0.292526</td>\n",
       "      <td>0.321140</td>\n",
       "      <td>0.008724</td>\n",
       "      <td>0.018282</td>\n",
       "    </tr>\n",
       "    <tr>\n",
       "      <th>2</th>\n",
       "      <td>0.200026</td>\n",
       "      <td>0.642365</td>\n",
       "      <td>0.350879</td>\n",
       "      <td>0.352184</td>\n",
       "      <td>0.392849</td>\n",
       "      <td>1.432351</td>\n",
       "      <td>0.356399</td>\n",
       "      <td>0.358301</td>\n",
       "      <td>0.016574</td>\n",
       "      <td>0.014397</td>\n",
       "    </tr>\n",
       "    <tr>\n",
       "      <th>3</th>\n",
       "      <td>0.497059</td>\n",
       "      <td>0.337568</td>\n",
       "      <td>0.463705</td>\n",
       "      <td>0.445522</td>\n",
       "      <td>0.103007</td>\n",
       "      <td>0.375569</td>\n",
       "      <td>0.468813</td>\n",
       "      <td>0.450680</td>\n",
       "      <td>0.002893</td>\n",
       "      <td>0.004246</td>\n",
       "    </tr>\n",
       "    <tr>\n",
       "      <th>4</th>\n",
       "      <td>0.797460</td>\n",
       "      <td>0.683832</td>\n",
       "      <td>0.780914</td>\n",
       "      <td>0.685254</td>\n",
       "      <td>0.352610</td>\n",
       "      <td>1.285638</td>\n",
       "      <td>0.772483</td>\n",
       "      <td>0.653839</td>\n",
       "      <td>0.034894</td>\n",
       "      <td>0.054209</td>\n",
       "    </tr>\n",
       "  </tbody>\n",
       "</table>\n",
       "</div>"
      ],
      "text/plain": [
       "          a         b    a_pred    b_pred     a_err     b_err  a_predBS  \\\n",
       "0  0.191577  0.779330  0.337240  0.371618  0.407417  1.485465  0.337620   \n",
       "1  0.041237  0.807405  0.300453  0.331138  0.518816  1.891636  0.292526   \n",
       "2  0.200026  0.642365  0.350879  0.352184  0.392849  1.432351  0.356399   \n",
       "3  0.497059  0.337568  0.463705  0.445522  0.103007  0.375569  0.468813   \n",
       "4  0.797460  0.683832  0.780914  0.685254  0.352610  1.285638  0.772483   \n",
       "\n",
       "   b_predBS   a_errBS   b_errBS  \n",
       "0  0.372592  0.011217  0.020838  \n",
       "1  0.321140  0.008724  0.018282  \n",
       "2  0.358301  0.016574  0.014397  \n",
       "3  0.450680  0.002893  0.004246  \n",
       "4  0.653839  0.034894  0.054209  "
      ]
     },
     "execution_count": 28,
     "metadata": {},
     "output_type": "execute_result"
    }
   ],
>>>>>>> c7d47708bc9085b4bcc70643bb12c61c3849fe7a
   "source": [
    "dflin.head()"
   ]
  },
  {
   "cell_type": "code",
<<<<<<< HEAD
   "execution_count": null,
=======
   "execution_count": 29,
>>>>>>> c7d47708bc9085b4bcc70643bb12c61c3849fe7a
   "metadata": {},
   "outputs": [],
   "source": [
    "import matplotlib.pyplot as plt"
   ]
  },
  {
   "cell_type": "code",
<<<<<<< HEAD
   "execution_count": null,
   "metadata": {},
   "outputs": [],
=======
   "execution_count": 30,
   "metadata": {},
   "outputs": [
    {
     "data": {
      "text/plain": [
       "(array([ 1.,  2.,  1.,  0.,  2.,  2.,  4.,  2.,  5.,  4.,  4.,  7.,  6.,\n",
       "         7.,  8.,  5.,  6.,  7.,  7.,  7.,  5.,  6.,  7.,  7.,  7.,  6.,\n",
       "        10., 10.,  8.,  5.,  8.,  7.,  2.,  6.,  2.,  2.,  0.,  2.,  2.,\n",
       "         1.,  2.,  0.,  1.,  1.,  3.,  1.,  0.,  0.,  0.,  2.]),\n",
       " array([-0.9162925 , -0.87942821, -0.84256391, -0.80569961, -0.76883531,\n",
       "        -0.73197102, -0.69510672, -0.65824242, -0.62137813, -0.58451383,\n",
       "        -0.54764953, -0.51078524, -0.47392094, -0.43705664, -0.40019235,\n",
       "        -0.36332805, -0.32646375, -0.28959945, -0.25273516, -0.21587086,\n",
       "        -0.17900656, -0.14214227, -0.10527797, -0.06841367, -0.03154938,\n",
       "         0.00531492,  0.04217922,  0.07904352,  0.11590781,  0.15277211,\n",
       "         0.18963641,  0.2265007 ,  0.263365  ,  0.3002293 ,  0.33709359,\n",
       "         0.37395789,  0.41082219,  0.44768648,  0.48455078,  0.52141508,\n",
       "         0.55827938,  0.59514367,  0.63200797,  0.66887227,  0.70573656,\n",
       "         0.74260086,  0.77946516,  0.81632945,  0.85319375,  0.89005805,\n",
       "         0.92692235]),\n",
       " <a list of 50 Patch objects>)"
      ]
     },
     "execution_count": 30,
     "metadata": {},
     "output_type": "execute_result"
    },
    {
     "data": {
      "image/png": "iVBORw0KGgoAAAANSUhEUgAAAXgAAAD4CAYAAADmWv3KAAAABHNCSVQICAgIfAhkiAAAAAlwSFlzAAALEgAACxIB0t1+/AAAADh0RVh0U29mdHdhcmUAbWF0cGxvdGxpYiB2ZXJzaW9uMy4xLjIsIGh0dHA6Ly9tYXRwbG90bGliLm9yZy8li6FKAAAOyElEQVR4nO3dfYxl9V3H8fe3uwLS1rKUCfLQYZYEqUQTIJOKJWktYEuLYWlEXRLqUmnGVov1KbqEmBoTIxpjrdGkbigFbQO12zZdxUp5TGMCq0BpeVhhlwdbKLAUbNWoC7Rf/7hnzGWYu3PvPefemfn6fiWTOc/nO7975zNnzjn3/CIzkSTV86rVLkCSNBkGvCQVZcBLUlEGvCQVZcBLUlEbp7mzo446Kufm5qa5S0la9+6+++5vZebMqOtNNeDn5ua46667prlLSVr3IuJfx1nPUzSSVJQBL0lFGfCSVJQBL0lFGfCSVJQBL0lFrRjwEXF1ROyPiPv7ph0ZETdFxN7m+6bJlilJGtUwR/DXAOcumbYduCUzTwJuacYlSWvIigGfmV8Gnl8yeQtwbTN8LXBBx3VJkloa95OsR2fmU83w08DRgxaMiAVgAWB2dnbM3UmrY277DSMt//iV502oEml0rS+yZq9LqIHdQmXmjsycz8z5mZmRH6UgSRrTuAH/TEQcA9B8399dSZKkLowb8LuAbc3wNuAL3ZQjSerKMLdJXgfcAZwcEU9ExKXAlcBPRsRe4JxmXJK0hqx4kTUzLxow6+yOa5EkdchPskpSUQa8JBVlwEtSUQa8JBVlwEtSUQa8JBVlwEtSUQa8JBVlwEtSUQa8JBVlwEtSUQa8JBVlwEtSUQa8JBVlwEtSUQa8JBVlwEtSUQa8JBVlwEtSUQa8JBVlwEtSUQa8JBVlwEtSUQa8JBVlwEtSUQa8JBVlwEtSUQa8JBVlwEtSUQa8JBVlwEtSUQa8JBXVKuAj4tci4oGIuD8irouIw7oqTJLUztgBHxHHAb8CzGfmjwAbgK1dFSZJaqftKZqNwPdHxEbgcOCb7UuSJHVh47grZuaTEfHHwNeB/wa+lJlfWrpcRCwACwCzs7Pj7k4TMLf9hmWnP37leVOupI5BbQqD29XXQZPS5hTNJmALsBk4Fnh1RFy8dLnM3JGZ85k5PzMzM36lkqSRtDlFcw7wWGY+m5kvAp8D3txNWZKkttoE/NeBMyLi8IgI4GxgTzdlSZLaGjvgM3M3sBO4B7iv2daOjuqSJLU09kVWgMz8MPDhjmqRJHXIT7JKUlEGvCQVZcBLUlEGvCQVZcBLUlEGvCQVZcBLUlEGvCQVZcBLUlEGvCQVZcBLUlEGvCQVZcBLUlEGvCQVZcBLUlGtngev1TFqJ80H6wi6K13tY9SOpldrv9NgZ9xqyyN4SSrKgJekogx4SSrKgJekogx4SSrKgJekogx4SSrKgJekogx4SSrKgJekogx4SSrKgJekogx4SSrKgJekogx4SSrKgJekoloFfEQcERE7I+JfImJPRPx4V4VJktpp26PTR4F/yMwLI+IQ4PAOapIkdWDsgI+I1wFvAS4ByMwXgBe6KUuS1FabUzSbgWeBT0TEVyLiqoh4dUd1SZJaanOKZiNwOnBZZu6OiI8C24Hf6V8oIhaABYDZ2dkWu9NKJt259jQ6716tfa/mz9YVO+nWUm2O4J8AnsjM3c34TnqB/zKZuSMz5zNzfmZmpsXuJEmjGDvgM/Np4BsRcXIz6WzgwU6qkiS11vYumsuATzV30DwKvLd9SZKkLrQK+My8F5jvqBZJUof8JKskFWXAS1JRBrwkFWXAS1JRBrwkFWXAS1JRBrwkFWXAS1JRBrwkFWXAS1JRBrwkFWXAS1JRBrwkFWXAS1JRBrwkFdW2ww+NYL30mVm579XVVPln09rkEbwkFWXAS1JRBrwkFWXAS1JRBrwkFWXAS1JRBrwkFWXAS1JRBrwkFWXAS1JRBrwkFWXAS1JRBrwkFWXAS1JRBrwkFWXAS1JRBrwkFdU64CNiQ0R8JSL+rouCJEnd6OII/kPAng62I0nqUKuAj4jjgfOAq7opR5LUlbadbv8p8FvAawctEBELwALA7Oxsy92tLV11om1nzJImYewj+Ij4KWB/Zt59sOUyc0dmzmfm/MzMzLi7kySNqM0pmjOB8yPiceB64KyI+GQnVUmSWhs74DPz8sw8PjPngK3ArZl5cWeVSZJa8T54SSqq7UVWADLzduD2LrYlSeqGR/CSVJQBL0lFGfCSVJQBL0lFGfCSVJQBL0lFGfCSVJQBL0lFGfCSVJQBL0lFGfCSVJQBL0lFGfCSVJQBL0lFGfCSVFQnz4OXpLVkUEf2j1953pQrWV0ewUtSUQa8JBVlwEtSUQa8JBVlwEtSUQa8JBVlwEtSUQa8JBVlwEtSUQa8JBVlwEtSUQa8JBVlwEtSUQa8JBVlwEtSUQa8JBU1dsBHxBsi4raIeDAiHoiID3VZmCSpnTY9Or0E/EZm3hMRrwXujoibMvPBjmqTJLUw9hF8Zj6Vmfc0w/8B7AGO66owSVI7nfTJGhFzwGnA7mXmLQALALOzs13s7mW66ntx0HbG0eW2pKVGfX+Nuvyg352utnOwba33PlPX2s/V+iJrRLwG+Czwq5n570vnZ+aOzJzPzPmZmZm2u5MkDalVwEfE99EL909l5ue6KUmS1IU2d9EE8HFgT2b+SXclSZK60OYI/kzgPcBZEXFv8/WujuqSJLU09kXWzPxHIDqsRZLUIT/JKklFGfCSVJQBL0lFGfCSVJQBL0lFGfCSVJQBL0lFGfCSVJQBL0lFGfCSVJQBL0lFGfCSVJQBL0lFGfCSVJQBL0lFddLp9jR01dHweu/UV1ov1mJH9v/fcsEjeEkqyoCXpKIMeEkqyoCXpKIMeEkqyoCXpKIMeEkqyoCXpKIMeEkqyoCXpKIMeEkqyoCXpKIMeEkqyoCXpKIMeEkqyoCXpKIMeEkqqlXAR8S5EfFQROyLiO1dFSVJam/sgI+IDcBfAO8ETgEuiohTuipMktROmyP4NwH7MvPRzHwBuB7Y0k1ZkqS2IjPHWzHiQuDczHxfM/4e4Mcy84NLllsAFprRk4HngG+NXfH0HMXar9Mau7EeaoT1Uac1dmNpjSdk5syoG9nYXT3Ly8wdwI7F8Yi4KzPnJ73fttZDndbYjfVQI6yPOq2xG13V2OYUzZPAG/rGj2+mSZLWgDYB/8/ASRGxOSIOAbYCu7opS5LU1tinaDLzpYj4IHAjsAG4OjMfGGLVHSsvsiashzqtsRvroUZYH3VaYzc6qXHsi6ySpLXNT7JKUlEGvCQVNZGAj4ifiYgHIuJ7ETHwVp9BjzpoLtzubqZ/urmI23WNR0bETRGxt/m+aZll3hYR9/Z9/U9EXNDMuyYiHuubd2rXNQ5bZ7Pcd/tq2dU3fa205akRcUfzvvhaRPxc37yJteVKj9OIiEObdtnXtNNc37zLm+kPRcQ7uqppjBp/PSIebNrtlog4oW/esq/7KtR4SUQ821fL+/rmbWveG3sjYtukahyyzo/01fhwRHy7b9602vLqiNgfEfcPmB8R8WfNz/C1iDi9b95obZmZnX8BP0zvQ023A/MDltkAPAKcCBwCfBU4pZn3N8DWZvhjwAcmUOMfAdub4e3AH66w/JHA88Dhzfg1wIWTaL9x6gT+c8D0NdGWwA8BJzXDxwJPAUdMsi0P9h7rW+aXgI81w1uBTzfDpzTLHwpsbrazYZVqfFvf++4DizUe7HVfhRovAf58mXWPBB5tvm9qhjetVp1Llr+M3s0hU2vLZj9vAU4H7h8w/13AF4EAzgB2j9uWEzmCz8w9mfnQCost+6iDiAjgLGBns9y1wAUTKHNLs+1h93Eh8MXM/K8J1HIwo9b5f9ZSW2bmw5m5txn+JrAfGPmTeSMa5nEa/bXvBM5u2m0LcH1mHsjMx4B9zfamXmNm3tb3vruT3mdOpqnNY0neAdyUmc9n5r8BNwHnrpE6LwKum1AtA2Xml+kdLA6yBfir7LkTOCIijmGMtlzNc/DHAd/oG3+imfZ64NuZ+dKS6V07OjOfaoafBo5eYfmtvPLN8PvNv1AfiYhDO6+wZ9g6D4uIuyLizsXTSKzRtoyIN9E7wnqkb/Ik2nLQe2zZZZp2+g69dhtm3WnV2O9Sekd3i5Z73bs2bI0/3byGOyNi8UOQ02rHkfbVnObaDNzaN3kabTmMQT/HyG059n3wEXEz8IPLzLoiM78w7na7dLAa+0cyMyNi4P2izV/PH6V3z/+iy+mF2SH07ln9beD3VrHOEzLzyYg4Ebg1Iu6jF1ad6Lgt/xrYlpnfayZ31paVRcTFwDzw1r7Jr3jdM/OR5bcwUX8LXJeZByLiF+n9V3TWKtQxrK3Azsz8bt+0tdKWnWnzQadzWu570KMOnqP3L8nG5ohq7EcgHKzGiHgmIo7JzKea0Nl/kE39LPD5zHyxb9uLR6wHIuITwG+OU2NXdWbmk833RyPiduA04LOsobaMiB8AbqB3EHBn37Y7a8slhnmcxuIyT0TERuB19N6D03oUx1D7iYhz6P0xfWtmHlicPuB17zqUVqwxM5/rG72K3nWZxXV/Ysm6t3dc36JRXrOtwC/3T5hSWw5j0M8xcluu5imaZR91kL2rCbfRO+cNsA2YxH8Eu5ptD7OPV5yra4Js8Tz3BcCyV8Q7sGKdEbFp8bRGRBwFnAk8uJbasnmNP0/v3OLOJfMm1ZbDPE6jv/YLgVubdtsFbI3eXTabgZOAf+qorpFqjIjTgL8Ezs/M/X3Tl33dV6nGY/pGzwf2NMM3Am9vat0EvJ2X/yc81TqbWt9I7yLlHX3TptWWw9gF/HxzN80ZwHeag6DR23JCV4nfTe/80AHgGeDGZvqxwN8vuVr8ML2/klf0TT+R3i/TPuAzwKETqPH1wC3AXuBm4Mhm+jxwVd9yc/T+cr5qyfq3AvfRC6NPAq+ZUFuuWCfw5qaWrzbfL11rbQlcDLwI3Nv3deqk23K59xi90z/nN8OHNe2yr2mnE/vWvaJZ7yHgnZN4fYes8ebm92ix3Xat9LqvQo1/ADzQ1HIb8Ma+dX+had99wHsnVeMwdTbjvwtcuWS9abbldfTuInuRXk5eCrwfeH8zP+h1pvRIU8t837ojtaWPKpCkovwkqyQVZcBLUlEGvCQVZcBLUlEGvCQVZcBLUlEGvCQV9b8wjU4fLt2oFAAAAABJRU5ErkJggg==\n",
      "text/plain": [
       "<Figure size 432x288 with 1 Axes>"
      ]
     },
     "metadata": {
      "needs_background": "light"
     },
     "output_type": "display_data"
    }
   ],
>>>>>>> c7d47708bc9085b4bcc70643bb12c61c3849fe7a
   "source": [
    "plt.hist((dflin[\"a\"]-dflin[\"a_pred\"])/dflin[\"a_err\"], bins=50)"
   ]
  },
  {
   "cell_type": "code",
<<<<<<< HEAD
   "execution_count": null,
   "metadata": {},
   "outputs": [],
=======
   "execution_count": 31,
   "metadata": {},
   "outputs": [
    {
     "data": {
      "text/plain": [
       "-0.10053871373630567"
      ]
     },
     "execution_count": 31,
     "metadata": {},
     "output_type": "execute_result"
    }
   ],
>>>>>>> c7d47708bc9085b4bcc70643bb12c61c3849fe7a
   "source": [
    "np.mean((dflin[\"a\"]-dflin[\"a_pred\"])/dflin[\"a_err\"])"
   ]
  },
  {
   "cell_type": "code",
<<<<<<< HEAD
   "execution_count": null,
   "metadata": {},
   "outputs": [],
=======
   "execution_count": 32,
   "metadata": {},
   "outputs": [
    {
     "data": {
      "text/plain": [
       "0.3689043426038329"
      ]
     },
     "execution_count": 32,
     "metadata": {},
     "output_type": "execute_result"
    }
   ],
>>>>>>> c7d47708bc9085b4bcc70643bb12c61c3849fe7a
   "source": [
    "np.std((dflin[\"a\"]-dflin[\"a_pred\"])/dflin[\"a_err\"])"
   ]
  },
  {
   "cell_type": "code",
   "execution_count": null,
   "metadata": {},
   "outputs": [],
   "source": []
  }
 ],
 "metadata": {
  "kernelspec": {
   "display_name": "Python 3",
   "language": "python",
   "name": "python3"
  },
  "language_info": {
   "codemirror_mode": {
    "name": "ipython",
    "version": 3
   },
   "file_extension": ".py",
   "mimetype": "text/x-python",
   "name": "python",
   "nbconvert_exporter": "python",
   "pygments_lexer": "ipython3",
   "version": "3.6.9"
  }
 },
 "nbformat": 4,
 "nbformat_minor": 4
}
