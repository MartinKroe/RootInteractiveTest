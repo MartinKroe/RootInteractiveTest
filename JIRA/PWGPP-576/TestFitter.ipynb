{
 "cells": [
  {
   "cell_type": "code",
   "execution_count": 1,
   "metadata": {},
   "outputs": [],
   "source": [
    "import os\n",
    "os.environ[\"CUDA_VISIBLE_DEVICES\"]=\"-2\""
   ]
  },
  {
   "cell_type": "code",
   "execution_count": 2,
   "metadata": {},
   "outputs": [],
   "source": [
    "import numpy as np\n",
    "import pandas as pd\n",
    "import matplotlib.pyplot as plt\n",
    "import tensorflow as tf\n",
    "import tensorflow_probability as tfp"
   ]
  },
  {
   "cell_type": "markdown",
   "metadata": {},
   "source": [
    "# create different test functions as tensorflow functions"
   ]
  },
  {
   "cell_type": "code",
   "execution_count": 3,
   "metadata": {},
   "outputs": [],
   "source": [
    "def testfunc_sin(x, a, b, c):\n",
    "    a=tf.cast(a,tf.float64)\n",
    "    b=tf.cast(b,tf.float64)\n",
    "    c=tf.cast(c,tf.float64)\n",
    "    return a*tf.sin(b*x)+c"
   ]
  },
  {
   "cell_type": "code",
   "execution_count": 4,
   "metadata": {},
   "outputs": [],
   "source": [
    "def testfunc_lin(x, a, b):\n",
    "    a=tf.cast(a,tf.float64)\n",
    "    b=tf.cast(b,tf.float64)\n",
    "    return a*x+b"
   ]
  },
  {
   "cell_type": "code",
   "execution_count": 5,
   "metadata": {},
   "outputs": [],
   "source": [
    "def testfunc_exp(x, a, b):\n",
    "    a=tf.cast(a,tf.float64)\n",
    "    b=tf.cast(b,tf.float64)\n",
    "    return tf.exp(a*x)+b"
   ]
  },
  {
   "cell_type": "markdown",
   "metadata": {},
   "source": [
    "# create smeared test data "
   ]
  },
  {
   "cell_type": "code",
   "execution_count": 6,
   "metadata": {},
   "outputs": [],
   "source": [
    "x_vals = np.array(np.linspace(0,2*np.pi,50))"
   ]
  },
  {
   "cell_type": "code",
   "execution_count": 7,
   "metadata": {},
   "outputs": [],
   "source": [
    "y_vals_sin = []\n",
    "y_vals_lin = []\n",
    "y_vals_exp = []"
   ]
  },
  {
   "cell_type": "code",
   "execution_count": 8,
   "metadata": {},
   "outputs": [],
   "source": [
    "for el in x_vals:\n",
    "    y_vals_sin.append(testfunc_sin(el, np.random.normal(0.5,0.1), np.random.normal(0.5,0.1), np.random.normal(0.5,0.1)))\n",
    "    y_vals_lin.append(testfunc_lin(el, np.random.normal(0.5,0.1), np.random.normal(0.5,0.1)))\n",
    "    y_vals_exp.append(testfunc_exp(el, np.random.normal(0.5,0.1), np.random.normal(0.5,0.1)))"
   ]
  },
  {
   "cell_type": "markdown",
   "metadata": {},
   "source": [
    "# it can be used any loss function with f(y_pred, y_true) which returns a scalar"
   ]
  },
  {
   "cell_type": "code",
   "execution_count": 9,
   "metadata": {},
   "outputs": [],
   "source": [
    "def loss_func(y_pred, y_true):\n",
    "    return tf.reduce_mean((y_pred - y_true )**2)\n"
   ]
  },
  {
   "cell_type": "markdown",
   "metadata": {},
   "source": [
    "# create test function with weights"
   ]
  },
  {
   "cell_type": "code",
   "execution_count": 10,
   "metadata": {},
   "outputs": [],
   "source": [
    "def loss_func_w(y_pred, y_true, weights):\n",
    "    return tf.reduce_mean((y_pred - y_true )**2)+tf.reduce_mean(weights)\n",
    " "
   ]
  },
  {
   "cell_type": "code",
   "execution_count": 11,
   "metadata": {},
   "outputs": [],
   "source": [
    "weights = np.ones(x_vals.shape[0])"
   ]
  },
  {
   "cell_type": "markdown",
   "metadata": {},
   "source": [
    "# import Fitter and test it for the different functions and normal fitting + BS fitting"
   ]
  },
  {
   "cell_type": "code",
   "execution_count": 12,
   "metadata": {},
   "outputs": [],
   "source": [
    "from Fitter import curve_fit, curve_fit_BS, curve_fit_raw"
   ]
  },
  {
   "cell_type": "code",
   "execution_count": 13,
   "metadata": {},
   "outputs": [],
   "source": [
    "testfunclist = [testfunc_sin, testfunc_lin, testfunc_exp]\n",
    "y_vals_list = [y_vals_sin, y_vals_lin, y_vals_exp]\n",
    "namelist = [\"sin\",\"lin\",\"exp\"]"
   ]
  },
  {
   "cell_type": "code",
   "execution_count": 14,
   "metadata": {},
   "outputs": [
    {
     "name": "stdout",
     "output_type": "stream",
     "text": [
      "WARNING:tensorflow:Calling GradientTape.gradient on a persistent tape inside its context is significantly less efficient than calling it outside the context (it causes the gradient ops to be recorded on the tape, leading to increased CPU and memory usage). Only call GradientTape.gradient inside the context if you actually want to trace the gradient in order to compute higher order derivatives.\n",
      "\n",
      "\n",
      "function: sin\n",
      "parameters:\n",
      "[0.43485382, 0.5187291, 0.50827384]\n",
      "covariance matrix:\n",
      "[[ 0.3318233  -0.05272642 -0.23140585]\n",
      " [-0.05272643  0.03274106  0.05202427]\n",
      " [-0.23140585  0.05202426  0.19936386]]\n",
      "parameters BS:\n",
      "[0.41711864 0.49374956 0.5203141 ]\n",
      "errors BS:\n",
      "[0.07030793 0.02043811 0.04877174]\n",
      "\n",
      "\n",
      "function: lin\n",
      "parameters:\n",
      "[0.5135859, 0.51172286]\n",
      "covariance matrix:\n",
      "[[ 0.03057326 -0.09604875]\n",
      " [-0.09604874  0.4064334 ]]\n",
      "parameters BS:\n",
      "[0.5027779  0.52813494]\n",
      "errors BS:\n",
      "[0.03081433 0.04738287]\n",
      "\n",
      "\n",
      "function: exp\n",
      "parameters:\n",
      "[0.5409596, 0.14453715]\n",
      "covariance matrix:\n",
      "[[ 1.8485358e-02 -7.5260842e-01]\n",
      " [-7.5260842e-01  8.0384125e+01]]\n",
      "parameters BS:\n",
      "[0.5682466  0.24082084]\n",
      "errors BS:\n",
      "[0.02698701 0.21069564]\n"
     ]
    }
   ],
   "source": [
    "for el in zip(testfunclist,y_vals_list,namelist):\n",
    "    a,b,c = curve_fit_raw(x_vals, np.array(el[1]), el[0], loss=loss_func)\n",
    "    a,b,c = curve_fit_raw(x_vals, np.array(el[1]), el[0], loss=loss_func_w, weights = weights)\n",
    "    a,c = curve_fit(x_vals, np.array(el[1]), el[0], loss=loss_func)\n",
    "    print()\n",
    "    print()\n",
    "    print(\"function: \"+el[2])\n",
    "    print(\"parameters:\")\n",
    "    print(a)\n",
    "    print(\"covariance matrix:\")\n",
    "    print(c)\n",
    "    a,c = curve_fit(x_vals, np.array(el[1]), el[0], loss=loss_func_w, weights = weights)\n",
    "    a,c = curve_fit_BS(x_vals, np.array(el[1]), el[0], loss=loss_func)\n",
    "    print(\"parameters BS:\")\n",
    "    print(a)\n",
    "    print(\"errors BS:\")\n",
    "    print(c)\n",
    "    \n",
    "    a,c = curve_fit_BS(x_vals, np.array(el[1]), el[0], loss=loss_func_w, weights = weights)\n"
   ]
  },
  {
   "cell_type": "markdown",
   "metadata": {},
   "source": [
    "# initial parameters should be provided as tf.Variable"
   ]
  },
  {
   "cell_type": "code",
   "execution_count": 15,
   "metadata": {},
   "outputs": [],
   "source": [
    "initial_parameters = [tf.Variable(1.),tf.Variable(1.),tf.Variable(1.)]"
   ]
  },
  {
   "cell_type": "code",
   "execution_count": 16,
   "metadata": {},
   "outputs": [],
   "source": [
    "a,c = curve_fit(x_vals, np.array(y_vals_sin), testfunc_sin, initial_parameters=initial_parameters)"
   ]
  },
  {
   "cell_type": "markdown",
   "metadata": {},
   "source": [
    "# use Keras loss"
   ]
  },
  {
   "cell_type": "code",
   "execution_count": 17,
   "metadata": {},
   "outputs": [],
   "source": [
    "lhuber = tf.keras.losses.Huber()"
   ]
  },
  {
   "cell_type": "code",
   "execution_count": 18,
   "metadata": {},
   "outputs": [],
   "source": [
    "a,c = curve_fit(x_vals, np.array(y_vals_sin), testfunc_sin, loss = lhuber, initial_parameters=initial_parameters)"
   ]
  },
  {
   "cell_type": "code",
   "execution_count": 19,
   "metadata": {},
   "outputs": [
    {
     "data": {
      "text/plain": [
       "[0.43385446, 0.5200182, 0.5071193]"
      ]
     },
     "execution_count": 19,
     "metadata": {},
     "output_type": "execute_result"
    }
   ],
   "source": [
    "a"
   ]
  },
  {
   "cell_type": "code",
   "execution_count": null,
   "metadata": {},
   "outputs": [],
   "source": []
  }
 ],
 "metadata": {
  "kernelspec": {
   "display_name": "Python 3",
   "language": "python",
   "name": "python3"
  },
  "language_info": {
   "codemirror_mode": {
    "name": "ipython",
    "version": 3
   },
   "file_extension": ".py",
   "mimetype": "text/x-python",
   "name": "python",
   "nbconvert_exporter": "python",
   "pygments_lexer": "ipython3",
   "version": "3.6.9"
  }
 },
 "nbformat": 4,
 "nbformat_minor": 4
}
