{
 "cells": [
  {
   "cell_type": "markdown",
   "metadata": {},
   "source": [
    "# TPC QA access demo\n",
    "* require Root/libStat (AliRoot) to  be installed togother with RootInteractive\n",
    "Example Notebook to demsotrate bokehDraw wrapper for the interactive visualization of treee\n",
    "\n",
    "\n",
    "## Content\n",
    "* 0.) Load libraries\n",
    "* 1.) Read data from the http server and read the tree - or set of trees\n",
    "* 2.) Example lines to check content of the tree\n",
    "* 3.) PID visualization example"
   ]
  },
  {
   "cell_type": "markdown",
   "metadata": {},
   "source": [
    "### 0.) Load libraries"
   ]
  },
  {
   "cell_type": "code",
   "execution_count": null,
   "metadata": {},
   "outputs": [],
   "source": [
    "from RootInteractive.TTreeHnInteractive.TTreeHnBrowser import *\n",
    "from RootInteractive.InteractiveDrawing.bokeh.bokehDraw import *\n",
    "from RootInteractive.InteractiveDrawing.bokeh.bokehDrawPanda import *\n",
    "from RootInteractive.Tools.aliTreePlayer import *\n",
    "output_notebook()\n",
    "import ROOT\n",
    "ROOT.gSystem.Load(\"$ALICE_ROOT/lib/libSTAT.so\")\n",
    "import pyparsing \n",
    "from bokeh.io import curdoc\n",
    "curdoc().theme = 'caliber'"
   ]
  },
  {
   "cell_type": "markdown",
   "metadata": {},
   "source": [
    "###  1.) Read data from the http server and read the tree - or set of trees\n",
    "* to check interface  - type name of function and ? - e.g.: ROOT.AliTreePlayer.LoadTrees?"
   ]
  },
  {
   "cell_type": "code",
   "execution_count": null,
   "metadata": {},
   "outputs": [],
   "source": [
    "ROOT.TFile.SetCacheFileDir(\"../data/\")\n",
    "treeQA, treeList, fileList = LoadTrees(\"echo https://aliqat.web.cern.ch/aliqat/qcml/data/2018/LHC18q/trending_merged_LHC18q_withStatusTree.root\",\".*\",\".*sta.*\",\".*\",0)\n",
    "treeQA.RemoveFriend(treeQA.GetFriend(\"Tstatus\"))\n",
    "AddMetadata(treeQA,\"chunkBegin.isTime\",\"1\")\n",
    "AddMetadata(treeQA,\"chunkMedian.isTime\",\"1\")"
   ]
  },
  {
   "cell_type": "markdown",
   "metadata": {},
   "source": [
    "###  2.) Example lines to check content of the tree\n",
    "* To check the content of the tree using ROOT functionality enable following lines"
   ]
  },
  {
   "cell_type": "code",
   "execution_count": null,
   "metadata": {},
   "outputs": [],
   "source": [
    "#treeQA.Print()\n",
    "#treeQA.GetListOfAliases().Print(\"\",\"*Outlier*\")"
   ]
  },
  {
   "cell_type": "markdown",
   "metadata": {},
   "source": [
    "### 3.) PID visualization example\n",
    "* to get full list of the options write bokehDraw?\n",
    "* varDraw - variable to draw  : as a separator\n",
    "  multigraph can be drawn in the same figure using syntax (var0,<var1>, ...)\n",
    "* tooltips - list of the description (\"Variable name\", \"Variabble format string\")\n",
    "  * name of variables from input panda or tree e.g @mean MIP or \"(@global_Outlier,@global_Warning)\"\n",
    "* widgets  (see bokehDraw?)\n",
    "* layout \n",
    "  "
   ]
  },
  {
   "cell_type": "code",
   "execution_count": null,
   "metadata": {},
   "outputs": [],
   "source": [
    "treeQA.SetAlias(\"MIPElectronRatio\",\"meanMIP/meanMIPele\")\n",
    "varDraw=\"(meanMIP,meanMIPele):MIPElectronRatio:resolutionMIP\"\n",
    "tooltips=[(\"MIP\",\"(@meanMIP)\"),  (\"Electron\",\"@meanMIPele\"), (\"Global status\",\"(@global_Outlier,@global_Warning)\"), \\\n",
    "          (\"MIP status(Warning,Outlier,Acc.)\",\"@MIPquality_Warning,@MIPquality_Outlier,@MIPquality_PhysAcc\")]\n",
    "widgets=\"tab.sliders(slider.meanMIP(45,55,0.1,45,55),slider.meanMIPele(50,80,0.2,50,80), slider.resolutionMIP(0,0.15,0.01,0,0.15)),\"\n",
    "widgets+=\"tab.checkboxGlobal(slider.global_Warning(0,1,1,0,1),checkbox.global_Outlier(0)),\"\n",
    "widgets+=\"tab.checkboxMIP(slider.MIPquality_Warning(0,1,1,0,1),checkbox.MIPquality_Outlier(0), checkbox.MIPquality_PhysAcc(1))\"\n",
    "layout=\"((0),(1),(2,x_visible=1),commonX=2,x_visible=0,y_visible=0,plot_height=250,plot_width=1000)\"\n",
    "xxx=bokehDraw(treeQA,\"meanMIP>0\",\"chunkMedian\",varDraw,\"MIPquality_Warning\",widgets,0,commonX=1,size=6,tooltip=tooltips,x_axis_type='datetime',layout=layout)"
   ]
  }
 ],
 "metadata": {
  "kernelspec": {
   "display_name": "Python 3",
   "language": "python",
   "name": "python3"
  },
  "language_info": {
   "codemirror_mode": {
    "name": "ipython",
    "version": 3
   },
   "file_extension": ".py",
   "mimetype": "text/x-python",
   "name": "python",
   "nbconvert_exporter": "python",
   "pygments_lexer": "ipython3",
   "version": "3.6.8"
  }
 },
 "nbformat": 4,
 "nbformat_minor": 2
}
