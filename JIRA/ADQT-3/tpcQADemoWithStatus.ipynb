{
 "cells": [
  {
   "cell_type": "markdown",
   "metadata": {},
   "source": [
    "# TPC QA access demo - extended version\n",
    "\n",
    "require Root/libStat (AliRoot) to be installed togother with RootInteractive Example Notebook to demonstrate bokehDraw wrapper for the interactive visualization of treee\n",
    "## Content\n",
    "* 0.) Load libraries\n",
    "* 1.) Read data from the http server and read the tree - or set of trees\n",
    "* 2.) Dump list of variables\n",
    "* 3.) TPC QA Alarm decomposition example\n",
    "  * 3.a) TPC dEdx standard QA alarm\n",
    "  * 3.b)  TPC global warning automatic alarm decomposition\n",
    "* 4.) PID visualization example\n",
    "* 5.)  Additional functionality DEMO\n",
    "  *  5.a)  Example brach find  \n",
    "  *  5.b)  Example parsing of the variables in formula\n",
    "  *  5.c)  Example find the list of variable needed for boke graphics parsing slectionmvaraible draw widgets"
   ]
  },
  {
   "cell_type": "markdown",
   "metadata": {},
   "source": [
    "### 0.) Load libraries"
   ]
  },
  {
   "cell_type": "code",
   "execution_count": null,
   "metadata": {},
   "outputs": [],
   "source": [
    "from RootInteractive.TTreeHnInteractive.TTreeHnBrowser import *\n",
    "from RootInteractive.InteractiveDrawing.bokeh.bokehDraw import *\n",
    "from RootInteractive.InteractiveDrawing.bokeh.bokehDrawPanda import *\n",
    "from RootInteractive.Tools.aliTreePlayer import *\n",
    "output_notebook()\n",
    "import ROOT\n",
    "ROOT.gSystem.Load(\"$ALICE_ROOT/lib/libSTAT.so\")\n",
    "from RootInteractive.Tools.aliTreePlayer import *\n",
    "import pyparsing \n",
    "from bokeh.io import curdoc\n",
    "curdoc().theme = 'caliber'"
   ]
  },
  {
   "cell_type": "markdown",
   "metadata": {},
   "source": [
    "###  1.) Read data from the http server and read the tree - or set of trees\n",
    "* to check interface - type name of function and ? - e.g.: ROOT.AliTreePlayer.LoadTrees?\n",
    "* some manipulation with tree t get metadata content in anyTree format  - to be formalized/encapuslated\n",
    "* define list of aliases in browasable format"
   ]
  },
  {
   "cell_type": "code",
   "execution_count": null,
   "metadata": {},
   "outputs": [],
   "source": [
    "ROOT.TFile.SetCacheFileDir(\"../data/\")\n",
    "treeQA, treeList, fileList = LoadTrees(\"echo https://aliqat.web.cern.ch/aliqat/qcml/data/2018/LHC18q/trending_merged_LHC18q_withStatusTree.root\",\".*\",\".*sta.*\",\".*\",0)\n",
    "treeQA.RemoveFriend(treeQA.GetFriend(\"Tstatus\"))\n",
    "treeQA.RemoveFriend(treeQA.GetFriend(\"tpcQA\"))\n",
    "AddMetadata(treeQA,\"chunkBegin.isTime\",\"1\")\n",
    "AddMetadata(treeQA,\"chunkMedian.isTime\",\"1\")\n",
    "# this lines are neaded in case automatically generated parameter list  (expert mode)\n",
    "branchTree=treeToAnyTree(treeQA)\n",
    "aliases=aliasToDictionary(treeQA)"
   ]
  },
  {
   "cell_type": "markdown",
   "metadata": {},
   "source": [
    "###  2.) Dump list of variables\n",
    "There are several ways to query the content of the tree. Below you can check standart ways implemented by ROOT\n",
    "To test differnt ways, please check and uncoment lises below"
   ]
  },
  {
   "cell_type": "code",
   "execution_count": null,
   "metadata": {},
   "outputs": [],
   "source": [
    "treeQA.Show(0)\n",
    "#treeQA.GetListOfAliases().Print(\"\",\"*er*\")\n",
    "#treeQA.SetAlias(\"globalWarning\",\"global_Warning\")\n",
    "#treeQA.GetListOfBranches().Print(\"\",\"*MIP*\")\n",
    "#treeQA.GetListOfBranches().Print(\"\",\"*gr*\")"
   ]
  },
  {
   "cell_type": "markdown",
   "metadata": {},
   "source": [
    "###  3.) Alarm decomposition example"
   ]
  },
  {
   "cell_type": "markdown",
   "metadata": {},
   "source": [
    "#### 3.a) TPC dEdx standard QA alarm"
   ]
  },
  {
   "cell_type": "code",
   "execution_count": null,
   "metadata": {},
   "outputs": [],
   "source": [
    "base=makeAliasAnyTree(\"MIPquality_Warning\",aliases)\n",
    "print(RenderTree(base))\n",
    "#DotExporter(base).to_picture(\"MIPquality_Warning.png\")"
   ]
  },
  {
   "cell_type": "markdown",
   "metadata": {},
   "source": [
    "#### 3.b)  TPC global warning automatic alarm decomposition"
   ]
  },
  {
   "cell_type": "code",
   "execution_count": null,
   "metadata": {},
   "outputs": [],
   "source": [
    "base=makeAliasAnyTree(\"global_Warning\",aliases)\n",
    "print(RenderTree(base))\n",
    "#DotExporter(base).to_picture(\"Warning.png\")"
   ]
  },
  {
   "cell_type": "markdown",
   "metadata": {},
   "source": [
    "### 4.)  PID visualization example\n",
    "* visualizing TPC QA in 5 minutes interval\n",
    "* color code - status - red- warning, blue - normal\n",
    "* variable to draw: \n",
    "  * MIP position, Electon position, ratio\n",
    "* widgtets:\n",
    "  * sliders tab - to select ranges\n",
    "  * checkbox for global status\n",
    "* toltips:\n",
    "  * text to be shown on hower\n",
    "  \n",
    "TODO:\n",
    "  * Add wrapper for status bars\n",
    "  * On click discplay decision tree for given point"
   ]
  },
  {
   "cell_type": "code",
   "execution_count": null,
   "metadata": {},
   "outputs": [],
   "source": [
    "bokehDraw.verbose=0\n",
    "selection=\"meanMIP>0&resolutionMIP>0&time>0\"\n",
    "treeQA.SetAlias(\"MIPElectronRatio\",\"meanMIP/meanMIPele\")\n",
    "varDraw=\"meanMIP:meanMIPele:MIPElectronRatio:resolutionMIP\"\n",
    "tooltips=[(\"MIP\",\"(@meanMIP)\"),  (\"Electron\",\"@meanMIPele\"), (\"Global status\",\"(@global_Outlier,@global_Warning)\"), \\\n",
    "          (\"MIP status(Warning,Outlier,Acc.)\",\"@MIPquality_Warning,@MIPquality_Outlier,@MIPquality_PhysAcc\")]\n",
    "for warning in getAliasAnyTree(makeAliasAnyTree(\"MIPquality_Warning\",aliases),\".*\",maxlevel=2):\n",
    "    tooltips.append((warning,\"@\"+warning))\n",
    "\n",
    "widgets=\"tab.sliders(slider.meanMIP(45,55,0.1,45,55),slider.meanMIPele(50,80,0.2,50,80), slider.resolutionMIP(0,0.15,0.01,0,0.15)),\"\n",
    "widgets+=\"tab.checkboxGlobal(slider.global_Warning(0,1,1,0,1),checkbox.global_Outlier(0)),\"\n",
    "widgets+=\"tab.checkboxMIP(slider.MIPquality_Warning(0,1,1,0,1),checkbox.MIPquality_Outlier(0), checkbox.MIPquality_PhysAcc(1))\"\n",
    "layout=\"((0,1),(2),(3,x_visible=1,plot_height=200),commonX=2,x_visible=0,plot_height=350,plot_width=1000)\"\n",
    "xxx=bokehDraw(treeQA,selection,\"chunkMedian\",varDraw,\"MIPquality_Warning\",widgets,0,commonX=1,size=4,tooltip=tooltips,x_axis_type='datetime',layout=layout)"
   ]
  },
  {
   "cell_type": "code",
   "execution_count": null,
   "metadata": {},
   "outputs": [],
   "source": [
    "# bokehDraw?  # Example - inable this line to find list of options"
   ]
  },
  {
   "cell_type": "markdown",
   "metadata": {},
   "source": [
    "## 5.) Additional functionality DEMO"
   ]
  },
  {
   "cell_type": "markdown",
   "metadata": {},
   "source": [
    "### 5.a)  Example brach find"
   ]
  },
  {
   "cell_type": "code",
   "execution_count": null,
   "metadata": {},
   "outputs": [],
   "source": [
    "branchTree=treeToAnyTree(treeQA)\n",
    "print(findSelectedBranch(branchTree,\"bz\"))\n",
    "# custom find\n",
    "for a in findall(branchTree, filter_=lambda node: re.match(\"gr.*Ncl.*\", node.name)): print(a.name)\n",
    "# predefined find with regular expresion -the same as above\n",
    "for a in findSelectedBranch(branchTree,\"gr.*Ncl.*\"):print(a.name)"
   ]
  },
  {
   "cell_type": "markdown",
   "metadata": {},
   "source": [
    "### 5.b)  Example parsing of the variables in formula"
   ]
  },
  {
   "cell_type": "code",
   "execution_count": null,
   "metadata": {},
   "outputs": [],
   "source": [
    "parseTreeVariables(\"x>1 & x>0 | y==1 |x+1>2| (x2<2) | (x1*2)<2| sin(x)<1\")"
   ]
  },
  {
   "cell_type": "markdown",
   "metadata": {},
   "source": [
    "### 5.c  Example find the list of variable needed for boke graphics parsing slectionmvaraible draw widgets\n",
    "* dumy variable added to the list. This varaible is rejected as it is not accessible in tree (leaf, alias, friend...) \n",
    "\n"
   ]
  },
  {
   "cell_type": "code",
   "execution_count": null,
   "metadata": {},
   "outputs": [],
   "source": [
    "toRemove=[\"^tab\\..*\"]\n",
    "toReplace=[\"^slider.\",\"^checkbox.\"]\n",
    "getAndTestVariableList([selection,varDraw,widgets,\"xxx\"],toRemove,toReplace,treeQA)"
   ]
  },
  {
   "cell_type": "code",
   "execution_count": null,
   "metadata": {},
   "outputs": [],
   "source": [
    "print(findSelectedBranch(branchTree,\".*ert.*\"))"
   ]
  },
  {
   "cell_type": "code",
   "execution_count": null,
   "metadata": {},
   "outputs": [],
   "source": [
    "findSelectedBranch(branchTree,\".*\")"
   ]
  }
 ],
 "metadata": {
  "kernelspec": {
   "display_name": "Python 3",
   "language": "python",
   "name": "python3"
  },
  "language_info": {
   "codemirror_mode": {
    "name": "ipython",
    "version": 3
   },
   "file_extension": ".py",
   "mimetype": "text/x-python",
   "name": "python",
   "nbconvert_exporter": "python",
   "pygments_lexer": "ipython3",
   "version": "3.6.8"
  }
 },
 "nbformat": 4,
 "nbformat_minor": 2
}
