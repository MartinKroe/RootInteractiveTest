{
 "cells": [
  {
   "cell_type": "markdown",
   "metadata": {},
   "source": [
    "# Get edge parameterization for different MC /data productions\n",
    "\n",
    "1. Load production lists - filtered data from alien\n",
    "2. Extract skimmed data - create pandas with subset of information\n",
    "3. Make parameteratization of performance (as in  PWGPP-567/comparisondEdgePerf.ipynb)\n",
    "* Variables to describe\n",
    "  * Ncrossed raw and Ncl\n",
    "  * Fraction of associated clusters\n",
    "  * DCA resolution+bias\n",
    "  * dEdx bias\n",
    "  * TPC/ITS chi2\n",
    "  \n",
    "*  Variables binning resp. for ML:\n",
    "  * local position (at radii)\n",
    "  * 1/dEdx\n",
    "  * multiplicity\n",
    "  * q/pt\n",
    "  \n",
    "\n",
    "4.Visulaize/compare - regression maps  "
   ]
  },
  {
   "cell_type": "code",
   "execution_count": null,
   "metadata": {},
   "outputs": [],
   "source": [
    "import ROOT\n",
    "from RootInteractive.Tools.aliTreePlayer import *\n",
    "from RootInteractive.InteractiveDrawing.bokeh.bokehDrawSA import *\n",
    "from bokeh.models import *\n",
    "from bokeh.io import output_notebook\n",
    "from RootInteractive.MLpipeline.NDFunctionInterface import  DataContainer, Fitter\n",
    "import os.path \n",
    "import os\n",
    "import subprocess\n",
    "output_notebook()\n",
    "c  = ROOT.TCanvas(\"canvas\",\"canvas\")"
   ]
  },
  {
   "cell_type": "markdown",
   "metadata": {},
   "source": [
    "# Define parameters of notebook"
   ]
  },
  {
   "cell_type": "code",
   "execution_count": null,
   "metadata": {},
   "outputs": [],
   "source": [
    "productions=[\"LHC19f5b\",\"LHC19f5b_2\", \"LHC19f5b_3\"]\n",
    "nChunks=10\n",
    "dataFrames=[]\n",
    "fittersCr=[]"
   ]
  },
  {
   "cell_type": "code",
   "execution_count": null,
   "metadata": {},
   "outputs": [],
   "source": [
    "#os.system(\"alien-token-init miranov\")\n",
    "ROOT.TGrid.Connect(\"alien\",\"miranov\")"
   ]
  },
  {
   "cell_type": "markdown",
   "metadata": {},
   "source": [
    "# Prepare production lists\n",
    "* list created only if does not exist\n",
    "* only subset of data used"
   ]
  },
  {
   "cell_type": "code",
   "execution_count": null,
   "metadata": {},
   "outputs": [],
   "source": [
    "ROOT.gROOT.LoadMacro(\"$HOME/github/RootInteractiveTest/JIRA/Tools/rdataframeFilter.C\")"
   ]
  },
  {
   "cell_type": "code",
   "execution_count": null,
   "metadata": {},
   "outputs": [],
   "source": [
    "if not os.path.isfile(\"filtered\"+productions[0]+\".list\"):\n",
    "    os.system(\"alien_find /alice/sim/2019/LHC19f5b_3/296433/SpacePointCalibrationMerge Filter*root  | sed s_/alice_alien:///alice_> filteredLHC19f5b_3.list\")\n",
    "    os.system(\"alien_find /alice/sim/2019/LHC19f5b_2/296433/SpacePointCalibrationMerge Filter*root  | sed s_/alice_alien:///alice_> filteredLHC19f5b_2.list\")\n",
    "    os.system(\"alien_find /alice/sim/2019/LHC19f5b/296433/SpacePointCalibrationMerge Filter*root  | sed s_/alice_alien:///alice_> filteredLHC19f5b.list\")"
   ]
  },
  {
   "cell_type": "markdown",
   "metadata": {},
   "source": [
    "### Create snapshots"
   ]
  },
  {
   "cell_type": "code",
   "execution_count": null,
   "metadata": {},
   "outputs": [],
   "source": [
    "for prod in productions:\n",
    "    fname=\"filtered\"+prod+\".root\"\n",
    "    finput=\"filtered\"+prod+\".list\"\n",
    "    if not os.path.isfile(fname):    \n",
    "        print(\"Processing production\\t\", prod, fname, finput)\n",
    "        tree = ROOT.AliXRDPROOFtoolkit.MakeChainRandom(finput,\"highPt\",\"\",nChunks,0)\n",
    "        ROOT.makeRDFrameSnapshot0(tree,fname,5)"
   ]
  },
  {
   "cell_type": "code",
   "execution_count": null,
   "metadata": {},
   "outputs": [],
   "source": [
    "def makeFitsCR(df):\n",
    "    varList=[\"NCr0\",\"NCr15\", \"NCr30\", \"NCr45\"]\n",
    "    paramListP=[\"LocalSector0\",\"LocalSector15\",\"LocalSector30\",\"LocalSector45\"]\n",
    "    paramList0=[\"qPt\"]\n",
    "    paramList0=[]\n",
    "    fitters=[]\n",
    "    for i, varFit in enumerate(varList):\n",
    "        print(\"Procesing variable\", varFit)\n",
    "        paramList=paramList0 +[paramListP[i]]\n",
    "        print(\"Procesing variable\", varFit, \":\", paramList)\n",
    "        dfFit=df.query(\"abs(qP)<0.5\").query(\"abs(\"+ paramListP[i]+\")>0.14\")\n",
    "        dfFit=dfFit.append(df.query(\"abs(qP)<0.5\").sample(dfFit.shape[0]//4))\n",
    "        npoints=dfFit.shape[0]\n",
    "        dataContainer = DataContainer(dfFit,  paramList, varFit, [npoints//2,npoints//2]) \n",
    "        fitter = Fitter(dataContainer)\n",
    "        fitter.Register_Method('RF10','RandomForest', 'Regressor', n_estimators=100, max_depth=10,n_jobs=8)\n",
    "        fitter.Register_Method('RF15','RandomForest', 'Regressor', n_estimators=100, max_depth=15,n_jobs=8)\n",
    "        fitter.Fit()\n",
    "        fitter.AppendStatPandas(\"RF10\",df,varFit)\n",
    "        fitter.AppendStatPandas(\"RF15\",df,varFit)\n",
    "        fitters.insert(i,fitter)\n",
    "    return fitters    "
   ]
  },
  {
   "cell_type": "code",
   "execution_count": null,
   "metadata": {},
   "outputs": [],
   "source": []
  },
  {
   "cell_type": "code",
   "execution_count": null,
   "metadata": {},
   "outputs": [],
   "source": []
  },
  {
   "cell_type": "markdown",
   "metadata": {},
   "source": [
    "###  Make and register regression"
   ]
  },
  {
   "cell_type": "code",
   "execution_count": null,
   "metadata": {},
   "outputs": [],
   "source": [
    "dfAll=[]\n",
    "for i, prod in enumerate(productions):\n",
    "    fname=\"filtered\"+prod+\".root\"\n",
    "    print(\"Loading tree\",fname)\n",
    "    f = ROOT.TFile.Open(fname)\n",
    "    tree= f.Get(\"tree\")\n",
    "    df=tree2Panda(tree,[\".*NCr.*\",\".*qP.*\",\".*Local.*\",\".*tgl.*\"],\"abs(qP)<0.25\")\n",
    "    dfAll.append(df);\n",
    "    fitters=makeFitsCR(df)\n",
    "    dataFrames.insert(i,df)\n",
    "    fittersCr.insert(i,fitters)\n",
    "    "
   ]
  },
  {
   "cell_type": "code",
   "execution_count": null,
   "metadata": {},
   "outputs": [],
   "source": [
    "dfAll[0].shape"
   ]
  },
  {
   "cell_type": "markdown",
   "metadata": {},
   "source": [
    "# Draw regression result for data of interest "
   ]
  },
  {
   "cell_type": "code",
   "execution_count": null,
   "metadata": {},
   "outputs": [],
   "source": [
    "iProd=2\n",
    "df=dataFrames[iProd]\n",
    "tooltips=[(\"qP\",\"@qP\"), (\"pz/pt\",\"@tgl\"), (\"cr0_25\",\"@cr025\")]\n",
    "figureArray= [\n",
    "    #[['LocalSector0'], ['NCr0'], {\"size\": 4, \"colorZvar\":\"qPt\",\"errY\":\"cr0_25RF15RMS\"}],\n",
    "    [['LocalSector0'], ['NCr0RF15Mean'], {\"size\": 4, \"colorZvar\":\"qPt\"}],\n",
    "    #[['LocalSector15'], ['NCr15'], {\"size\": 4, \"colorZvar\":\"qPt\"}],\n",
    "    [['LocalSector15'], ['NCr15RF15Mean'], {\"size\": 4, \"colorZvar\":\"qPt\"}],\n",
    "    #[['LocalSector30'], ['NCr30'], {\"size\": 4, \"colorZvar\":\"qPt\"}],\n",
    "    [['LocalSector30'], ['NCr30RF15Mean'], {\"size\": 4, \"colorZvar\":\"qPt\"}],\n",
    "    ['table']\n",
    "]\n",
    "figureLayout=[\n",
    "    [0, {'commonX':1,'y_visible':2}],\n",
    "    [1, {'commonX':1,'y_visible':2}],\n",
    "    [2, {'commonX':1,'y_visible':2}],\n",
    "    [3, {'plot_height':50}],\n",
    "    {'plot_height':100,'commonX':1, 'sizing_mode':'scale_width'}\n",
    "]\n",
    "widgetArray=[\n",
    "    ['range', ['qPt']],\n",
    "    ['range', ['tgl']],\n",
    "    ['range', ['LocalSector0']],\n",
    "    ['range', ['LocalSector15']],\n",
    "    ['range', ['LocalSector30']],\n",
    "]\n",
    "widgetLayout=[ [0,1], [2,3,4], {'sizing_mode':'scale_width'} ]\n",
    "\n",
    "output_file(\"makeEdgePlot\"+productions[iProd]+\".html\")\n",
    "bokehDrawSA.fromArray(df.head(2000), \"abs(qPt)<1\", figureArray, widgetArray, layout=figureLayout, tooltips=tooltips,widgetLayout=widgetLayout,sizing_mode=\"scale_width\")"
   ]
  },
  {
   "cell_type": "code",
   "execution_count": null,
   "metadata": {},
   "outputs": [],
   "source": []
  },
  {
   "cell_type": "markdown",
   "metadata": {},
   "source": [
    "# Backup"
   ]
  },
  {
   "cell_type": "code",
   "execution_count": null,
   "metadata": {},
   "outputs": [],
   "source": [
    "df =dataFrames[0]"
   ]
  },
  {
   "cell_type": "code",
   "execution_count": null,
   "metadata": {},
   "outputs": [],
   "source": [
    "np.rndm"
   ]
  },
  {
   "cell_type": "code",
   "execution_count": null,
   "metadata": {},
   "outputs": [],
   "source": [
    "dfFit=df.query(\"abs(pos0_25)>0.12\")\n",
    "dfFit=dfFit.append(df.sample(dfFit.shape[0]//2))\n",
    "dfFit.shape[0]"
   ]
  },
  {
   "cell_type": "code",
   "execution_count": null,
   "metadata": {},
   "outputs": [],
   "source": [
    "dfSample.hist(\"pos0_25\",bins=50)"
   ]
  },
  {
   "cell_type": "code",
   "execution_count": null,
   "metadata": {},
   "outputs": [],
   "source": [
    "dfFit.shape[0]"
   ]
  },
  {
   "cell_type": "code",
   "execution_count": null,
   "metadata": {},
   "outputs": [],
   "source": []
  }
 ],
 "metadata": {
  "kernelspec": {
   "display_name": "Python 3",
   "language": "python",
   "name": "python3"
  },
  "language_info": {
   "codemirror_mode": {
    "name": "ipython",
    "version": 3
   },
   "file_extension": ".py",
   "mimetype": "text/x-python",
   "name": "python",
   "nbconvert_exporter": "python",
   "pygments_lexer": "ipython3",
   "version": "3.6.8"
  }
 },
 "nbformat": 4,
 "nbformat_minor": 2
}
