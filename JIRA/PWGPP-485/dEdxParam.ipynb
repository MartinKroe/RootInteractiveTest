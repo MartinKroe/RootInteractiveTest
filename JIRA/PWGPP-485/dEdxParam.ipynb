{
 "cells": [
  {
   "cell_type": "markdown",
   "metadata": {},
   "source": [
    "# RootInteractive visualization demo using using PID calibration from PID  analysis\n",
    "* TODO - MESut should explain demo in Metadata\n",
    "## 1.) Load includes \n",
    "## 2.) Read/cache root file from the RootInteractive server"
   ]
  },
  {
   "cell_type": "code",
   "execution_count": null,
   "metadata": {},
   "outputs": [],
   "source": [
    "from RootInteractive.Tools.aliTreePlayer import *\n",
    "from RootInteractive.TTreeHnInteractive.TTreeHnBrowser import *\n",
    "from RootInteractive.InteractiveDrawing.bokeh.bokehTools import *\n",
    "#from MLpipeline.NDFunctionInterface import  DataContainer, Fitter\n",
    "from RootInteractive.InteractiveDrawing.bokeh.bokehDrawPanda import *\n",
    "from RootInteractive.InteractiveDrawing.bokeh.bokehDraw import *\n",
    "output_notebook()\n",
    "p3 = figure(plot_width=700, plot_height=400, title=\"template\")"
   ]
  },
  {
   "cell_type": "markdown",
   "metadata": {},
   "source": [
    "## 2.) Read/cache root file from the RootInteractive server"
   ]
  },
  {
   "cell_type": "code",
   "execution_count": null,
   "metadata": {},
   "outputs": [],
   "source": [
    "ROOT.TFile.SetCacheFileDir(\"../data/\")\n",
    "ROOT.TFile.Open(\"https://rootinteractive.web.cern.ch/RootInteractive/data/PWGPP-485/treeId.root\",\"cacheread\")\n",
    "tree, treeList, fileList = LoadTrees(\"echo ../data/RootInteractive/data/PWGPP-485/treeId.root\",\".*\",\"xxx\",\".*\",0)\n",
    "tree.SetAlias(\"selected\",\"(rndm<0.3)\")\n",
    "tree.SetCacheSize(500000000)\n",
    "tree.Show(0)"
   ]
  },
  {
   "cell_type": "raw",
   "metadata": {},
   "source": [
    "ROOT.AliPIDtools.LoadPID(246272,1,\"LHC15o\",0)\n",
    "splineHash=ROOT.AliPIDtools.GetHash(246272,1,\"LHC15o\",0)\n",
    "tree.SetAlias(\"splinePi\",\"AliPIDtools::BetheBlochAleph(\"+str(splineHash)+\",ptot/0.139)\")"
   ]
  },
  {
   "cell_type": "code",
   "execution_count": null,
   "metadata": {},
   "outputs": [],
   "source": [
    "ROOT.AliTreePlayer"
   ]
  },
  {
   "cell_type": "code",
   "execution_count": null,
   "metadata": {},
   "outputs": [],
   "source": [
    "bokehDraw.verbosity=0\n",
    "#variables=\"elA:piA:kaA:prA:it:ptot:eta:selected:cent:sign\"\n",
    "varDraw=\"elA:piA:kaA:prA:elM:piM\"\n",
    "tooltips=[('Eta ','@eta'),('Centrality ','@cent'),(\"pTot\",\"@ptot\"),(\"Iteration\",\"@it\"), (\"elA\",\"@elA\"), (\"piA\",\"@piA\"), (\"kaA\",\"@kaA\"), (\"prA\",\"@prA\"),  (\"elM\",\"@elM\")]\n",
    "p3 = figure(plot_width=500, plot_height=300, title=\"template\")\n",
    "widgets=\"tab.cuts(slider.ptot(0.2,2.2,0.02,0.2,2.2),slider.eta(0,0.8,0.1,0.0,0.1),slider.cent(0,100,10,0,100),dropdown.it(0,1,2,3,4,5,6)),tab.sign(dropdown.sign(0,1,-1))\"\n",
    "xxx=bokehDraw(tree,\"selected>0&elA>1&piA>100&kaA>50&prA>1\",\"ptot\",varDraw,\"cent\",widgets,p3,commonX=1,size=4,ncols=2,nEntries=100000000,tooltip=tooltips, y_axis_type=\"log\")\n"
   ]
  },
  {
   "cell_type": "code",
   "execution_count": null,
   "metadata": {},
   "outputs": [],
   "source": [
    "bokehDraw?"
   ]
  },
  {
   "cell_type": "code",
   "execution_count": null,
   "metadata": {},
   "outputs": [],
   "source": [
    "tree.SetAlias(\"selected\",\"rndm<0.3&&elA>1&&piA>100&&kaA>50&&prA>1\")\n",
    "bokehDraw.verbosity=0\n",
    "variables=\"elA:piA:kaA:prA:it:ptot:eta:selected:cent:sign\"\n",
    "varDraw=\"piA:kaA:prA:elA:piM:prM\"\n",
    "tooltips=[('Eta ','@eta'),('Centrality ','@cent'),(\"pTot\",\"@ptot\"),(\"Iteration\",\"@it\")]\n",
    "layout=\"((0,1,2,x_visible=0),(3,4,5,plot_height=250),plot_width=1200,plot_height=250,y_visible=1)\"\n",
    "widgets=\"tab.cuts(slider.ptot(0.2,2.2,0.02,0.2,2.2),slider.eta(0,0.8,0.1,0.0),slider.cent(0,100,10,0,100),dropdown.it(0,1,2,3,4,5,6)),tab.sign(dropdown.sign(0,1,-1))\"\n",
    "xxx=bokehDraw(tree,\"selected>0\",\"ptot\",varDraw,\"cent\",widgets,0,commonX=1,size=4,nEntries=100000000,tooltip=tooltips,variables=variables, y_axis_type=\"log\", layout=layout)\n"
   ]
  },
  {
   "cell_type": "code",
   "execution_count": null,
   "metadata": {},
   "outputs": [],
   "source": [
    "bokehDraw.verbosity=0\n",
    "tree.SetAlias(\"splinePiRatio\",\"piM/splinePi\")\n",
    "#variables=\"elA:piA:kaA:prA:it:ptot:eta:selected:cent:sign\"\n",
    "#varDraw=\"piM:splinePi:splinePiRatio\"\n",
    "tooltips=[('Eta ','@eta'),('Centrality ','@cent'),(\"pTot\",\"@ptot\"),(\"Iteration\",\"@it\"), (\"elA\",\"@elA\"), (\"piA\",\"@piA\"), (\"kaA\",\"@kaA\"), (\"prA\",\"@prA\"),  (\"elM\",\"@elM\")]\n",
    "p3 = figure(plot_width=500, plot_height=300, title=\"template\")\n",
    "widgets=\"tab.cuts(slider.ptot(0.2,2.2,0.02,0.2,2.2),slider.eta(0,0.8,0.1,0.0,0.1),slider.cent(0,100,10,0,100),dropdown.it(0,1,2,3,4,5,6)),tab.sign(dropdown.sign(0,1,-1))\"\n",
    "xxx=bokehDraw(tree,\"selected>0&elA>1&piA>100&kaA>50&prA>1\",\"ptot\",varDraw,\"cent\",widgets,p3,commonX=1,size=4,ncols=2,nEntries=100000000,tooltip=tooltips, y_axis_type=\"log\")\n"
   ]
  },
  {
   "cell_type": "code",
   "execution_count": null,
   "metadata": {},
   "outputs": [],
   "source": [
    "bokehDraw?"
   ]
  },
  {
   "cell_type": "code",
   "execution_count": null,
   "metadata": {},
   "outputs": [],
   "source": []
  }
 ],
 "metadata": {
  "kernelspec": {
   "display_name": "Python 3",
   "language": "python",
   "name": "python3"
  },
  "language_info": {
   "codemirror_mode": {
    "name": "ipython",
    "version": 3
   },
   "file_extension": ".py",
   "mimetype": "text/x-python",
   "name": "python",
   "nbconvert_exporter": "python",
   "pygments_lexer": "ipython3",
   "version": "3.6.8"
  }
 },
 "nbformat": 4,
 "nbformat_minor": 2
}
