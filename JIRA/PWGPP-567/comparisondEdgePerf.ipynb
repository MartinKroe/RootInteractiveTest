{
 "cells": [
  {
   "cell_type": "markdown",
   "metadata": {},
   "source": [
    "### RootInteractive for comparison of 2015/2018 and MC 2018 anchor\n",
    "Juputer notebook tutorial/troubleshooting macro to visualize TPC performance and to create dynamic dashborads (standalone html files create in specified location)\n",
    "\n",
    "!!! IMPORTENT - TO NOTE - performance maps used in this example has a high granularity It is impossible to borwse all point interactivelly using bokeh client Depending on the browser setting - slowdonw is obdserved at ~ 50000 -100000 points\n",
    "\n",
    "* Load libraries\n",
    "* Load perormance trees for different periods\n",
    "* Define alias tree variables used in furtehr visualization\n",
    "* Make perfromance comparison dashboards"
   ]
  },
  {
   "cell_type": "code",
   "execution_count": null,
   "metadata": {},
   "outputs": [],
   "source": [
    "from RootInteractive.InteractiveDrawing.bokeh.bokehDrawSA import *\n",
    "from ROOT import TFile, AliTreePlayer, TStatToolkit,TCanvas\n",
    "from RootInteractive.Tools.aliTreePlayer import *\n",
    "from bokeh.io import curdoc,output_notebook\n",
    "output_notebook()\n",
    "import warnings\n",
    "from pprint import pprint\n",
    "from RootInteractive.MLpipeline.NDFunctionInterface import  DataContainer, Fitter"
   ]
  },
  {
   "cell_type": "code",
   "execution_count": null,
   "metadata": {},
   "outputs": [],
   "source": [
    "ROOT.TFile.SetCacheFileDir(\"../data/\")\n",
    "treeSec, treeList, fileList = LoadTrees(\"cat map.list\",\".*_dSec.*\",\"(.*proj.*|.*1Dist|.*2Dist)\",\".*\",0)\n",
    "#treeSec = AliTreePlayer.LoadTrees(\"cat map.list\",\".*_dSec.*\",\"(.*proj.*|.*1Dist|.*2Dist)\",\".*\",\"\",\"\")\n",
    "treeSec.SetAlias(\"qPt\",\"qPtCenter\")\n",
    "treeSec.SetAlias(\"dSector\",\"dSectorCenter\")\n",
    "treeSec.SetAlias(\"atgl\",\"atglCenter\")\n",
    "treeSec.SetAlias(\"multTPCClusterN\",\"multTPCClusterNCenter\")\n",
    "treeSec.SetAlias(\"selected\",\"LHC18l8a.hisnormChi2TPC_dSecDist.entries>50&&rndm<0.5\")\n",
    "AddMetadata(treeSec,\"dSector.AxisTitle\",\"x_sector (a.u.)\")\n",
    "AddMetadata(treeSec,\"qPt.AxisTitle\",\"x_sector (a.u.)\")\n",
    "AddMetadata(treeSec,\"atgl.AxisTitle\",\"pz/pt\")\n",
    "AddMetadata(treeSec,\"multTPCClusterN.AxisTitle\",\"Ncl/Ncl_central\")\n",
    "treeSec.Draw(\">>selectedList\",\"selected\",\"entrylist\")\n",
    "treeSec.SetEntryList(ROOT.gROOT.FindObject(\"selectedList\"))"
   ]
  },
  {
   "cell_type": "markdown",
   "metadata": {},
   "source": [
    "## Browse the content of the Tree DB (set of trees)\n",
    "* enable line below to get tree content"
   ]
  },
  {
   "cell_type": "code",
   "execution_count": null,
   "metadata": {},
   "outputs": [],
   "source": [
    "#print(RenderTree(treeSec.anyTree))\n",
    "# findSelectedBranches(treeSec,[\".*Center.*\"],exclude=[\".*LHC.*\",\".*log.*\"], columnMask=[[\"Center\",\"\"]])\n",
    "#findSelectedBranches(treeSec,[\".*LHC15o.*hi2.*\"],exclude=[\".*log.*\"], columnMask=[[\"Center\",\"\"]])\n",
    "#hisncrROCA_\n",
    "findSelectedBranches(treeSec,[\".*LHC15o.*ncrROCA.*\"],exclude=[\".*log.*\"], columnMask=[[\"Center\",\"\"]])"
   ]
  },
  {
   "cell_type": "markdown",
   "metadata": {},
   "source": [
    "# Select variables of interest\n",
    "*  local position - delta Sector\n",
    "*  pz/pt -atgl\n",
    "*  Q/pt  \n",
    "* TPC multiplicity norm. to central events"
   ]
  },
  {
   "cell_type": "code",
   "execution_count": null,
   "metadata": {},
   "outputs": [],
   "source": [
    "varMedian=[\".*Center\"]\n",
    "#print(findSelectedBranches(treeSec,varMedian,exclude=[\".*LHC.*\",\".*log.*\"], columnMask=[[\"Center\",\"\"]]))\n",
    "dfVariables=tree2Panda(treeSec,[\".*Center.*\"],\"entries>=0\",exclude=[\".*LHC.*\",\".*log.*\",\".*deltaP0.*\"], columnMask=[[\"Center\",\"\"]])\n",
    "varList=dfVariables.columns.values\n",
    "#print(\"Variable list:\", varList)\n",
    "dfVariables.head(2)\n",
    "varList2=[a for a in dfVariables.columns.values]\n",
    "varList2.remove(\"dSector\")\n",
    "pprint(list(varList))"
   ]
  },
  {
   "cell_type": "markdown",
   "metadata": {},
   "source": [
    "# Prepare the variable of interest to fit and visualize\n",
    "* In example below it is combined dEdx and IROC dEdx  for MIP particles\n",
    "* Random forest regression is used excluding deltaSector variable"
   ]
  },
  {
   "cell_type": "code",
   "execution_count": null,
   "metadata": {},
   "outputs": [],
   "source": [
    "findSelectedBranches(treeSec,[\".*LHC15o.*Chi2ITS.*binMedian.*\"],exclude=[\".*log.*\"], columnMask=[[\"Center\",\"\"]])"
   ]
  },
  {
   "cell_type": "code",
   "execution_count": null,
   "metadata": {},
   "outputs": [],
   "source": [
    "dfTPCChi2N=tree2Panda(treeSec,[\".*Chi2TPC.*entries\"],\"entries>=0\",exclude=[\".*entriesG.*\"],columnMask=[[\"_hisnormChi2TPC_dSecDist_entries\",\"Chi2TPCN\"]])\n",
    "dfTPCChi2NList=list(dfTPCChi2N.columns.values)\n",
    "dfITSChi2N=tree2Panda(treeSec,[\".*Chi2ITS.*entries\"],\"entries>=0\",exclude=[\".*entriesG.*\"],columnMask=[[\"_hisnormChi2ITS_dSecDist_entries\",\"Chi2ITSN\"]])\n",
    "dfITSChi2NList=list(dfITSChi2N.columns.values)\n",
    "dfTPCChi2=tree2Panda(treeSec,[\".*Chi2TPC.*binMedian\"],\"entries>=0\",columnMask=[[\"_hisnormChi2TPC_dSecDist_binMedian\",\"Chi2TPC\"]])\n",
    "dfTPCChi2List=list(dfTPCChi2.columns.values)\n",
    "dfITSChi2=tree2Panda(treeSec,[\".*Chi2ITS.*binMedian\"],\"entries>=0\",columnMask=[[\"_hisnormChi2ITS_dSecDist_binMedian\",\"Chi2ITS\"]])\n",
    "dfITSChi2List=list(dfITSChi2.columns.values)\n",
    "#\n",
    "#hisncrROCA_dSecDist\n",
    "dfTPCNcr=tree2Panda(treeSec,[\".*ncrROCA.*mean0\"],\"entries>=0\",exclude=[\".*meanG.*\"],columnMask=[[\"_hisncrROCA_dSecDist_mean\",\"Ncr\"]])\n",
    "dfTPCNcrList=list(dfTPCNcr.columns.values)\n",
    "\n",
    "\n",
    "#dfdEdx=pd.concat([dfdEdx, dfVariables],axis=1)\n",
    "#print(dfdEdxList)\n",
    "#dfdEdx.head(5)\n",
    "dfStat=tree2Panda(treeSec,[\".*hisdEdxMIP_dSecDist.*entries\"],\"entries>=0\",exclude=[\".*entriesG.*\"],columnMask=[[\"_hisdEdxMIP_dSecDist_entries\",\"N\"]])\n",
    "for a in dfStat.columns.values:\n",
    "    dfStat[a+\"S\"]=1/np.sqrt(1+dfStat[a])\n",
    "#print(dfStat.columns.values)  "
   ]
  },
  {
   "cell_type": "code",
   "execution_count": null,
   "metadata": {},
   "outputs": [],
   "source": [
    "dfdEdxList=dfTPCChi2NList+dfTPCChi2List+dfITSChi2List+dfTPCNcrList"
   ]
  },
  {
   "cell_type": "code",
   "execution_count": null,
   "metadata": {},
   "outputs": [],
   "source": [
    "df=pd.concat([dfVariables, dfTPCChi2N, dfITSChi2N,dfTPCChi2,dfITSChi2, dfTPCNcr],axis=1)\n",
    "npoints=df.shape[0]\n",
    "\n",
    "for varFit in dfTPCChi2NList+dfITSChi2NList+dfTPCChi2List+dfITSChi2List+dfTPCNcrList:\n",
    "    dataContainer = DataContainer(df,  varList2, varFit, [npoints//2,npoints//2]) \n",
    "    fitter = Fitter(dataContainer)\n",
    "    fitter.Register_Method('RF','RandomForest', 'Regressor', n_estimators=100, max_depth=10)\n",
    "    #fitter.Register_Method('RF200','RandomForest', 'Regressor', n_estimators=200, max_depth=10)\n",
    "    fitter.Fit()\n",
    "    fitter.AppendStatPandas(\"RF\",df,varFit)\n",
    "    #fitter.AppendStatPandas(\"RF200\",df,varFit)\n",
    "    #df[varFit+'RFPull']=(df[varFit]-df[varFit+\"RFMean\"])/df[varFit+\"RFRMS\"]"
   ]
  },
  {
   "cell_type": "code",
   "execution_count": null,
   "metadata": {},
   "outputs": [],
   "source": [
    "df.head(5)"
   ]
  },
  {
   "cell_type": "code",
   "execution_count": null,
   "metadata": {},
   "outputs": [],
   "source": [
    "tooltips=[ (a,\"@\"+a) for a in varList ]\n",
    "tooltips+=[ (a,\"@\"+a) for a in dfdEdxList]\n",
    "figureArray=[ [[\"dSector\"],[a+\"/\"+a+\"RFMedian\"],{\"colorZvar\":\"qPt\",\"size\":3}] for a in dfTPCChi2NList ]\n",
    "figureArray+=[ [[\"dSector\"],[a+\"/\"+a+\"RFMedian\"],{\"colorZvar\":\"qPt\",\"size\":3}] for a in dfITSChi2NList ]\n",
    "figureArray+=[ [[\"dSector\"],[a+\"\"],{\"colorZvar\":\"qPt\",\"size\":3}] for a in dfTPCChi2List ]\n",
    "figureArray+=[ [[\"dSector\"],[a+\"\"],{\"colorZvar\":\"qPt\",\"size\":3}] for a in dfITSChi2List ]           \n",
    "figureArray+=[[\"table\",{'include':'LHC15o'}]]\n",
    "\n",
    "#\n",
    "wIndex=0\n",
    "widgets=\"query.custom(),\"\n",
    "widgetList=[\n",
    "    ['slider', ['multTPCClusterN'],{'type':'unique'}],\n",
    "    ['range', ['dSector']],\n",
    "    ['slider', ['atgl'],{'type':'unique'}],\n",
    "    ['range', ['qPt']]\n",
    "]\n",
    "#\n",
    "widgetLayout=[]\n",
    "index=0\n",
    "for a in dfStat.columns.values: \n",
    "    if \"entriesS\" in a:\n",
    "        widgetList.append(['range',[a],{'bins':30}])\n",
    "#pprint(figureArray)        \n",
    "#pprint(widgetList)\n",
    "figureLayout=[\n",
    "    [0,1,2,3, {'commonX':1,'commonY':1,'y_visible':2}],\n",
    "    [4,5,6,7, {'commonX':1,'commonY':4,'y_visible':2}],\n",
    "    #[8,9,10,11,{'commonX':1,'commonY':8,'y_visible':2}],\n",
    "    #[12,{'plot_height':50}],\n",
    "    {'plot_height':400,'sizing_mode':'scale_width','legend_visible':False}\n",
    "]\n",
    "widgetLayout=[ [0,1], [2,3], {'sizing_mode':'scale_width'} ]\n",
    "output_file(\"compararisondEdxMC.html\") \n",
    "fig=bokehDrawSA.fromArray(df, \"abs(qPt)<2\", figureArray,widgetList,tooltips=tooltips, layout=figureLayout,widgetLayout=widgetLayout,sizing_mode=\"scale_width\") "
   ]
  },
  {
   "cell_type": "code",
   "execution_count": null,
   "metadata": {},
   "outputs": [],
   "source": [
    "tooltips=[ (a,\"@\"+a) for a in varList ]\n",
    "tooltips+=[ (a,\"@\"+a) for a in dfdEdxList]\n",
    "figureArray=[ [[\"dSector\"],[a+\"\"],{\"colorZvar\":\"qPt\",\"size\":3}] for a in dfTPCNcr ]\n",
    "figureArray+=[ [[\"dSector\"],[\"(\"+a+\"/\"+a+\"RFMedian)/(LHC18l8aChi2ITSN/LHC18l8aChi2ITSNRFMedian)\"],{\"colorZvar\":\"qPt\",\"size\":3}] for a in dfITSChi2NList ]\n",
    "figureArray+=[ [[\"dSector\"],[a+\"\"],{\"colorZvar\":\"qPt\",\"size\":3}] for a in dfTPCChi2List ]\n",
    "figureArray+=[ [[\"dSector\"],[a+\"\"],{\"colorZvar\":\"qPt\",\"size\":3}] for a in dfITSChi2List ]           \n",
    "figureArray+=[[\"table\",{'include':'LHC15o'}]]\n",
    "\n",
    "#\n",
    "wIndex=0\n",
    "widgets=\"query.custom(),\"\n",
    "widgetList=[\n",
    "    ['slider', ['multTPCClusterN'],{'type':'unique'}],\n",
    "    ['range', ['dSector']],\n",
    "    ['slider', ['atgl'],{'type':'unique'}],\n",
    "    ['range', ['qPt']]\n",
    "]\n",
    "#\n",
    "widgetLayout=[]\n",
    "index=0\n",
    "for a in dfStat.columns.values: \n",
    "    if \"entriesS\" in a:\n",
    "        widgetList.append(['range',[a],{'bins':30}])\n",
    "#pprint(figureArray)        \n",
    "#pprint(widgetList)\n",
    "figureLayout=[\n",
    "    [0,1,2,3, {'commonX':1,'commonY':1,'y_visible':2}],\n",
    "    [4,5,6,7, {'commonX':1,'commonY':4,'y_visible':2}],\n",
    "    {'plot_height':400,'sizing_mode':'scale_width','legend_visible':False}\n",
    "]\n",
    "widgetLayout=[ [0,1], [2,3], {'sizing_mode':'scale_width'} ]\n",
    "output_file(\"compararisondEdxMC.html\") \n",
    "fig=bokehDrawSA.fromArray(df, \"abs(qPt)<1\", figureArray,widgetList,tooltips=tooltips, layout=figureLayout,widgetLayout=widgetLayout,sizing_mode=\"scale_width\") "
   ]
  },
  {
   "cell_type": "code",
   "execution_count": null,
   "metadata": {},
   "outputs": [],
   "source": [
    "treeSec.Draw(\"LHC15o.hisncrROCA_dSecDist.binMedian\",\"\",\"\")\n",
    "ROOT.c1.Draw()"
   ]
  }
 ],
 "metadata": {
  "kernelspec": {
   "display_name": "Python 3",
   "language": "python",
   "name": "python3"
  },
  "language_info": {
   "codemirror_mode": {
    "name": "ipython",
    "version": 3
   },
   "file_extension": ".py",
   "mimetype": "text/x-python",
   "name": "python",
   "nbconvert_exporter": "python",
   "pygments_lexer": "ipython3",
   "version": "3.6.8"
  }
 },
 "nbformat": 4,
 "nbformat_minor": 2
}
