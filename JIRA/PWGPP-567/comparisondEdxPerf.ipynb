{
 "cells": [
  {
   "cell_type": "markdown",
   "metadata": {},
   "source": [
    "### RootInteractive for comparison of 2015/2018 and MC 2018 anchor\n",
    "Juputer notebook tutorial/troubleshooting macro to visualize TPC performance and to create dynamic dashborads (standalone html files create in specified location)\n",
    "\n",
    "!!! IMPORTENT - TO NOTE - performance maps used in this example has a high granularity It is impossible to borwse all point interactivelly using bokeh client Depending on the browser setting - slowdonw is obdserved at ~ 50000 -100000 points\n",
    "\n",
    "* Load libraries\n",
    "* Load perormance trees for different periods\n",
    "* Define alias tree variables used in furtehr visualization\n",
    "* Make perfromance comparison dashboards"
   ]
  },
  {
   "cell_type": "code",
   "execution_count": null,
   "metadata": {},
   "outputs": [],
   "source": [
    "from RootInteractive.InteractiveDrawing.bokeh.bokehDrawSA import *\n",
    "from ROOT import TFile, AliTreePlayer, TStatToolkit,TCanvas\n",
    "from RootInteractive.Tools.aliTreePlayer import *\n",
    "from bokeh.io import curdoc,output_notebook\n",
    "output_notebook()\n",
    "import warnings\n",
    "from pprint import pprint\n",
    "from RootInteractive.MLpipeline.NDFunctionInterface import  DataContainer, Fitter"
   ]
  },
  {
   "cell_type": "code",
   "execution_count": null,
   "metadata": {},
   "outputs": [],
   "source": [
    "ROOT.TFile.SetCacheFileDir(\"../data/\")\n",
    "treeSec, treeList, fileList = LoadTrees(\"cat map.list\",\".*_dSec.*\",\"(.*proj.*|.*1Dist|.*2Dist)\",\".*\",0)\n",
    "#treeSec = AliTreePlayer.LoadTrees(\"cat map.list\",\".*_dSec.*\",\"(.*proj.*|.*1Dist|.*2Dist)\",\".*\",\"\",\"\")\n",
    "treeSec.SetAlias(\"qPt\",\"qPtCenter\")\n",
    "treeSec.SetAlias(\"dSector\",\"dSectorCenter\")\n",
    "treeSec.SetAlias(\"atgl\",\"atglCenter\")\n",
    "treeSec.SetAlias(\"multTPCClusterN\",\"multTPCClusterNCenter\")\n",
    "treeSec.SetAlias(\"selected\",\"LHC18l8a.hisnormChi2TPC_dSecDist.entries>50&&rndm<0.5\")\n",
    "AddMetadata(treeSec,\"dSector.AxisTitle\",\"x_sector (a.u.)\")\n",
    "AddMetadata(treeSec,\"qPt.AxisTitle\",\"x_sector (a.u.)\")\n",
    "AddMetadata(treeSec,\"atgl.AxisTitle\",\"pz/pt\")\n",
    "AddMetadata(treeSec,\"multTPCClusterN.AxisTitle\",\"Ncl/Ncl_central\")\n",
    "treeSec.Draw(\">>selectedList\",\"selected\",\"entrylist\")\n",
    "treeSec.SetEntryList(ROOT.gROOT.FindObject(\"selectedList\"))"
   ]
  },
  {
   "cell_type": "markdown",
   "metadata": {},
   "source": [
    "## Browse the content of the Tree DB (set of trees)\n",
    "* enable line below to get tree content"
   ]
  },
  {
   "cell_type": "code",
   "execution_count": null,
   "metadata": {},
   "outputs": [],
   "source": [
    "# print(RenderTree(treeSec.anyTree))\n",
    "# findSelectedBranches(treeSec,[\".*Center.*\"],exclude=[\".*LHC.*\",\".*log.*\"], columnMask=[[\"Center\",\"\"]])\n",
    "findSelectedBranches(treeSec,[\".*LHC15o.*hisQMaxMIP0.*\"],exclude=[\".*log.*\"], columnMask=[[\"Center\",\"\"]])"
   ]
  },
  {
   "cell_type": "markdown",
   "metadata": {},
   "source": [
    "# Select variables of interest\n",
    "*  local position - delta Sector\n",
    "*  pz/pt -atgl\n",
    "*  Q/pt  \n",
    "* TPC multiplicity norm. to central events"
   ]
  },
  {
   "cell_type": "code",
   "execution_count": null,
   "metadata": {},
   "outputs": [],
   "source": [
    "varMedian=[\".*Center\"]\n",
    "print(findSelectedBranches(treeSec,varMedian,exclude=[\".*LHC.*\",\".*log.*\"], columnMask=[[\"Center\",\"\"]]))\n",
    "dfVariables=tree2Panda(treeSec,[\".*Center.*\"],\"entries>=0\",exclude=[\".*LHC.*\",\".*log.*\",\".*deltaP0.*\"], columnMask=[[\"Center\",\"\"]])\n",
    "varList=dfVariables.columns.values\n",
    "print(\"Variable list:\", varList)\n",
    "print(dfVariables.head(2))\n",
    "varList2=[a for a in dfVariables.columns.values]\n",
    "varList2.remove(\"dSector\")\n",
    "print(varList, varList2)"
   ]
  },
  {
   "cell_type": "markdown",
   "metadata": {},
   "source": [
    "# Prepare the variable of interest to fit and visualize\n",
    "* In example below it is combined dEdx and IROC dEdx  for MIP particles\n",
    "* Random forest regression is used excluding deltaSector variable"
   ]
  },
  {
   "cell_type": "code",
   "execution_count": null,
   "metadata": {},
   "outputs": [],
   "source": [
    "dfdEdx=tree2Panda(treeSec,[\".*hisdEdxMIP_dSecDist.*binMedian\"],\"entries>=0\",columnMask=[[\"_hisdEdxMIP_dSecDist_binMedian\",\"dEdx\"]])\n",
    "dfdEdxList=list(dfdEdx.columns.values)\n",
    "dfdEdx0=tree2Panda(treeSec,[\".*QMaxMIP0_dSecDist.*binMedian\"],\"entries>=0\",columnMask=[[\"_hisQMaxMIP0_dSecDist_binMedian\",\"IROC\"]])\n",
    "dfdEdx0List=list(dfdEdx0.columns.values)\n",
    "\n",
    "#dfdEdx=pd.concat([dfdEdx, dfVariables],axis=1)\n",
    "#print(dfdEdxList)\n",
    "#print(dfdEdx.head(5))\n",
    "dfStat=tree2Panda(treeSec,[\".*hisdEdxMIP_dSecDist.*entries\"],\"entries>=0\",exclude=[\".*entriesG.*\"],columnMask=[[\"_hisdEdxMIP_dSecDist_entries\",\"N\"]])\n",
    "for a in dfStat.columns.values:\n",
    "    dfStat[a+\"S\"]=1/np.sqrt(1+dfStat[a])\n",
    "#print(dfStat.columns.values)\n",
    "#print(dfStat.head(5))  "
   ]
  },
  {
   "cell_type": "code",
   "execution_count": null,
   "metadata": {},
   "outputs": [],
   "source": [
    "treeSec.Draw(\"entries\",\"entries>0\")"
   ]
  },
  {
   "cell_type": "code",
   "execution_count": null,
   "metadata": {},
   "outputs": [],
   "source": [
    "df=pd.concat([dfVariables, dfdEdx, dfdEdx0, dfStat],axis=1)\n",
    "npoints=df.shape[0]\n",
    "\n",
    "\n",
    "for varFit in dfdEdxList+dfdEdx0List:\n",
    "    dataContainer = DataContainer(df,  varList2, varFit, [npoints//2,npoints//2]) \n",
    "    fitter = Fitter(dataContainer)\n",
    "    fitter.Register_Method('RF','RandomForest', 'Regressor', n_estimators=100, max_depth=10)\n",
    "    #fitter.Register_Method('RF200','RandomForest', 'Regressor', n_estimators=200, max_depth=10)\n",
    "    fitter.Fit()\n",
    "    fitter.AppendStatPandas(\"RF\",df,varFit)\n",
    "    #fitter.AppendStatPandas(\"RF200\",df,varFit)\n",
    "    #df[varFit+'RFPull']=(df[varFit]-df[varFit+\"RFMean\"])/df[varFit+\"RFRMS\"]"
   ]
  },
  {
   "cell_type": "code",
   "execution_count": null,
   "metadata": {},
   "outputs": [],
   "source": [
    "df.head(5)"
   ]
  },
  {
   "cell_type": "code",
   "execution_count": null,
   "metadata": {},
   "outputs": [],
   "source": [
    "tooltips=[ (a,\"@\"+a) for a in varList ]\n",
    "tooltips+=[ (a,\"@\"+a) for a in dfdEdxList]\n",
    "figureArray=[ [[\"dSector\"],[a+\"-\"+a+\"RFMean\"],{\"colorZvar\":\"qPt\",\"size\":5}] for a in dfdEdxList ]\n",
    "figureArray+=[ [[\"dSector\"],[a+\"-\"+a+\"RFMean\"],{\"colorZvar\":\"qPt\",\"size\":5}] for a in dfdEdx0List ]\n",
    "figureArray+=[[\"table\",{'include':'LHC15o'}]]\n",
    "\n",
    "#\n",
    "wIndex=0\n",
    "widgets=\"query.custom(),\"\n",
    "widgetList=[\n",
    "    ['slider', ['multTPCClusterN'],{'type':'unique'}],\n",
    "    ['range', ['dSector']],\n",
    "    ['slider', ['atgl'],{'type':'unique'}],\n",
    "    ['range', ['qPt']]\n",
    "]\n",
    "#\n",
    "widgetLayout=[]\n",
    "index=0\n",
    "for a in dfStat.columns.values: \n",
    "    if \"entriesS\" in a:\n",
    "        widgetList.append(['range',[a],{'bins':30}])\n",
    "#pprint(figureArray)        \n",
    "#pprint(widgetList)\n",
    "figureLayout=[\n",
    "    [0,1,2,3, {'commonX':1,'commonY':1,'y_visible':2,'plot_height':400}],\n",
    "    [4,5,6,7, {'commonX':1,'commonY':4,'y_visible':2,'plot_height':400}],\n",
    "    #[4,5,6,7, {'plot_height':300}],\n",
    "    [8,{'plot_height':50}],\n",
    "    {'plot_height':400,'sizing_mode':'scale_width','legend_visible':False}\n",
    "]\n",
    "widgetLayout=[ [0,1], [2,3], {'sizing_mode':'scale_width'} ]"
   ]
  },
  {
   "cell_type": "code",
   "execution_count": null,
   "metadata": {},
   "outputs": [],
   "source": [
    "output_file(\"compararisondEdxMC.html\") \n",
    "fig=bokehDrawSA.fromArray(df, \"abs(qPt)<2\", figureArray,widgetList,tooltips=tooltips, layout=figureLayout,widgetLayout=widgetLayout,sizing_mode=\"scale_width\") "
   ]
  }
 ],
 "metadata": {
  "kernelspec": {
   "display_name": "Python 3",
   "language": "python",
   "name": "python3"
  },
  "language_info": {
   "codemirror_mode": {
    "name": "ipython",
    "version": 3
   },
   "file_extension": ".py",
   "mimetype": "text/x-python",
   "name": "python",
   "nbconvert_exporter": "python",
   "pygments_lexer": "ipython3",
   "version": "3.6.8"
  }
 },
 "nbformat": 4,
 "nbformat_minor": 2
}
