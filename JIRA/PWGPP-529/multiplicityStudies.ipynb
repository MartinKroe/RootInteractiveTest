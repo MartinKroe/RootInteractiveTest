{
 "cells": [
  {
   "cell_type": "markdown",
   "metadata": {},
   "source": [
    "# Performance maps MC/data comparison - main focus explaining performance maps data access\n",
    "Comparison of conversion points in the MC and data\n",
    "\n",
    "### Content:\n",
    "* 0.) Load libraries\n",
    "* 1.) Load input treeand define some derived variables/aliases\n",
    "* 2.) Example search of variables and filtering (to define input data to show)\n",
    "* 3.) Dedined dervide variables - currently bokehDraw does not support functions (could be added)\n",
    "* 4.) Static drawing using Root functionality\n",
    "* 5.) Example - interactive exploring of the perfomance maps \n",
    "  * Example using multipot with interactive legend"
   ]
  },
  {
   "cell_type": "markdown",
   "metadata": {},
   "source": [
    "### 0.) Load libraries"
   ]
  },
  {
   "cell_type": "code",
   "execution_count": null,
   "metadata": {},
   "outputs": [],
   "source": [
    "from RootInteractive.InteractiveDrawing.bokeh.bokehDraw import *\n",
    "from RootInteractive.InteractiveDrawing.bokeh.bokehDrawPanda import *\n",
    "from RootInteractive.InteractiveDrawing.bokeh.bokehTools import *\n",
    "from RootInteractive.Tools.aliTreePlayer import *\n",
    "from RootInteractive.TTreeHnInteractive.TTreeHnBrowser import *\n",
    "output_notebook()\n",
    "c = ROOT.TCanvas(\"c\", \"c\", 600, 400)"
   ]
  },
  {
   "cell_type": "code",
   "execution_count": null,
   "metadata": {},
   "outputs": [],
   "source": [
    "ROOT.gSystem.pwd()"
   ]
  },
  {
   "cell_type": "markdown",
   "metadata": {},
   "source": [
    "### 1.) Load input tree and define some derived variables/aliases using **Regular expression filters**\n",
    "* see [Performance studies demo. Data access](JIRA/ADQT-4/performanceMapDemo.ipynb) for details"
   ]
  },
  {
   "cell_type": "code",
   "execution_count": null,
   "metadata": {},
   "outputs": [],
   "source": [
    "ROOT.TFile.SetCacheFileDir(\"../data/\")\n",
    "tree, treeList, fileList = LoadTrees(\"cat map.list\", \".*\", \".*Time.*\", \".*\", 0)"
   ]
  },
  {
   "cell_type": "markdown",
   "metadata": {},
   "source": [
    "### 2.) Example search of variables and filtering\n",
    "* using Root TTree functionality (only printing)\n",
    "* using Python tree functionality (aliTreePlayer.py +anytree)\n",
    "  * can be used in user code as an iterator "
   ]
  },
  {
   "cell_type": "code",
   "execution_count": null,
   "metadata": {},
   "outputs": [],
   "source": [
    "tree.GetListOfFriends().Print(\"\", \"*LHC18q*tpc*CentV0*MB*\")"
   ]
  },
  {
   "cell_type": "code",
   "execution_count": null,
   "metadata": {},
   "outputs": [],
   "source": [
    "branchTree = treeToAnyTree(tree)\n",
    "print(findSelectedBranch(branchTree, \".*LHC18q.*htpc.*\"))"
   ]
  },
  {
   "cell_type": "markdown",
   "metadata": {},
   "source": [
    "### 3.) Dedined dervide variables - currently bokehDraw does not support functions and dots in column names (support will  be added)"
   ]
  },
  {
   "cell_type": "code",
   "execution_count": null,
   "metadata": {},
   "outputs": [],
   "source": [
    "tree.SetAlias(\"LHC18q_htpcMultZCentV0TMBDist_entries\", \"LHC18q.htpcMultZCentV0TMBDist.entries\")\n",
    "#\n",
    "tree.SetAlias(\"LHC18q_htpcMultZCentV0TMBDist_mean\", \"LHC18q.htpcMultZCentV0TMBDist.mean\")\n",
    "tree.SetAlias(\"LHC18q_htpcClusterMultZCentV0TMBDist_mean\", \"LHC18q.htpcClusterMultZCentV0TMBDist.mean\")\n",
    "tree.SetAlias(\"LHC18q_htpcTrackBeforeCleanZCentV0TMBDist_mean\", \"LHC18q.htpcTrackBeforeCleanZCentV0TMBDist.mean\")\n",
    "#\n",
    "tree.SetAlias(\"LHC18q_hReltpcMultZCentV0TMBDist_mean\", \"LHC18q.hReltpcMultZCentV0TMBDist.mean\")\n",
    "tree.SetAlias(\"LHC18q_hReltpcClusterMultZCentV0TMBDist_mean\", \"LHC18q.hReltpcClusterMultZCentV0TMBDist.mean\")\n",
    "tree.SetAlias(\"LHC18q_hReltpcTrackBeforeCleanZCentV0TMBDist_mean\", \"LHC18q.hReltpcTrackBeforeCleanZCentV0TMBDist.mean\")"
   ]
  },
  {
   "cell_type": "markdown",
   "metadata": {},
   "source": [
    "### 4.) Static drawing using Root functionality\n",
    "* checking relative multiplicity (Estimator/SSD estimator)"
   ]
  },
  {
   "cell_type": "code",
   "execution_count": null,
   "metadata": {},
   "outputs": [],
   "source": [
    "tree.Draw(\"LHC18q_hReltpcMultZCentV0TMBDist_mean:LHC18q_hReltpcClusterMultZCentV0TMBDist_mean\",\"LHC18q.htpcMultZCentV0TMBDist.entries>10\")\n",
    "c.Draw()"
   ]
  },
  {
   "cell_type": "markdown",
   "metadata": {},
   "source": [
    "### 5.) Example - interactive exploring of the perfomance maps"
   ]
  },
  {
   "cell_type": "code",
   "execution_count": null,
   "metadata": {},
   "outputs": [],
   "source": [
    "bokehDraw.verbose = 0\n",
    "selection = \"LHC18q_htpcMultZCentV0TMBDist_entries>100\"\n",
    "varDraw = \"(LHC18q_hReltpcMultZCentV0TMBDist_mean,LHC18q_hReltpcClusterMultZCentV0TMBDist_mean,LHC18q_hReltpcTrackBeforeCleanZCentV0TMBDist_mean):\"\n",
    "varDraw+=\"LHC18q_hReltpcClusterMultZCentV0TMBDist_mean:LHC18q_hReltpcClusterMultZCentV0TMBDist_mean:LHC18q_hReltpcTrackBeforeCleanZCentV0TMBDist_mean\"\n",
    "tooltips = [(\"LHC18q_hReltpcMultZCentV0TMBDist_mean\",\"@LHC18q_hReltpcMultZCentV0TMBDist_mean\")]\n",
    "widgets = ( \"tab.sliders(slider.centV0Center(0,100,1,0,100), slider.spdvzCenter(-12,12,0.5,-12,12))\")\n",
    "layout = \"((0,plot_height=400),(1),(2),(3), commonX=1,x_visible=,plot_height=150,plot_width=1000)\"\n",
    "xxx = bokehDraw(tree, selection, \"LHC18q_htpcMultZCentV0TMBDist_mean\", varDraw, \"spdvzCenter\",widgets, 0,commonX=1, size=4,tooltip=tooltips,layout=layout)"
   ]
  },
  {
   "cell_type": "code",
   "execution_count": null,
   "metadata": {},
   "outputs": [],
   "source": []
  }
 ],
 "metadata": {
  "kernelspec": {
   "display_name": "Python 3",
   "language": "python",
   "name": "python3"
  },
  "language_info": {
   "codemirror_mode": {
    "name": "ipython",
    "version": 3
   },
   "file_extension": ".py",
   "mimetype": "text/x-python",
   "name": "python",
   "nbconvert_exporter": "python",
   "pygments_lexer": "ipython3",
   "version": "3.6.8"
  }
 },
 "nbformat": 4,
 "nbformat_minor": 2
}
